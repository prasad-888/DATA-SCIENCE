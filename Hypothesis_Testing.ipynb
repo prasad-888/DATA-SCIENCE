{
  "nbformat": 4,
  "nbformat_minor": 0,
  "metadata": {
    "colab": {
      "provenance": []
    },
    "kernelspec": {
      "name": "python3",
      "display_name": "Python 3"
    },
    "language_info": {
      "name": "python"
    }
  },
  "cells": [
    {
      "cell_type": "markdown",
      "source": [
        "# Hypothesis Testing in Statistics\n",
        "\n",
        "## Introduction to Hypothesis Testing\n",
        "Hypothesis testing is a method used to determine if there is enough statistical evidence in a sample to infer that a certain condition is true for the entire population. It is a key technique in inferential statistics, helping to make decisions based on sample data.\n",
        "\n",
        "**Key Terms:**\n",
        "  - *Null Hypothesis (H₀):* The hypothesis that there is no effect or no difference.\n",
        "\n",
        "  - *Alternative Hypothesis (H₁)*: The hypothesis that there is an effect or a difference.\n",
        "\n",
        "  - *Significance Level (α)*: The probability of rejecting the null hypothesis when it is actually true. Common values are 0.05, 0.01.\n",
        "\n",
        "  - *p value*: The probability of observing the data, or something more extreme, if the null hypothesis is true. If the p-value is less than α, reject the null hypothesis.\n",
        "  \n",
        "<div align=\"center\">  \n",
        "  \n",
        "| Hypothesis   | Accept/Reject          |\n",
        "|--------------|------------------------|\n",
        "|p-value < 0.05|Reject H₀ (Accept H₁)   |\n",
        "|p-value >=0.05|Accept H₀ (Reject H₀)   |\n",
        "\n",
        "</div>"
      ],
      "metadata": {
        "id": "fRgEuoBXISr1"
      }
    },
    {
      "cell_type": "markdown",
      "source": [
        "## Types of Hypothesis Tests\n",
        "\n",
        "###  `Z-Test`\n",
        "A `Z-test` is used when the population variance is known, or the sample size is large (n > 30). It checks whether the means of two large samples are different.\n",
        "\n",
        "---\n",
        "\n",
        "**Example: Testing the Average Height of Males in India**\n",
        "\n",
        "\n",
        "Assume you want to test whether the average height of males in India differs from 5'7\" (170 cm).\n",
        "\n",
        "\n",
        "\n",
        "- *Null Hypothesis (H₀)*: The average height of males in India is 170 cm.\n",
        "\n",
        "- *Alternative Hypothesis (H₁)*: The average height of males in India is not 170 cm."
      ],
      "metadata": {
        "id": "-mRLG5qAI2u_"
      }
    },
    {
      "cell_type": "code",
      "execution_count": null,
      "metadata": {
        "colab": {
          "base_uri": "https://localhost:8080/"
        },
        "id": "Pq1tpAq5IMAh",
        "outputId": "1c608e64-eebd-4950-8b83-322e1d6e0222"
      },
      "outputs": [
        {
          "output_type": "stream",
          "name": "stdout",
          "text": [
            "Z-statistic: 0.5222329678670935\n",
            "p-value: 0.6015081344405899\n"
          ]
        }
      ],
      "source": [
        "import numpy as np\n",
        "from scipy import stats\n",
        "\n",
        "# Sample data: heights of 50 males in India\n",
        "heights = np.array([172, 167, 171, 175, 169, 170, 168, 173, 174, 166])\n",
        "\n",
        "# Population mean and standard deviation\n",
        "population_mean = 170\n",
        "sample_mean = np.mean(heights)\n",
        "sample_std = np.std(heights, ddof=1)\n",
        "n = len(heights)\n",
        "\n",
        "# Z-test calculation\n",
        "z_statistic = (sample_mean - population_mean) / (sample_std / np.sqrt(n))\n",
        "p_value = 2 * (1 - stats.norm.cdf(abs(z_statistic)))\n",
        "\n",
        "print(f\"Z-statistic: {z_statistic}\")\n",
        "print(f\"p-value: {p_value}\")\n"
      ]
    },
    {
      "cell_type": "markdown",
      "source": [
        "As we can see p-value is far more greater than 0.05 we can accept H₀(Null Hypothesis)"
      ],
      "metadata": {
        "id": "D6cVedTvNo33"
      }
    },
    {
      "cell_type": "markdown",
      "source": [
        "##  T-Test\n",
        "\n",
        "A `T-test` is used when:\n",
        "\n",
        "- The sample size is small (n < 30).\n",
        "\n",
        "- The population standard deviation is unknown.\n",
        "\n",
        "- There are three types of `T-tests`:\n",
        "\n",
        "  - `One-sample T-test`\n",
        "  - `Independent two-sample T-test`\n",
        "  - `Paired T-test`\n",
        "\n",
        "\n",
        "###  `One-Sample T-Test`\n",
        "\n",
        "A `one-sample T-test` tests whether the mean of a single sample differs significantly from a known or hypothesized population mean.\n",
        "\n",
        "---\n",
        "\n",
        "**Example: Testing the Average Age of Employees in an Indian Tech Company.**\n",
        "\n",
        "Let's assume you want to test whether the average age of employees in a company differs from 30 years.\n",
        "\n",
        "- *Null Hypothesis (H₀)*: The average age of employees is 30.\n",
        "\n",
        "- *Alternative Hypothesis (H₁)*: The average age of employees is not 30."
      ],
      "metadata": {
        "id": "fpeuWw8oJy6m"
      }
    },
    {
      "cell_type": "code",
      "source": [
        "from scipy import stats\n",
        "\n",
        "# Sample data: ages of employees in an Indian tech company\n",
        "ages = [28, 32, 29, 31, 27, 33, 34, 30, 29, 32]\n",
        "\n",
        "# Population mean\n",
        "population_mean = 30\n",
        "\n",
        "# Perform one-sample t-test\n",
        "t_statistic, p_value = stats.ttest_1samp(ages, population_mean)\n",
        "\n",
        "print(f\"T-statistic: {t_statistic}\")\n",
        "print(f\"p-value: {p_value}\")"
      ],
      "metadata": {
        "colab": {
          "base_uri": "https://localhost:8080/"
        },
        "id": "usvREGwJJwRq",
        "outputId": "369430e3-64d2-46f6-de8e-3815dfce51b0"
      },
      "execution_count": null,
      "outputs": [
        {
          "output_type": "stream",
          "name": "stdout",
          "text": [
            "T-statistic: 0.6956083436402524\n",
            "p-value: 0.5042379030441878\n"
          ]
        }
      ]
    },
    {
      "cell_type": "markdown",
      "source": [
        "We can conclude from above result that p-value is greater than significance level(i.e.- 0.05) hence we will accept H₀(Null Hypothesis)."
      ],
      "metadata": {
        "id": "oaJumiuNOQmx"
      }
    },
    {
      "cell_type": "markdown",
      "source": [
        "###  `Independent Two-Sample T-Test`\n",
        "\n",
        "An `independent two-sample T-test` compares the means of two independent groups to see if there is a statistically significant difference between them.\n",
        "\n",
        "---\n",
        "\n",
        "**Example: Comparing Test Scores Between Students in Two Indian Cities**\n",
        "\n",
        "Assume you want to compare the test scores of students from Delhi and Bangalore.\n",
        "\n",
        "- *Null Hypothesis (H₀)*: The average test scores are the same for both cities.\n",
        "- *Alternative Hypothesis (H₁)*: The average test scores are different."
      ],
      "metadata": {
        "id": "-w4quUzKKoo2"
      }
    },
    {
      "cell_type": "code",
      "source": [
        "from scipy import stats\n",
        "\n",
        "# Sample test scores for students in Delhi and Bangalore\n",
        "delhi_scores = [88, 92, 85, 90, 91, 87]\n",
        "bangalore_scores = [84, 86, 89, 83, 85, 88]\n",
        "\n",
        "# Perform independent t-test\n",
        "t_statistic, p_value = stats.ttest_ind(delhi_scores, bangalore_scores)\n",
        "\n",
        "print(f\"T-statistic: {t_statistic}\")\n",
        "print(f\"p-value: {p_value}\")"
      ],
      "metadata": {
        "colab": {
          "base_uri": "https://localhost:8080/"
        },
        "id": "bzLi0vrQKkF8",
        "outputId": "894d6dbe-f30a-489c-95b2-8ab2310f03b6"
      },
      "execution_count": null,
      "outputs": [
        {
          "output_type": "stream",
          "name": "stdout",
          "text": [
            "T-statistic: 2.092457497388747\n",
            "p-value: 0.06286899974610866\n"
          ]
        }
      ]
    },
    {
      "cell_type": "markdown",
      "source": [
        "Above result shows us p-value >0.05 hence we will accept H₀(Null Hypothesis)."
      ],
      "metadata": {
        "id": "yCIIT1aNOw9z"
      }
    },
    {
      "cell_type": "markdown",
      "source": [
        "###  `Paired T-Test`\n",
        "\n",
        "A `paired T-test` is used to compare the means of the same group at two different times or under two different conditions. This test is often used in \"before and after\" experiments.\n",
        "\n",
        "---\n",
        "\n",
        "**Example: Effect of a New Teaching Method on Students’ Scores**\n",
        "\n",
        "Suppose you want to test if a new teaching method has improved students' test scores. You have test scores before and after applying the new method.\n",
        "\n",
        "  - *Null Hypothesis (H₀)*: The new teaching method has no effect on test scores.\n",
        "  - *Alternative Hypothesis (H₁)*: The new teaching method improves test scores."
      ],
      "metadata": {
        "id": "Iq_gx6nrLL5T"
      }
    },
    {
      "cell_type": "code",
      "source": [
        "from scipy import stats\n",
        "\n",
        "# Sample data: test scores before and after the new teaching method\n",
        "before_scores = [75, 78, 72, 74, 77, 80]\n",
        "after_scores = [78, 82, 76, 79, 81, 85]\n",
        "\n",
        "# Perform paired t-test\n",
        "t_statistic, p_value = stats.ttest_rel(before_scores, after_scores)\n",
        "\n",
        "print(f\"T-statistic: {t_statistic}\")\n",
        "print(f\"[-value: {p_value}\")"
      ],
      "metadata": {
        "colab": {
          "base_uri": "https://localhost:8080/"
        },
        "id": "ppH_lGAVLJh4",
        "outputId": "3e190218-3fc8-4bff-ba36-ed6dedee51a3"
      },
      "execution_count": null,
      "outputs": [
        {
          "output_type": "stream",
          "name": "stdout",
          "text": [
            "T-statistic: -13.558153613666013\n",
            "[-value: 3.911248690451021e-05\n"
          ]
        }
      ]
    },
    {
      "cell_type": "markdown",
      "source": [
        "As the p-value is way too below our significance level(0.05) we will reject H₀ (accept H₁)."
      ],
      "metadata": {
        "id": "Po2PA6wFPjyV"
      }
    },
    {
      "cell_type": "markdown",
      "source": [
        "##  `Chi-Square Test`\n",
        "\n",
        "A `Chi-square test` is used to examine the association between two categorical variables or to test the goodness of fit.\n",
        "\n",
        "---\n",
        "\n",
        "**Example: Testing the Relationship Between Education Level and Job Preference**\n",
        "\n",
        "Suppose you want to examine if education level (Graduate or Postgraduate) is related to job preference (Private sector or Government job) in a sample of 100 individuals.\n",
        "\n",
        "\n",
        "  - *Null Hypothesis (H₀)*: There is no relationship between education level and job preference.\n",
        "\n",
        "  - *Alternative Hypothesis (H₁)*: There is a relationship between education level and job preference."
      ],
      "metadata": {
        "id": "KZkgsDa_LgRJ"
      }
    },
    {
      "cell_type": "code",
      "source": [
        "import numpy as np\n",
        "from scipy.stats import chi2_contingency\n",
        "\n",
        "# Contingency table of education level and job preference\n",
        "data = np.array([[30, 20], [25, 25]])\n",
        "\n",
        "# Perform Chi-square test\n",
        "chi2, p_value, dof, expected = chi2_contingency(data)\n",
        "\n",
        "print(f\"Chi-square statistic: {chi2}\")\n",
        "print(f\"p-value: {p_value}\")\n"
      ],
      "metadata": {
        "colab": {
          "base_uri": "https://localhost:8080/"
        },
        "id": "PZJqU4_jLdlx",
        "outputId": "e87ac6c4-0294-4972-f603-be7dbbb6c4bb"
      },
      "execution_count": null,
      "outputs": [
        {
          "output_type": "stream",
          "name": "stdout",
          "text": [
            "Chi-square statistic: 0.6464646464646464\n",
            "P-value: 0.4213795037428696\n"
          ]
        }
      ]
    },
    {
      "cell_type": "markdown",
      "source": [
        "As the result of our chi-square test shows us that the p-value is greate than 0.05 we will accept the H₀ (Null Hypothesis)."
      ],
      "metadata": {
        "id": "RGZpmVNyW355"
      }
    },
    {
      "cell_type": "markdown",
      "source": [
        "##  `ANOVA` (Analysis of Variance)\n",
        "\n",
        "`ANOVA` is used to compare means across multiple groups to see if there is a significant difference. It is useful when comparing more than two groups.\n",
        "\n",
        "---\n",
        "\n",
        "**Example: Comparing Monthly Salaries Across Three Industries**\n",
        "\n",
        "Assume you want to compare the monthly salaries of employees across three industries: IT, Manufacturing, and Healthcare.\n",
        "\n",
        "  - *Null Hypothesis (H₀)*: The average monthly salary is the same across all industries.\n",
        "\n",
        "  - *Alternative Hypothesis (H₁)*: The average monthly salary is different for at least one industry."
      ],
      "metadata": {
        "id": "oNlez3qoLvsS"
      }
    },
    {
      "cell_type": "code",
      "source": [
        "from scipy import stats\n",
        "\n",
        "# Sample monthly salaries for employees in three industries\n",
        "it_salaries = [50000, 55000, 52000, 58000, 57000]\n",
        "manufacturing_salaries = [48000, 49000, 51000, 53000, 52000]\n",
        "healthcare_salaries = [54000, 56000, 55000, 57000, 58000]\n",
        "\n",
        "# Perform one-way ANOVA\n",
        "f_statistic, p_value = stats.f_oneway(it_salaries, manufacturing_salaries, healthcare_salaries)\n",
        "\n",
        "print(f\"F-statistic: {f_statistic}\")\n",
        "print(f\"p-value: {p_value}\")\n"
      ],
      "metadata": {
        "colab": {
          "base_uri": "https://localhost:8080/"
        },
        "id": "2zVTrPphLtAu",
        "outputId": "de652fd3-4cfb-42e7-d11f-63fb170a8cc5"
      },
      "execution_count": null,
      "outputs": [
        {
          "output_type": "stream",
          "name": "stdout",
          "text": [
            "F-statistic: 6.375690607734808\n",
            "p-value: 0.012986461774327282\n"
          ]
        }
      ]
    },
    {
      "cell_type": "markdown",
      "source": [
        "As we can see p-value is far slightly lower than 0.05 we can reject H₀(accept H₁ Hypothesis)."
      ],
      "metadata": {
        "id": "fzyDx4jWXMZW"
      }
    },
    {
      "cell_type": "markdown",
      "source": [
        "## Conclusion\n",
        "\n",
        "Hypothesis testing provides a framework for making decisions about population parameters based on sample data. Different tests like Z-tests, T-tests, Chi-square tests, and ANOVA are used based on the nature of the data and the hypothesis. The results of these tests are typically expressed in terms of the test statistic and the p-value, which help decide whether to reject or fail to reject the null hypothesis.\n",
        "\n",
        "\n",
        "**Table of test which test to use when**\n",
        "\n",
        "<div align = 'center'>\n",
        "\n",
        "|Type of Data|Categorical          |Continuous            |\n",
        "|------------|---------------------|----------------------|\n",
        "|Categorical | Chi-Square test     | T-Test/Anova test    |\n",
        "|Continous   | Logistic Regression | Correlation Test     |\n",
        "\n",
        "\n",
        "</div>"
      ],
      "metadata": {
        "id": "iUtKmZJ4MBlc"
      }
    }
  ]
}