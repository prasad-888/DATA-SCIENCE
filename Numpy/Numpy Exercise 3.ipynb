{
 "cells": [
  {
   "cell_type": "code",
   "execution_count": 1,
   "id": "1ce6355b-2de0-4b7a-b81d-a13986357a72",
   "metadata": {},
   "outputs": [],
   "source": [
    "import numpy as np"
   ]
  },
  {
   "cell_type": "code",
   "execution_count": 3,
   "id": "f557f750-9451-408a-9b9d-a3dd547397c3",
   "metadata": {},
   "outputs": [
    {
     "data": {
      "text/plain": [
       "array([0., 0., 0., 0., 0., 0., 0., 0., 0., 0.])"
      ]
     },
     "execution_count": 3,
     "metadata": {},
     "output_type": "execute_result"
    }
   ],
   "source": [
    "np.zeros(10)"
   ]
  },
  {
   "cell_type": "code",
   "execution_count": 7,
   "id": "83f3e853-6dfb-494d-85b6-2fc7a416b806",
   "metadata": {},
   "outputs": [
    {
     "name": "stdout",
     "output_type": "stream",
     "text": [
      "[1. 1. 1. 1. 1. 0. 1. 1. 1. 1.]\n"
     ]
    }
   ],
   "source": [
    "arr=np.ones(10)\n",
    "arr[5]=0\n",
    "print(arr)"
   ]
  },
  {
   "cell_type": "code",
   "execution_count": 11,
   "id": "8841014e-3180-445a-a1be-9d579a27bc36",
   "metadata": {},
   "outputs": [
    {
     "name": "stdout",
     "output_type": "stream",
     "text": [
      "[5. 5. 5. 5. 5. 5. 5. 5. 5. 5.]\n"
     ]
    }
   ],
   "source": [
    "arr5=np.ones(10)*5\n",
    "print(arr5)"
   ]
  },
  {
   "cell_type": "code",
   "execution_count": 15,
   "id": "ef03c9a8-26af-4f17-a998-a52a0e260572",
   "metadata": {},
   "outputs": [
    {
     "name": "stdout",
     "output_type": "stream",
     "text": [
      "[10 11 12 13 14 15 16 17 18 19 20 21 22 23 24 25 26 27 28 29 30 31 32 33\n",
      " 34 35 36 37 38 39 40 41 42 43 44 45 46 47 48 49 50]\n"
     ]
    }
   ],
   "source": [
    "arr10to50=np.arange(10,51)\n",
    "print(arr10to50)"
   ]
  },
  {
   "cell_type": "code",
   "execution_count": 17,
   "id": "12d6aa70-5ca7-488a-9214-3d5f774c1d67",
   "metadata": {},
   "outputs": [
    {
     "name": "stdout",
     "output_type": "stream",
     "text": [
      "[10 12 14 16 18 20 22 24 26 28 30 32 34 36 38 40 42 44 46 48 50]\n"
     ]
    }
   ],
   "source": [
    "arr_even_10to50 = np.arange(10,51,2)\n",
    "print(arr_even_10to50)"
   ]
  },
  {
   "cell_type": "code",
   "execution_count": 35,
   "id": "e276e627-ba0b-4926-aa39-706046d1067a",
   "metadata": {},
   "outputs": [
    {
     "ename": "TypeError",
     "evalue": "Cannot interpret '3' as a data type",
     "output_type": "error",
     "traceback": [
      "\u001b[1;31m---------------------------------------------------------------------------\u001b[0m",
      "\u001b[1;31mTypeError\u001b[0m                                 Traceback (most recent call last)",
      "Cell \u001b[1;32mIn[35], line 1\u001b[0m\n\u001b[1;32m----> 1\u001b[0m threebythree_matrix \u001b[38;5;241m=\u001b[39m np\u001b[38;5;241m.\u001b[39marray(\u001b[38;5;241m3\u001b[39m, \u001b[38;5;241m3\u001b[39m)\u001b[38;5;241m.\u001b[39marange(\u001b[38;5;241m0\u001b[39m,\u001b[38;5;241m9\u001b[39m)\n",
      "\u001b[1;31mTypeError\u001b[0m: Cannot interpret '3' as a data type"
     ]
    }
   ],
   "source": [
    "threebythree_matrix = np.array(3, 3).arange(0,9)\n",
    "arr"
   ]
  },
  {
   "cell_type": "code",
   "execution_count": 31,
   "id": "50be9ad3-ab88-4c2f-a156-366d93138641",
   "metadata": {},
   "outputs": [
    {
     "name": "stdout",
     "output_type": "stream",
     "text": [
      "[[1. 0. 0.]\n",
      " [0. 1. 0.]\n",
      " [0. 0. 1.]]\n"
     ]
    }
   ],
   "source": [
    "arridentity = np.eye(3, 3)\n",
    "print(arridentity)"
   ]
  },
  {
   "cell_type": "code",
   "execution_count": 63,
   "id": "f90b6162-8ee8-49a9-a32c-d774ae5e7e83",
   "metadata": {},
   "outputs": [
    {
     "data": {
      "text/plain": [
       "array([[1, 7, 8],\n",
       "       [8, 2, 8],\n",
       "       [4, 2, 6]])"
      ]
     },
     "execution_count": 63,
     "metadata": {},
     "output_type": "execute_result"
    }
   ],
   "source": [
    "arr = np.random.randint(0, 9, 9)\n",
    "arr\n",
    "arr.reshape(3,3)"
   ]
  },
  {
   "cell_type": "code",
   "execution_count": 65,
   "id": "5391424a-0e1e-4988-808e-1d4836143b5d",
   "metadata": {},
   "outputs": [
    {
     "data": {
      "text/plain": [
       "array([[5, 8, 0],\n",
       "       [1, 4, 1],\n",
       "       [3, 6, 1]])"
      ]
     },
     "execution_count": 65,
     "metadata": {},
     "output_type": "execute_result"
    }
   ],
   "source": [
    "arr = np.random.randint(0, 9, (3,3))\n",
    "arr\n"
   ]
  },
  {
   "cell_type": "code",
   "execution_count": 112,
   "id": "973f599b-f7e2-4ce1-928c-428a5ac8508e",
   "metadata": {},
   "outputs": [
    {
     "name": "stdout",
     "output_type": "stream",
     "text": [
      "[[0.16660085 0.82667038 0.38729194 0.9928496  0.96292863]\n",
      " [0.11972773 0.98326849 0.52463936 0.36871017 0.29773879]\n",
      " [0.17801348 0.97611243 0.19858732 0.43043165 0.42895693]\n",
      " [0.26344646 0.54382787 0.40584371 0.42203475 0.27027133]\n",
      " [0.2310744  0.22324562 0.083628   0.28981715 0.07514515]]\n"
     ]
    }
   ],
   "source": [
    "a=np.random.rand(5,5)\n",
    "print(a)"
   ]
  },
  {
   "cell_type": "code",
   "execution_count": 116,
   "id": "9fb1e474-6d1c-4e8c-adb9-2c9cbe17d73f",
   "metadata": {},
   "outputs": [
    {
     "name": "stdout",
     "output_type": "stream",
     "text": [
      "[[ 0.37635414 -1.01630587]\n",
      " [-0.53909451  0.88264224]]\n"
     ]
    }
   ],
   "source": [
    "a=np.random.randn(2,2)\n",
    "print(a)"
   ]
  },
  {
   "cell_type": "code",
   "execution_count": 118,
   "id": "70da4c2b-05bc-42d0-b45c-fe6b42ee03b9",
   "metadata": {},
   "outputs": [
    {
     "data": {
      "text/plain": [
       "0.5279897378448708"
      ]
     },
     "execution_count": 118,
     "metadata": {},
     "output_type": "execute_result"
    }
   ],
   "source": [
    "a = np.random.rand()\n",
    "a"
   ]
  },
  {
   "cell_type": "code",
   "execution_count": 126,
   "id": "0d3ca200-bec4-4ba3-a5d2-0cb9d06ad81a",
   "metadata": {},
   "outputs": [
    {
     "name": "stdout",
     "output_type": "stream",
     "text": [
      "[-0.16150751  0.18636413  0.8817893  -0.50077734 -0.9792142  -0.60810117\n",
      " -1.62307471 -0.59304475  0.05664009  0.77498749  0.58447326  0.08349571\n",
      "  0.60374399 -0.19412135  0.70009418  0.05926385 -1.04673472 -0.80392033\n",
      " -0.31762949 -0.22786815 -0.06161365  0.88420964  0.56367109 -0.95897584\n",
      " -0.18037892]\n"
     ]
    },
    {
     "data": {
      "text/plain": [
       "0.6594240145886252"
      ]
     },
     "execution_count": 126,
     "metadata": {},
     "output_type": "execute_result"
    }
   ],
   "source": [
    "arr =np.random.randn(25)\n",
    "print(arr)\n",
    "a=np.std(arr)\n",
    "a"
   ]
  },
  {
   "cell_type": "code",
   "execution_count": 148,
   "id": "1aa83adc-3ffd-4c00-ba8e-9503823fadd7",
   "metadata": {},
   "outputs": [
    {
     "data": {
      "text/plain": [
       "(0.6594240146170585, 0.6730218166455788)"
      ]
     },
     "execution_count": 148,
     "metadata": {},
     "output_type": "execute_result"
    }
   ],
   "source": [
    "import numpy as np\n",
    "\n",
    "# Given numpy array\n",
    "data = np.array([-0.16150751, 0.18636413, 0.8817893, -0.50077734, -0.9792142, -0.60810117,\n",
    "                 -1.62307471, -0.59304475, 0.05664009, 0.77498749, 0.58447326, 0.08349571,\n",
    "                 0.60374399, -0.19412135, 0.70009418, 0.05926385, -1.04673472, -0.80392033,\n",
    "                 -0.31762949, -0.22786815, -0.06161365, 0.88420964, 0.56367109, -0.95897584,\n",
    "                 -0.18037892])\n",
    "\n",
    "# Population standard deviation\n",
    "population_std_dev = np.std(data)\n",
    "\n",
    "# Sample standard deviation\n",
    "sample_std_dev = np.std(data, ddof=1)\n",
    "\n",
    "population_std_dev, sample_std_dev\n"
   ]
  },
  {
   "cell_type": "code",
   "execution_count": 132,
   "id": "84e144d6-b622-45af-82df-b8f319f188e7",
   "metadata": {},
   "outputs": [],
   "source": [
    "mean = sum(arr)/len(arr)"
   ]
  },
  {
   "cell_type": "code",
   "execution_count": 134,
   "id": "3f2c4290-c0ea-46c7-a10e-b35d6cc20797",
   "metadata": {},
   "outputs": [
    {
     "data": {
      "text/plain": [
       "-0.115129176424768"
      ]
     },
     "execution_count": 134,
     "metadata": {},
     "output_type": "execute_result"
    }
   ],
   "source": [
    "mean"
   ]
  },
  {
   "cell_type": "code",
   "execution_count": 142,
   "id": "9a7a386e-b2fd-487d-bad3-40a9bb5da1e4",
   "metadata": {},
   "outputs": [
    {
     "data": {
      "text/plain": [
       "0.305388916168213"
      ]
     },
     "execution_count": 142,
     "metadata": {},
     "output_type": "execute_result"
    }
   ],
   "source": [
    "arr -= mean\n",
    "variance = ((sum(arr)-mean)**2)/len(arr)\n",
    "variance"
   ]
  },
  {
   "cell_type": "code",
   "execution_count": 144,
   "id": "d27e8bc4-88e4-4e6b-b02d-2aff8a65a649",
   "metadata": {},
   "outputs": [
    {
     "data": {
      "text/plain": [
       "0.4348400310161794"
      ]
     },
     "execution_count": 144,
     "metadata": {},
     "output_type": "execute_result"
    }
   ],
   "source": [
    "a**2"
   ]
  },
  {
   "cell_type": "code",
   "execution_count": 215,
   "id": "bb932a36-4d56-4cf7-abdf-241e8d0203a1",
   "metadata": {
    "scrolled": true
   },
   "outputs": [],
   "source": [
    "arr = np.arange(0.01,1.01,0.01)"
   ]
  },
  {
   "cell_type": "code",
   "execution_count": 217,
   "id": "e0768dc6-ddca-4c64-a649-b6635301db9d",
   "metadata": {},
   "outputs": [
    {
     "data": {
      "text/plain": [
       "array([0.01, 0.02, 0.03, 0.04, 0.05, 0.06, 0.07, 0.08, 0.09, 0.1 , 0.11,\n",
       "       0.12, 0.13, 0.14, 0.15, 0.16, 0.17, 0.18, 0.19, 0.2 , 0.21, 0.22,\n",
       "       0.23, 0.24, 0.25, 0.26, 0.27, 0.28, 0.29, 0.3 , 0.31, 0.32, 0.33,\n",
       "       0.34, 0.35, 0.36, 0.37, 0.38, 0.39, 0.4 , 0.41, 0.42, 0.43, 0.44,\n",
       "       0.45, 0.46, 0.47, 0.48, 0.49, 0.5 , 0.51, 0.52, 0.53, 0.54, 0.55,\n",
       "       0.56, 0.57, 0.58, 0.59, 0.6 , 0.61, 0.62, 0.63, 0.64, 0.65, 0.66,\n",
       "       0.67, 0.68, 0.69, 0.7 , 0.71, 0.72, 0.73, 0.74, 0.75, 0.76, 0.77,\n",
       "       0.78, 0.79, 0.8 , 0.81, 0.82, 0.83, 0.84, 0.85, 0.86, 0.87, 0.88,\n",
       "       0.89, 0.9 , 0.91, 0.92, 0.93, 0.94, 0.95, 0.96, 0.97, 0.98, 0.99,\n",
       "       1.  ])"
      ]
     },
     "execution_count": 217,
     "metadata": {},
     "output_type": "execute_result"
    }
   ],
   "source": [
    "arr"
   ]
  },
  {
   "cell_type": "code",
   "execution_count": 219,
   "id": "2b9d43e5-ca5e-46c2-ad74-9ce5e37b7043",
   "metadata": {},
   "outputs": [
    {
     "data": {
      "text/plain": [
       "array([0.01, 0.02, 0.03, 0.04, 0.05, 0.06, 0.07, 0.08, 0.09, 0.1 , 0.11,\n",
       "       0.12, 0.13, 0.14, 0.15, 0.16, 0.17, 0.18, 0.19, 0.2 , 0.21, 0.22,\n",
       "       0.23, 0.24, 0.25, 0.26, 0.27, 0.28, 0.29, 0.3 , 0.31, 0.32, 0.33,\n",
       "       0.34, 0.35, 0.36, 0.37, 0.38, 0.39, 0.4 , 0.41, 0.42, 0.43, 0.44,\n",
       "       0.45, 0.46, 0.47, 0.48, 0.49, 0.5 , 0.51, 0.52, 0.53, 0.54, 0.55,\n",
       "       0.56, 0.57, 0.58, 0.59, 0.6 , 0.61, 0.62, 0.63, 0.64, 0.65, 0.66,\n",
       "       0.67, 0.68, 0.69, 0.7 , 0.71, 0.72, 0.73, 0.74, 0.75, 0.76, 0.77,\n",
       "       0.78, 0.79, 0.8 , 0.81, 0.82, 0.83, 0.84, 0.85, 0.86, 0.87, 0.88,\n",
       "       0.89, 0.9 , 0.91, 0.92, 0.93, 0.94, 0.95, 0.96, 0.97, 0.98, 0.99,\n",
       "       1.  ])"
      ]
     },
     "execution_count": 219,
     "metadata": {},
     "output_type": "execute_result"
    }
   ],
   "source": [
    "arr"
   ]
  },
  {
   "cell_type": "code",
   "execution_count": 221,
   "id": "5fc9f6e5-1aa8-4680-a002-275e7f0ab9f9",
   "metadata": {},
   "outputs": [
    {
     "data": {
      "text/plain": [
       "array([[0.01, 0.02, 0.03, 0.04, 0.05, 0.06, 0.07, 0.08, 0.09, 0.1 ],\n",
       "       [0.11, 0.12, 0.13, 0.14, 0.15, 0.16, 0.17, 0.18, 0.19, 0.2 ],\n",
       "       [0.21, 0.22, 0.23, 0.24, 0.25, 0.26, 0.27, 0.28, 0.29, 0.3 ],\n",
       "       [0.31, 0.32, 0.33, 0.34, 0.35, 0.36, 0.37, 0.38, 0.39, 0.4 ],\n",
       "       [0.41, 0.42, 0.43, 0.44, 0.45, 0.46, 0.47, 0.48, 0.49, 0.5 ],\n",
       "       [0.51, 0.52, 0.53, 0.54, 0.55, 0.56, 0.57, 0.58, 0.59, 0.6 ],\n",
       "       [0.61, 0.62, 0.63, 0.64, 0.65, 0.66, 0.67, 0.68, 0.69, 0.7 ],\n",
       "       [0.71, 0.72, 0.73, 0.74, 0.75, 0.76, 0.77, 0.78, 0.79, 0.8 ],\n",
       "       [0.81, 0.82, 0.83, 0.84, 0.85, 0.86, 0.87, 0.88, 0.89, 0.9 ],\n",
       "       [0.91, 0.92, 0.93, 0.94, 0.95, 0.96, 0.97, 0.98, 0.99, 1.  ]])"
      ]
     },
     "execution_count": 221,
     "metadata": {},
     "output_type": "execute_result"
    }
   ],
   "source": [
    "arr.reshape(10, 10)"
   ]
  },
  {
   "cell_type": "code",
   "execution_count": null,
   "id": "69550de9-ca82-4305-aa29-f1a940f41ffb",
   "metadata": {},
   "outputs": [],
   "source": []
  },
  {
   "cell_type": "code",
   "execution_count": 225,
   "id": "30cbe8eb-bf25-44c1-9b9c-09f6261c9f83",
   "metadata": {},
   "outputs": [
    {
     "data": {
      "text/plain": [
       "array([0.        , 0.05263158, 0.10526316, 0.15789474, 0.21052632,\n",
       "       0.26315789, 0.31578947, 0.36842105, 0.42105263, 0.47368421,\n",
       "       0.52631579, 0.57894737, 0.63157895, 0.68421053, 0.73684211,\n",
       "       0.78947368, 0.84210526, 0.89473684, 0.94736842, 1.        ])"
      ]
     },
     "execution_count": 225,
     "metadata": {},
     "output_type": "execute_result"
    }
   ],
   "source": [
    "np.linspace(0,1,20)"
   ]
  },
  {
   "cell_type": "code",
   "execution_count": null,
   "id": "ce84fa37-1eaf-4a69-b9c4-f468426f8a57",
   "metadata": {},
   "outputs": [],
   "source": []
  },
  {
   "cell_type": "code",
   "execution_count": 227,
   "id": "54db9ec0-ae42-4107-8bce-42056cc165cb",
   "metadata": {},
   "outputs": [],
   "source": [
    "mat=np.array(np.arange(1,26))"
   ]
  },
  {
   "cell_type": "code",
   "execution_count": 233,
   "id": "fa8b852e-32e2-4f5b-b893-b779ce8120f3",
   "metadata": {},
   "outputs": [
    {
     "name": "stdout",
     "output_type": "stream",
     "text": [
      "[ 1  2  3  4  5  6  7  8  9 10 11 12 13 14 15 16 17 18 19 20 21 22 23 24\n",
      " 25]\n"
     ]
    },
    {
     "data": {
      "text/plain": [
       "array([[ 1,  2,  3,  4,  5],\n",
       "       [ 6,  7,  8,  9, 10],\n",
       "       [11, 12, 13, 14, 15],\n",
       "       [16, 17, 18, 19, 20],\n",
       "       [21, 22, 23, 24, 25]])"
      ]
     },
     "execution_count": 233,
     "metadata": {},
     "output_type": "execute_result"
    }
   ],
   "source": [
    "print(mat)\n",
    "\n",
    "mat.reshape(5,5)\n"
   ]
  },
  {
   "cell_type": "code",
   "execution_count": 241,
   "id": "fc800e6a-da0e-4b4b-a33c-e753158785e3",
   "metadata": {},
   "outputs": [
    {
     "data": {
      "text/plain": [
       "array([[ 1,  2,  3,  4,  5],\n",
       "       [ 6,  7,  8,  9, 10],\n",
       "       [11, 12, 13, 14, 15],\n",
       "       [16, 17, 18, 19, 20],\n",
       "       [21, 22, 23, 24, 25]])"
      ]
     },
     "execution_count": 241,
     "metadata": {},
     "output_type": "execute_result"
    }
   ],
   "source": [
    "mat=mat.reshape(5,5)\n",
    "mat"
   ]
  },
  {
   "cell_type": "code",
   "execution_count": 243,
   "id": "d9ff5ad4-7af7-41be-99ab-4684335bf2bd",
   "metadata": {},
   "outputs": [
    {
     "data": {
      "text/plain": [
       "array([[ 1,  2,  3,  4,  5],\n",
       "       [ 6,  7,  8,  9, 10],\n",
       "       [11, 12, 13, 14, 15],\n",
       "       [16, 17, 18, 19, 20],\n",
       "       [21, 22, 23, 24, 25]])"
      ]
     },
     "execution_count": 243,
     "metadata": {},
     "output_type": "execute_result"
    }
   ],
   "source": [
    "mat[2][1:]"
   ]
  },
  {
   "cell_type": "code",
   "execution_count": 251,
   "id": "439f7a48-9fa3-4d84-afc4-76b64163472c",
   "metadata": {},
   "outputs": [
    {
     "data": {
      "text/plain": [
       "(array([12, 13, 14, 15]), array([17, 18, 19, 20]), array([22, 23, 24, 25]))"
      ]
     },
     "execution_count": 251,
     "metadata": {},
     "output_type": "execute_result"
    }
   ],
   "source": [
    "mat[2][1:], mat[3][1:],mat[4][1:]"
   ]
  },
  {
   "cell_type": "code",
   "execution_count": 253,
   "id": "825cdeaf-a0e8-4cf0-b677-5da103a8d26c",
   "metadata": {},
   "outputs": [
    {
     "data": {
      "text/plain": [
       "array([[ 1,  2,  3,  4,  5],\n",
       "       [ 6,  7,  8,  9, 10],\n",
       "       [11, 12, 13, 14, 15],\n",
       "       [16, 17, 18, 19, 20],\n",
       "       [21, 22, 23, 24, 25]])"
      ]
     },
     "execution_count": 253,
     "metadata": {},
     "output_type": "execute_result"
    }
   ],
   "source": [
    "mat"
   ]
  },
  {
   "cell_type": "code",
   "execution_count": 255,
   "id": "56eec7c3-0edc-4745-8234-a5246a6aac0e",
   "metadata": {},
   "outputs": [
    {
     "data": {
      "text/plain": [
       "20"
      ]
     },
     "execution_count": 255,
     "metadata": {},
     "output_type": "execute_result"
    }
   ],
   "source": [
    "mat[3][-1]"
   ]
  },
  {
   "cell_type": "code",
   "execution_count": 257,
   "id": "00ee63a3-f16f-45c3-b90f-90d65d326433",
   "metadata": {},
   "outputs": [
    {
     "data": {
      "text/plain": [
       "(2, 7, 12)"
      ]
     },
     "execution_count": 257,
     "metadata": {},
     "output_type": "execute_result"
    }
   ],
   "source": [
    "mat[0][1],mat[1][1],mat[2][1]"
   ]
  },
  {
   "cell_type": "code",
   "execution_count": 259,
   "id": "31b84adb-d7c2-4c15-9f0f-d237b5ff9efd",
   "metadata": {},
   "outputs": [
    {
     "data": {
      "text/plain": [
       "array([21, 22, 23, 24, 25])"
      ]
     },
     "execution_count": 259,
     "metadata": {},
     "output_type": "execute_result"
    }
   ],
   "source": [
    "mat[4]"
   ]
  },
  {
   "cell_type": "code",
   "execution_count": 261,
   "id": "5f5c5253-d2f5-4297-ae12-72d37c3f5c18",
   "metadata": {},
   "outputs": [
    {
     "data": {
      "text/plain": [
       "(array([16, 17, 18, 19, 20]), array([21, 22, 23, 24, 25]))"
      ]
     },
     "execution_count": 261,
     "metadata": {},
     "output_type": "execute_result"
    }
   ],
   "source": [
    "mat[3], mat[4]"
   ]
  },
  {
   "cell_type": "code",
   "execution_count": 275,
   "id": "807817c4-1152-44eb-ab38-0fb1199fc308",
   "metadata": {},
   "outputs": [
    {
     "data": {
      "text/plain": [
       "325"
      ]
     },
     "execution_count": 275,
     "metadata": {},
     "output_type": "execute_result"
    }
   ],
   "source": [
    "np.sum(mat)"
   ]
  },
  {
   "cell_type": "code",
   "execution_count": 273,
   "id": "2754f8c5-9289-4d1f-acbd-450d861f6afb",
   "metadata": {},
   "outputs": [
    {
     "data": {
      "text/plain": [
       "325"
      ]
     },
     "execution_count": 273,
     "metadata": {},
     "output_type": "execute_result"
    }
   ],
   "source": [
    "mat.sum()"
   ]
  },
  {
   "cell_type": "code",
   "execution_count": null,
   "id": "e2563062-f47a-42b2-a896-c0269d52b1e4",
   "metadata": {},
   "outputs": [],
   "source": []
  },
  {
   "cell_type": "code",
   "execution_count": 267,
   "id": "fac904df-706a-43eb-892b-a13a67906995",
   "metadata": {},
   "outputs": [
    {
     "data": {
      "text/plain": [
       "7.211102550927978"
      ]
     },
     "execution_count": 267,
     "metadata": {},
     "output_type": "execute_result"
    }
   ],
   "source": [
    "np.std(mat)"
   ]
  },
  {
   "cell_type": "code",
   "execution_count": 277,
   "id": "a1c9e3cd-1f30-4e59-b577-57e1fb03adcb",
   "metadata": {},
   "outputs": [
    {
     "data": {
      "text/plain": [
       "array([55, 60, 65, 70, 75])"
      ]
     },
     "execution_count": 277,
     "metadata": {},
     "output_type": "execute_result"
    }
   ],
   "source": [
    "mat.sum(0)"
   ]
  },
  {
   "cell_type": "code",
   "execution_count": 279,
   "id": "627e67fe-be9c-4695-8937-01677399bec6",
   "metadata": {},
   "outputs": [
    {
     "data": {
      "text/plain": [
       "array([55, 60, 65, 70, 75])"
      ]
     },
     "execution_count": 279,
     "metadata": {},
     "output_type": "execute_result"
    }
   ],
   "source": [
    "mat.sum(axis=0)"
   ]
  },
  {
   "cell_type": "code",
   "execution_count": 3,
   "id": "bd149cf7-d0e4-400e-abaa-6c1eae679fd8",
   "metadata": {},
   "outputs": [],
   "source": [
    "import numpy as np"
   ]
  },
  {
   "cell_type": "code",
   "execution_count": 5,
   "id": "8c24913d-2841-48f2-a70b-0d0f4c20d197",
   "metadata": {},
   "outputs": [],
   "source": [
    "arr=np.array([11,234,123,134,124,123,4673567,234234,234324])"
   ]
  },
  {
   "cell_type": "code",
   "execution_count": 7,
   "id": "0fce2dee-75f2-4630-99b6-e4d37286e812",
   "metadata": {},
   "outputs": [
    {
     "data": {
      "text/plain": [
       "array([     11,     234,     123,     134,     124,     123, 4673567,\n",
       "        234234,  234324])"
      ]
     },
     "execution_count": 7,
     "metadata": {},
     "output_type": "execute_result"
    }
   ],
   "source": [
    "arr"
   ]
  },
  {
   "cell_type": "code",
   "execution_count": 11,
   "id": "15dd3782-a96b-4f91-94cd-def2f0b94c78",
   "metadata": {},
   "outputs": [
    {
     "ename": "TypeError",
     "evalue": "sort() got an unexpected keyword argument 'reverse'",
     "output_type": "error",
     "traceback": [
      "\u001b[1;31m---------------------------------------------------------------------------\u001b[0m",
      "\u001b[1;31mTypeError\u001b[0m                                 Traceback (most recent call last)",
      "Cell \u001b[1;32mIn[11], line 1\u001b[0m\n\u001b[1;32m----> 1\u001b[0m arr\u001b[38;5;241m.\u001b[39msort(reverse\u001b[38;5;241m=\u001b[39m\u001b[38;5;28;01mTrue\u001b[39;00m)\n",
      "\u001b[1;31mTypeError\u001b[0m: sort() got an unexpected keyword argument 'reverse'"
     ]
    }
   ],
   "source": [
    "arr.sort(reverse=True)"
   ]
  },
  {
   "cell_type": "code",
   "execution_count": 13,
   "id": "72789cd6-04c6-40fc-b733-aa043e16f73a",
   "metadata": {},
   "outputs": [
    {
     "data": {
      "text/plain": [
       "array([ 234324,  234234, 4673567,     123,     124,     134,     123,\n",
       "           234,      11])"
      ]
     },
     "execution_count": 13,
     "metadata": {},
     "output_type": "execute_result"
    }
   ],
   "source": [
    "arr[::-1]"
   ]
  },
  {
   "cell_type": "code",
   "execution_count": 43,
   "id": "a6c5ea6c-8eeb-4e9f-8d3a-0b9f96048072",
   "metadata": {},
   "outputs": [
    {
     "name": "stdout",
     "output_type": "stream",
     "text": [
      "10\n",
      "20\n",
      "40\n"
     ]
    }
   ],
   "source": [
    "arr = np.array([10, 20, 0, 0, 40, 0])\n",
    "for i in arr:\n",
    "    if i==0:\n",
    "        continue\n",
    "    print(i)"
   ]
  },
  {
   "cell_type": "code",
   "execution_count": 47,
   "id": "b9b33015-ff6f-45bc-91bb-22060c5def8f",
   "metadata": {},
   "outputs": [
    {
     "data": {
      "text/plain": [
       "(array([0, 1, 4], dtype=int64),)"
      ]
     },
     "execution_count": 47,
     "metadata": {},
     "output_type": "execute_result"
    }
   ],
   "source": [
    "np.where(arr!=0)"
   ]
  },
  {
   "cell_type": "code",
   "execution_count": 71,
   "id": "2c55c22b-6b25-48b1-ab2e-dc149454d0c1",
   "metadata": {},
   "outputs": [],
   "source": [
    "arr=np.random.random((10,10))\n"
   ]
  },
  {
   "cell_type": "code",
   "execution_count": 75,
   "id": "79d775c5-dd2e-4d05-8814-9d3353b271d5",
   "metadata": {},
   "outputs": [
    {
     "data": {
      "text/plain": [
       "array([[0.13081486, 0.06996434, 0.45171647, 0.27057426, 0.2197388 ,\n",
       "        0.20921728, 0.53398094, 0.7351938 , 0.69755038, 0.08046751],\n",
       "       [0.54483283, 0.38109137, 0.53832656, 0.99521143, 0.54788739,\n",
       "        0.59945776, 0.06223804, 0.78561138, 0.04724163, 0.22281197],\n",
       "       [0.90058273, 0.78393557, 0.46476372, 0.78932236, 0.14793593,\n",
       "        0.083278  , 0.93206936, 0.22830795, 0.42008759, 0.90086234],\n",
       "       [0.88491525, 0.25490781, 0.12799419, 0.40957174, 0.33785635,\n",
       "        0.30896852, 0.47058287, 0.34906413, 0.59655626, 0.84394838],\n",
       "       [0.07124828, 0.47619861, 0.92150803, 0.41294405, 0.31132005,\n",
       "        0.7484902 , 0.36837098, 0.0171708 , 0.82348735, 0.17354491],\n",
       "       [0.97481609, 0.17706922, 0.72716386, 0.21315823, 0.15734427,\n",
       "        0.46480435, 0.42617868, 0.96060892, 0.45244277, 0.71727296],\n",
       "       [0.25646367, 0.3149391 , 0.69036491, 0.93554846, 0.70098561,\n",
       "        0.32737869, 0.02827598, 0.87060337, 0.38773222, 0.30802362],\n",
       "       [0.8528665 , 0.67228528, 0.26957157, 0.0656427 , 0.77353177,\n",
       "        0.91116469, 0.48404114, 0.58509565, 0.08649634, 0.56584901],\n",
       "       [0.10386251, 0.42023509, 0.42106724, 0.89372474, 0.3509873 ,\n",
       "        0.03681989, 0.24523515, 0.64595073, 0.41322175, 0.05045286],\n",
       "       [0.28518574, 0.97112269, 0.61327902, 0.87952505, 0.15809613,\n",
       "        0.9531627 , 0.1104859 , 0.06323977, 0.32410972, 0.77560199]])"
      ]
     },
     "execution_count": 75,
     "metadata": {},
     "output_type": "execute_result"
    }
   ],
   "source": [
    "arr"
   ]
  },
  {
   "cell_type": "code",
   "execution_count": 79,
   "id": "48d87e8e-a8b4-49a4-966f-1787f13d5448",
   "metadata": {},
   "outputs": [
    {
     "data": {
      "text/plain": [
       "0.9952114327738311"
      ]
     },
     "execution_count": 79,
     "metadata": {},
     "output_type": "execute_result"
    }
   ],
   "source": [
    "np.max(arr)"
   ]
  },
  {
   "cell_type": "code",
   "execution_count": 87,
   "id": "5b0746e5-4646-4552-b262-76007d65143f",
   "metadata": {},
   "outputs": [
    {
     "data": {
      "text/plain": [
       "array([[74, 85, 32, 41, 17, 34, 77, 21, 89, 58],\n",
       "       [50, 92, 73, 97, 41, 33, 74, 78, 83, 12],\n",
       "       [22, 21, 74, 31, 10, 44, 38,  7, 89, 40],\n",
       "       [81, 88, 48, 71, 88, 89, 16,  3, 85, 63],\n",
       "       [ 3, 56, 28, 52, 87, 94, 20, 34, 19, 21],\n",
       "       [ 9, 80, 51,  2, 23, 93, 74, 48, 62, 68],\n",
       "       [69, 61, 98, 46, 30, 30, 28, 41, 43, 31],\n",
       "       [25, 22,  9, 57, 96, 15, 87, 64, 55, 72],\n",
       "       [75, 48, 69, 75, 40, 95, 89, 20, 71, 55],\n",
       "       [84, 30, 56, 10, 26, 54, 84, 82, 32, 63]])"
      ]
     },
     "execution_count": 87,
     "metadata": {},
     "output_type": "execute_result"
    }
   ],
   "source": [
    "arr = np.random.randint(1,100,size=(10,10))\n",
    "arr"
   ]
  },
  {
   "cell_type": "code",
   "execution_count": 89,
   "id": "bc994090-c7b5-43d8-8ef9-fd586b631a5f",
   "metadata": {},
   "outputs": [
    {
     "data": {
      "text/plain": [
       "98"
      ]
     },
     "execution_count": 89,
     "metadata": {},
     "output_type": "execute_result"
    }
   ],
   "source": [
    "np.max(arr)"
   ]
  },
  {
   "cell_type": "code",
   "execution_count": 91,
   "id": "0dee7f34-5dd4-4ee4-a6a1-b43ef1861a65",
   "metadata": {},
   "outputs": [
    {
     "data": {
      "text/plain": [
       "2"
      ]
     },
     "execution_count": 91,
     "metadata": {},
     "output_type": "execute_result"
    }
   ],
   "source": [
    "np.min(arr)"
   ]
  },
  {
   "cell_type": "code",
   "execution_count": 97,
   "id": "652db62e-37bf-48eb-8df9-8628bf0f3d62",
   "metadata": {},
   "outputs": [
    {
     "data": {
      "text/plain": [
       "array([[68,  6, 94, 97, 13, 40, 52, 74, 32, 31],\n",
       "       [22,  8, 71, 18, 76, 52, 26, 21, 78, 80],\n",
       "       [ 8, 24, 49,  2, 23, 43, 13, 88, 50, 45],\n",
       "       [50, 63, 95, 46, 25, 41,  2, 15, 10, 63],\n",
       "       [19, 32, 75, 86, 88, 73, 19, 86, 78, 12],\n",
       "       [96, 48, 69, 70,  2, 96, 26, 87,  5, 34],\n",
       "       [75, 58, 95, 89, 70, 97, 25, 32, 73, 23],\n",
       "       [19, 24, 64, 84,  7, 76, 52, 71, 81, 97],\n",
       "       [53, 89, 28, 59, 11, 60, 82, 19, 19, 90],\n",
       "       [48, 47, 26,  6, 61, 45, 65, 60, 57, 73]])"
      ]
     },
     "execution_count": 97,
     "metadata": {},
     "output_type": "execute_result"
    }
   ],
   "source": [
    "ex25 = np.random.randint(1,100,(10,10))\n",
    "\n",
    "ex25"
   ]
  },
  {
   "cell_type": "code",
   "execution_count": 101,
   "id": "b83ff72a-88a0-4307-b426-57531704a72c",
   "metadata": {},
   "outputs": [],
   "source": [
    "ex25[0]=1"
   ]
  },
  {
   "cell_type": "code",
   "execution_count": 103,
   "id": "3ce35fa6-6020-484d-bf22-07ce21d471de",
   "metadata": {},
   "outputs": [
    {
     "data": {
      "text/plain": [
       "array([[ 1,  1,  1,  1,  1,  1,  1,  1,  1,  1],\n",
       "       [22,  8, 71, 18, 76, 52, 26, 21, 78, 80],\n",
       "       [ 8, 24, 49,  2, 23, 43, 13, 88, 50, 45],\n",
       "       [50, 63, 95, 46, 25, 41,  2, 15, 10, 63],\n",
       "       [19, 32, 75, 86, 88, 73, 19, 86, 78, 12],\n",
       "       [96, 48, 69, 70,  2, 96, 26, 87,  5, 34],\n",
       "       [75, 58, 95, 89, 70, 97, 25, 32, 73, 23],\n",
       "       [19, 24, 64, 84,  7, 76, 52, 71, 81, 97],\n",
       "       [53, 89, 28, 59, 11, 60, 82, 19, 19, 90],\n",
       "       [48, 47, 26,  6, 61, 45, 65, 60, 57, 73]])"
      ]
     },
     "execution_count": 103,
     "metadata": {},
     "output_type": "execute_result"
    }
   ],
   "source": [
    "ex25"
   ]
  },
  {
   "cell_type": "code",
   "execution_count": 105,
   "id": "a7d45bc3-b0a5-4d93-b186-9e0015d7a7bc",
   "metadata": {},
   "outputs": [],
   "source": [
    "ex25[-1]=1"
   ]
  },
  {
   "cell_type": "code",
   "execution_count": 107,
   "id": "5fe5b936-f345-4b8c-bda1-62ab8ab796c0",
   "metadata": {},
   "outputs": [
    {
     "data": {
      "text/plain": [
       "array([[ 1,  1,  1,  1,  1,  1,  1,  1,  1,  1],\n",
       "       [22,  8, 71, 18, 76, 52, 26, 21, 78, 80],\n",
       "       [ 8, 24, 49,  2, 23, 43, 13, 88, 50, 45],\n",
       "       [50, 63, 95, 46, 25, 41,  2, 15, 10, 63],\n",
       "       [19, 32, 75, 86, 88, 73, 19, 86, 78, 12],\n",
       "       [96, 48, 69, 70,  2, 96, 26, 87,  5, 34],\n",
       "       [75, 58, 95, 89, 70, 97, 25, 32, 73, 23],\n",
       "       [19, 24, 64, 84,  7, 76, 52, 71, 81, 97],\n",
       "       [53, 89, 28, 59, 11, 60, 82, 19, 19, 90],\n",
       "       [ 1,  1,  1,  1,  1,  1,  1,  1,  1,  1]])"
      ]
     },
     "execution_count": 107,
     "metadata": {},
     "output_type": "execute_result"
    }
   ],
   "source": [
    "\n",
    "ex25"
   ]
  },
  {
   "cell_type": "code",
   "execution_count": 208,
   "id": "fc042955-ce2e-407c-a13a-cbf63ddff476",
   "metadata": {},
   "outputs": [],
   "source": [
    "arr=np.zeros((10,10))"
   ]
  },
  {
   "cell_type": "code",
   "execution_count": 210,
   "id": "b7f9c098-4afb-4ea6-b19b-adab2271c669",
   "metadata": {},
   "outputs": [
    {
     "data": {
      "text/plain": [
       "array([[0., 0., 0., 0., 0., 0., 0., 0., 0., 0.],\n",
       "       [0., 0., 0., 0., 0., 0., 0., 0., 0., 0.],\n",
       "       [0., 0., 0., 0., 0., 0., 0., 0., 0., 0.],\n",
       "       [0., 0., 0., 0., 0., 0., 0., 0., 0., 0.],\n",
       "       [0., 0., 0., 0., 0., 0., 0., 0., 0., 0.],\n",
       "       [0., 0., 0., 0., 0., 0., 0., 0., 0., 0.],\n",
       "       [0., 0., 0., 0., 0., 0., 0., 0., 0., 0.],\n",
       "       [0., 0., 0., 0., 0., 0., 0., 0., 0., 0.],\n",
       "       [0., 0., 0., 0., 0., 0., 0., 0., 0., 0.],\n",
       "       [0., 0., 0., 0., 0., 0., 0., 0., 0., 0.]])"
      ]
     },
     "execution_count": 210,
     "metadata": {},
     "output_type": "execute_result"
    }
   ],
   "source": [
    "arr"
   ]
  },
  {
   "cell_type": "code",
   "execution_count": 212,
   "id": "b817e475-4a76-49e3-8a6f-daae00b4a696",
   "metadata": {},
   "outputs": [],
   "source": [
    "arr[0]=1\n",
    "arr[-1]=1"
   ]
  },
  {
   "cell_type": "code",
   "execution_count": 214,
   "id": "467e0757-748f-468e-b81e-6e62f29d07a6",
   "metadata": {},
   "outputs": [
    {
     "data": {
      "text/plain": [
       "array([[1., 1., 1., 1., 1., 1., 1., 1., 1., 1.],\n",
       "       [1., 0., 0., 0., 0., 0., 0., 0., 0., 1.],\n",
       "       [1., 0., 0., 0., 0., 0., 0., 0., 0., 1.],\n",
       "       [1., 0., 0., 0., 0., 0., 0., 0., 0., 1.],\n",
       "       [1., 0., 0., 0., 0., 0., 0., 0., 0., 1.],\n",
       "       [1., 0., 0., 0., 0., 0., 0., 0., 0., 1.],\n",
       "       [1., 0., 0., 0., 0., 0., 0., 0., 0., 1.],\n",
       "       [1., 0., 0., 0., 0., 0., 0., 0., 0., 1.],\n",
       "       [1., 0., 0., 0., 0., 0., 0., 0., 0., 1.],\n",
       "       [1., 1., 1., 1., 1., 1., 1., 1., 1., 1.]])"
      ]
     },
     "execution_count": 214,
     "metadata": {},
     "output_type": "execute_result"
    }
   ],
   "source": [
    "# arr[;,0:-1]\n",
    "arr[:,0]=1\n",
    "arr[:,-1]=1\n",
    "arr"
   ]
  },
  {
   "cell_type": "code",
   "execution_count": null,
   "id": "2e942c02-cc24-4620-b84c-68bc6dba9337",
   "metadata": {},
   "outputs": [],
   "source": [
    "arr[]"
   ]
  },
  {
   "cell_type": "code",
   "execution_count": 177,
   "id": "ec2baa1f-68f9-43fc-8530-be9147f81051",
   "metadata": {},
   "outputs": [],
   "source": [
    "arr2 = np.ones((10,10))"
   ]
  },
  {
   "cell_type": "code",
   "execution_count": 179,
   "id": "5bbc26af-2fdc-4e73-a7cb-7d81c2203fbf",
   "metadata": {},
   "outputs": [
    {
     "data": {
      "text/plain": [
       "array([[1., 1., 1., 1., 1., 1., 1., 1., 1., 1.],\n",
       "       [1., 1., 1., 1., 1., 1., 1., 1., 1., 1.],\n",
       "       [1., 1., 1., 1., 1., 1., 1., 1., 1., 1.],\n",
       "       [1., 1., 1., 1., 1., 1., 1., 1., 1., 1.],\n",
       "       [1., 1., 1., 1., 1., 1., 1., 1., 1., 1.],\n",
       "       [1., 1., 1., 1., 1., 1., 1., 1., 1., 1.],\n",
       "       [1., 1., 1., 1., 1., 1., 1., 1., 1., 1.],\n",
       "       [1., 1., 1., 1., 1., 1., 1., 1., 1., 1.],\n",
       "       [1., 1., 1., 1., 1., 1., 1., 1., 1., 1.],\n",
       "       [1., 1., 1., 1., 1., 1., 1., 1., 1., 1.]])"
      ]
     },
     "execution_count": 179,
     "metadata": {},
     "output_type": "execute_result"
    }
   ],
   "source": [
    "arr2"
   ]
  },
  {
   "cell_type": "code",
   "execution_count": 193,
   "id": "99ff9137-4d41-4ab2-ae8d-a5e32f449e7b",
   "metadata": {},
   "outputs": [],
   "source": [
    "arr2[1:-1,1:-1]=0"
   ]
  },
  {
   "cell_type": "code",
   "execution_count": 195,
   "id": "8acc3418-ad10-48d3-b181-e4c2c840a9a7",
   "metadata": {},
   "outputs": [
    {
     "data": {
      "text/plain": [
       "array([[1., 1., 1., 1., 1., 1., 1., 1., 1., 1.],\n",
       "       [1., 0., 0., 0., 0., 0., 0., 0., 0., 1.],\n",
       "       [1., 0., 0., 0., 0., 0., 0., 0., 0., 1.],\n",
       "       [1., 0., 0., 0., 0., 0., 0., 0., 0., 1.],\n",
       "       [1., 0., 0., 0., 0., 0., 0., 0., 0., 1.],\n",
       "       [1., 0., 0., 0., 0., 0., 0., 0., 0., 1.],\n",
       "       [1., 0., 0., 0., 0., 0., 0., 0., 0., 1.],\n",
       "       [1., 0., 0., 0., 0., 0., 0., 0., 0., 1.],\n",
       "       [1., 0., 0., 0., 0., 0., 0., 0., 0., 1.],\n",
       "       [1., 1., 1., 1., 1., 1., 1., 1., 1., 1.]])"
      ]
     },
     "execution_count": 195,
     "metadata": {},
     "output_type": "execute_result"
    }
   ],
   "source": [
    "arr2"
   ]
  },
  {
   "cell_type": "code",
   "execution_count": null,
   "id": "339401c4-398d-489c-921c-b0b66c399b31",
   "metadata": {},
   "outputs": [],
   "source": []
  },
  {
   "cell_type": "markdown",
   "id": "1f274298-5846-4e37-9134-1514d4af5a19",
   "metadata": {},
   "source": [
    "## Checker board pattern"
   ]
  },
  {
   "cell_type": "code",
   "execution_count": null,
   "id": "5f124a51-648b-417e-bb4a-6dec5d28ca41",
   "metadata": {},
   "outputs": [],
   "source": []
  },
  {
   "cell_type": "code",
   "execution_count": 320,
   "id": "4359d40b-3197-4b69-a042-cb86b1104808",
   "metadata": {},
   "outputs": [],
   "source": [
    "arr = np.random.randint(1,100,(8,8))"
   ]
  },
  {
   "cell_type": "code",
   "execution_count": 322,
   "id": "3974b56e-21e5-4d66-b8f2-6366af1ba180",
   "metadata": {},
   "outputs": [
    {
     "data": {
      "text/plain": [
       "array([[33, 25, 87,  6, 34, 83, 20, 66],\n",
       "       [67,  5, 34, 80, 71,  3, 39, 82],\n",
       "       [89, 46, 69, 22, 52, 66, 78, 37],\n",
       "       [69, 29, 74,  2, 88,  7, 94, 15],\n",
       "       [ 8, 27, 84, 12, 19, 21, 16, 87],\n",
       "       [34, 15, 79, 11, 21, 47, 19, 33],\n",
       "       [ 2,  8, 90, 18, 76, 39, 87, 37],\n",
       "       [30, 72, 48, 62,  9, 60, 41, 99]])"
      ]
     },
     "execution_count": 322,
     "metadata": {},
     "output_type": "execute_result"
    }
   ],
   "source": [
    "arr"
   ]
  },
  {
   "cell_type": "code",
   "execution_count": 324,
   "id": "55b04678-d670-4212-a6d6-9a3fb7487469",
   "metadata": {},
   "outputs": [],
   "source": [
    "arr[0][0:-1:2]=0"
   ]
  },
  {
   "cell_type": "code",
   "execution_count": 326,
   "id": "cfa302d8-838e-4233-bc47-cf31fe3c0361",
   "metadata": {},
   "outputs": [
    {
     "data": {
      "text/plain": [
       "array([[ 0, 25,  0,  6,  0, 83,  0, 66],\n",
       "       [67,  5, 34, 80, 71,  3, 39, 82],\n",
       "       [89, 46, 69, 22, 52, 66, 78, 37],\n",
       "       [69, 29, 74,  2, 88,  7, 94, 15],\n",
       "       [ 8, 27, 84, 12, 19, 21, 16, 87],\n",
       "       [34, 15, 79, 11, 21, 47, 19, 33],\n",
       "       [ 2,  8, 90, 18, 76, 39, 87, 37],\n",
       "       [30, 72, 48, 62,  9, 60, 41, 99]])"
      ]
     },
     "execution_count": 326,
     "metadata": {},
     "output_type": "execute_result"
    }
   ],
   "source": [
    "arr"
   ]
  },
  {
   "cell_type": "code",
   "execution_count": 328,
   "id": "85ed2be8-b6a9-414f-a46c-632a925144ac",
   "metadata": {},
   "outputs": [],
   "source": [
    "arr[1][1:-1:2]=0\n",
    "arr[2][0:-1:2]=0\n",
    "arr[3][1:-1:2]=0\n",
    "arr[4][0:-1:2]=0\n",
    "arr[5][1:-1:2]=0\n",
    "arr[6][0:-1:2]=0\n",
    "arr[7][1:-1:2]=0"
   ]
  },
  {
   "cell_type": "code",
   "execution_count": 330,
   "id": "a96d17e5-ae00-4a50-989f-550cbbea25b5",
   "metadata": {},
   "outputs": [
    {
     "data": {
      "text/plain": [
       "array([[ 0, 25,  0,  6,  0, 83,  0, 66],\n",
       "       [67,  0, 34,  0, 71,  0, 39, 82],\n",
       "       [ 0, 46,  0, 22,  0, 66,  0, 37],\n",
       "       [69,  0, 74,  0, 88,  0, 94, 15],\n",
       "       [ 0, 27,  0, 12,  0, 21,  0, 87],\n",
       "       [34,  0, 79,  0, 21,  0, 19, 33],\n",
       "       [ 0,  8,  0, 18,  0, 39,  0, 37],\n",
       "       [30,  0, 48,  0,  9,  0, 41, 99]])"
      ]
     },
     "execution_count": 330,
     "metadata": {},
     "output_type": "execute_result"
    }
   ],
   "source": [
    "arr"
   ]
  },
  {
   "cell_type": "code",
   "execution_count": null,
   "id": "7480895c-9a72-4374-a975-2cd37058a321",
   "metadata": {},
   "outputs": [],
   "source": []
  },
  {
   "cell_type": "code",
   "execution_count": 405,
   "id": "38c5d7e7-4516-4e47-9cd6-ef1fed2cae6c",
   "metadata": {},
   "outputs": [],
   "source": [
    "b=np.zeros((8,8))"
   ]
  },
  {
   "cell_type": "code",
   "execution_count": 407,
   "id": "214620d9-1788-47a5-99f0-8b513b74fe8d",
   "metadata": {},
   "outputs": [
    {
     "data": {
      "text/plain": [
       "array([[0., 0., 0., 0., 0., 0., 0., 0.],\n",
       "       [0., 0., 0., 0., 0., 0., 0., 0.],\n",
       "       [0., 0., 0., 0., 0., 0., 0., 0.],\n",
       "       [0., 0., 0., 0., 0., 0., 0., 0.],\n",
       "       [0., 0., 0., 0., 0., 0., 0., 0.],\n",
       "       [0., 0., 0., 0., 0., 0., 0., 0.],\n",
       "       [0., 0., 0., 0., 0., 0., 0., 0.],\n",
       "       [0., 0., 0., 0., 0., 0., 0., 0.]])"
      ]
     },
     "execution_count": 407,
     "metadata": {},
     "output_type": "execute_result"
    }
   ],
   "source": [
    "b"
   ]
  },
  {
   "cell_type": "code",
   "execution_count": 429,
   "id": "76f6f9eb-0903-4069-9271-dc0032c374fa",
   "metadata": {},
   "outputs": [],
   "source": [
    "b[0:8:2, 1:8:2]=1\n"
   ]
  },
  {
   "cell_type": "code",
   "execution_count": 431,
   "id": "e7ff2795-d388-4be4-8cff-dec761e6de45",
   "metadata": {},
   "outputs": [
    {
     "data": {
      "text/plain": [
       "array([[0., 1., 0., 1., 0., 1., 0., 1.],\n",
       "       [0., 0., 0., 0., 0., 0., 0., 0.],\n",
       "       [0., 1., 0., 1., 0., 1., 0., 1.],\n",
       "       [0., 0., 0., 0., 0., 0., 0., 0.],\n",
       "       [0., 1., 0., 1., 0., 1., 0., 1.],\n",
       "       [0., 0., 0., 0., 0., 0., 0., 0.],\n",
       "       [0., 1., 0., 1., 0., 1., 0., 1.],\n",
       "       [0., 0., 0., 0., 0., 0., 0., 0.]])"
      ]
     },
     "execution_count": 431,
     "metadata": {},
     "output_type": "execute_result"
    }
   ],
   "source": [
    "b"
   ]
  },
  {
   "cell_type": "code",
   "execution_count": 433,
   "id": "e0698c2d-66e5-4c80-af6c-e74d4e0cd1be",
   "metadata": {},
   "outputs": [
    {
     "data": {
      "text/plain": [
       "array([[0., 1., 0., 1., 0., 1., 0., 1.],\n",
       "       [0., 0., 0., 0., 0., 0., 0., 0.],\n",
       "       [0., 1., 0., 1., 0., 1., 0., 1.],\n",
       "       [0., 0., 0., 0., 0., 0., 0., 0.],\n",
       "       [0., 1., 0., 1., 0., 1., 0., 1.],\n",
       "       [0., 0., 0., 0., 0., 0., 0., 0.],\n",
       "       [0., 1., 0., 1., 0., 1., 0., 1.],\n",
       "       [0., 0., 0., 0., 0., 0., 0., 0.]])"
      ]
     },
     "execution_count": 433,
     "metadata": {},
     "output_type": "execute_result"
    }
   ],
   "source": [
    "b"
   ]
  },
  {
   "cell_type": "code",
   "execution_count": 450,
   "id": "d168f1e7-a05b-4aeb-af66-1d5c83ddf6a4",
   "metadata": {},
   "outputs": [],
   "source": [
    "b[1:8:2, 0:8:2]=1"
   ]
  },
  {
   "cell_type": "code",
   "execution_count": 452,
   "id": "3b18247f-8f25-4cec-a01d-06befd8a3f50",
   "metadata": {},
   "outputs": [
    {
     "data": {
      "text/plain": [
       "array([[0., 1., 0., 1., 0., 1., 0., 1.],\n",
       "       [1., 0., 1., 0., 1., 0., 1., 0.],\n",
       "       [0., 1., 0., 1., 0., 1., 0., 1.],\n",
       "       [1., 0., 1., 0., 1., 0., 1., 0.],\n",
       "       [0., 1., 0., 1., 0., 1., 0., 1.],\n",
       "       [1., 0., 1., 0., 1., 0., 1., 0.],\n",
       "       [0., 1., 0., 1., 0., 1., 0., 1.],\n",
       "       [1., 0., 1., 0., 1., 0., 1., 0.]])"
      ]
     },
     "execution_count": 452,
     "metadata": {},
     "output_type": "execute_result"
    }
   ],
   "source": [
    "b"
   ]
  },
  {
   "cell_type": "code",
   "execution_count": null,
   "id": "d349c653-38f3-4a65-b654-2f803031f787",
   "metadata": {},
   "outputs": [],
   "source": []
  },
  {
   "cell_type": "code",
   "execution_count": 461,
   "id": "4b6f8f17-6f26-4251-ac73-357cb3171223",
   "metadata": {},
   "outputs": [],
   "source": [
    "ex27 = np.random.rand(10)"
   ]
  },
  {
   "cell_type": "code",
   "execution_count": 463,
   "id": "a9301b6f-1727-4f40-862e-513cb19263cf",
   "metadata": {},
   "outputs": [
    {
     "data": {
      "text/plain": [
       "array([0.39743843, 0.77606557, 0.41332726, 0.28910844, 0.32915868,\n",
       "       0.39673715, 0.07021405, 0.34487931, 0.62123417, 0.38956916])"
      ]
     },
     "execution_count": 463,
     "metadata": {},
     "output_type": "execute_result"
    }
   ],
   "source": [
    "ex27"
   ]
  },
  {
   "cell_type": "code",
   "execution_count": null,
   "id": "9a61acdf-bbbf-4cff-9fdf-b653717d9d6e",
   "metadata": {},
   "outputs": [],
   "source": []
  },
  {
   "cell_type": "code",
   "execution_count": 467,
   "id": "ba90fb1a-ad7b-4b9f-b3e9-daf80fc363db",
   "metadata": {},
   "outputs": [],
   "source": [
    "ex28= np.random.randn(10)"
   ]
  },
  {
   "cell_type": "code",
   "execution_count": 471,
   "id": "e3b87ba3-e42e-4a48-af09-8e22b83bd590",
   "metadata": {},
   "outputs": [
    {
     "data": {
      "text/plain": [
       "array([-0.52539725,  0.86163857, -0.48134721,  0.56703606,  1.28060385,\n",
       "       -0.35558211,  0.96253882,  0.28537298, -1.25236562, -1.19826441])"
      ]
     },
     "execution_count": 471,
     "metadata": {},
     "output_type": "execute_result"
    }
   ],
   "source": [
    "ex28"
   ]
  },
  {
   "cell_type": "code",
   "execution_count": 473,
   "id": "929a1e6d-a574-421c-99c5-1215fa3dc6b4",
   "metadata": {},
   "outputs": [
    {
     "data": {
      "text/plain": [
       "array([-1.25236562, -1.19826441, -0.52539725, -0.48134721, -0.35558211,\n",
       "        0.28537298,  0.56703606,  0.86163857,  0.96253882,  1.28060385])"
      ]
     },
     "execution_count": 473,
     "metadata": {},
     "output_type": "execute_result"
    }
   ],
   "source": [
    "np.sort(ex28)"
   ]
  },
  {
   "cell_type": "code",
   "execution_count": null,
   "id": "7b283232-5b53-4e97-b443-65f87a015776",
   "metadata": {},
   "outputs": [],
   "source": []
  },
  {
   "cell_type": "code",
   "execution_count": 476,
   "id": "052edcbc-a88e-4108-97ee-26aaefb0cee6",
   "metadata": {},
   "outputs": [],
   "source": [
    "ex29 = np.random.randn(10)"
   ]
  },
  {
   "cell_type": "code",
   "execution_count": 478,
   "id": "93df1073-c9ff-4a2a-8680-727f6eeb7e65",
   "metadata": {},
   "outputs": [
    {
     "data": {
      "text/plain": [
       "array([ 0.92923517, -1.62314696, -0.99930351,  1.13672069,  1.10034374,\n",
       "        2.41853679, -1.02122814, -0.84369668,  0.16350061,  1.2963315 ])"
      ]
     },
     "execution_count": 478,
     "metadata": {},
     "output_type": "execute_result"
    }
   ],
   "source": [
    "ex29"
   ]
  },
  {
   "cell_type": "code",
   "execution_count": 503,
   "id": "2385eda3-c163-4a90-ab9e-4aaa7008d09d",
   "metadata": {},
   "outputs": [],
   "source": [
    "x=np.argmax(ex29)"
   ]
  },
  {
   "cell_type": "code",
   "execution_count": 505,
   "id": "bc539f76-f0b1-445b-9f64-be2f5d4f7cd8",
   "metadata": {},
   "outputs": [],
   "source": [
    "ex29[x]=0"
   ]
  },
  {
   "cell_type": "code",
   "execution_count": 507,
   "id": "aa8ff2ed-cd6c-49b1-a743-27fe3c3538a3",
   "metadata": {},
   "outputs": [
    {
     "data": {
      "text/plain": [
       "array([ 0.92923517, -1.62314696, -0.99930351,  1.13672069,  1.10034374,\n",
       "        0.        , -1.02122814, -0.84369668,  0.16350061,  1.2963315 ])"
      ]
     },
     "execution_count": 507,
     "metadata": {},
     "output_type": "execute_result"
    }
   ],
   "source": [
    "ex29"
   ]
  },
  {
   "cell_type": "code",
   "execution_count": null,
   "id": "078e23db-23fd-4ec7-8cab-4bd75cf783ef",
   "metadata": {},
   "outputs": [],
   "source": []
  },
  {
   "cell_type": "code",
   "execution_count": 519,
   "id": "626fd470-beab-49b0-9f8c-06665003615b",
   "metadata": {},
   "outputs": [
    {
     "name": "stdout",
     "output_type": "stream",
     "text": [
      "1 a\n",
      "2 b\n",
      "3 c\n"
     ]
    }
   ],
   "source": [
    "my_list = ['a', 'b', 'c']\n",
    "\n",
    "for index, item in enumerate (my_list, 1):\n",
    "    print(index, item)\n"
   ]
  },
  {
   "cell_type": "code",
   "execution_count": 615,
   "id": "65eb1203-4b56-4f71-8dae-2be95263b980",
   "metadata": {},
   "outputs": [],
   "source": [
    "b=np.arange(20)"
   ]
  },
  {
   "cell_type": "code",
   "execution_count": 617,
   "id": "ba2f0809-e723-4214-8186-0a32d0352c66",
   "metadata": {},
   "outputs": [
    {
     "data": {
      "text/plain": [
       "array([[ 0,  1,  2,  3],\n",
       "       [ 4,  5,  6,  7],\n",
       "       [ 8,  9, 10, 11],\n",
       "       [12, 13, 14, 15],\n",
       "       [16, 17, 18, 19]])"
      ]
     },
     "execution_count": 617,
     "metadata": {},
     "output_type": "execute_result"
    }
   ],
   "source": [
    "b=b.reshape(5,4)\n",
    "b"
   ]
  },
  {
   "cell_type": "code",
   "execution_count": 603,
   "id": "5416dec9-a05c-4f97-aa58-739681aa7937",
   "metadata": {},
   "outputs": [],
   "source": [
    "x=b[0]\n",
    "b[0] = b[-1]\n"
   ]
  },
  {
   "cell_type": "code",
   "execution_count": 619,
   "id": "33b1768a-904d-4be3-90c6-9fcb28bf99fe",
   "metadata": {},
   "outputs": [],
   "source": [
    "b[[0 , 3]] =b[[3 , 0]]"
   ]
  },
  {
   "cell_type": "code",
   "execution_count": 621,
   "id": "82740829-1fc6-41f0-914f-a6916485862d",
   "metadata": {},
   "outputs": [
    {
     "data": {
      "text/plain": [
       "array([[12, 13, 14, 15],\n",
       "       [ 4,  5,  6,  7],\n",
       "       [ 8,  9, 10, 11],\n",
       "       [ 0,  1,  2,  3],\n",
       "       [16, 17, 18, 19]])"
      ]
     },
     "execution_count": 621,
     "metadata": {},
     "output_type": "execute_result"
    }
   ],
   "source": [
    "b"
   ]
  },
  {
   "cell_type": "code",
   "execution_count": 611,
   "id": "706bf0a2-9beb-49fb-b928-92e4c3a1020c",
   "metadata": {},
   "outputs": [
    {
     "data": {
      "text/plain": [
       "array([[12, 13, 14, 15],\n",
       "       [ 4,  5,  6,  7],\n",
       "       [ 8,  9, 10, 11],\n",
       "       [16, 17, 18, 19],\n",
       "       [16, 17, 18, 19]])"
      ]
     },
     "execution_count": 611,
     "metadata": {},
     "output_type": "execute_result"
    }
   ],
   "source": [
    "b"
   ]
  },
  {
   "cell_type": "code",
   "execution_count": null,
   "id": "7fbe796f-79ba-49d4-b376-7c41bc9269f7",
   "metadata": {},
   "outputs": [],
   "source": []
  },
  {
   "cell_type": "code",
   "execution_count": 627,
   "id": "f1c1a337-bcfb-474f-a74f-5c4c733fe413",
   "metadata": {},
   "outputs": [
    {
     "ename": "TypeError",
     "evalue": "roll() missing 1 required positional argument: 'shift'",
     "output_type": "error",
     "traceback": [
      "\u001b[1;31m---------------------------------------------------------------------------\u001b[0m",
      "\u001b[1;31mTypeError\u001b[0m                                 Traceback (most recent call last)",
      "Cell \u001b[1;32mIn[627], line 1\u001b[0m\n\u001b[1;32m----> 1\u001b[0m np\u001b[38;5;241m.\u001b[39mroll(b)\n",
      "\u001b[1;31mTypeError\u001b[0m: roll() missing 1 required positional argument: 'shift'"
     ]
    }
   ],
   "source": [
    "np.roll(b,)"
   ]
  },
  {
   "cell_type": "code",
   "execution_count": 661,
   "id": "d74bc625-cb39-4fa4-8875-5a3dd00bd502",
   "metadata": {},
   "outputs": [
    {
     "data": {
      "text/plain": [
       "array([7, 9, 4, 5, 7])"
      ]
     },
     "execution_count": 661,
     "metadata": {},
     "output_type": "execute_result"
    }
   ],
   "source": [
    "a=np.random.randint(1,10,5)\n",
    "a"
   ]
  },
  {
   "cell_type": "code",
   "execution_count": 669,
   "id": "6daa3278-c054-411f-948d-b7729d663417",
   "metadata": {},
   "outputs": [
    {
     "data": {
      "text/plain": [
       "array([0, 0, 0, 0, 1, 1, 0, 2, 0, 1], dtype=int64)"
      ]
     },
     "execution_count": 669,
     "metadata": {},
     "output_type": "execute_result"
    }
   ],
   "source": [
    "np.bincount(a)"
   ]
  },
  {
   "cell_type": "code",
   "execution_count": 671,
   "id": "8204233a-36fe-431f-8144-56f3422e209e",
   "metadata": {},
   "outputs": [
    {
     "data": {
      "text/plain": [
       "7"
      ]
     },
     "execution_count": 671,
     "metadata": {},
     "output_type": "execute_result"
    }
   ],
   "source": [
    "np.bincount(a).argmax()"
   ]
  },
  {
   "cell_type": "code",
   "execution_count": 673,
   "id": "b007db2f-a5b2-4813-a282-c3ad841c1883",
   "metadata": {},
   "outputs": [],
   "source": [
    "per = np.array([[56.0, 0.0, 4.4,  68.0],\n",
    "       [1.2, 104.0, 52.0, 8.0],\n",
    "       [1.8, 135.0, 99.0, 0.9]])"
   ]
  },
  {
   "cell_type": "code",
   "execution_count": 675,
   "id": "65e9d3f2-8c31-48bb-9853-52b5985e87e8",
   "metadata": {},
   "outputs": [
    {
     "data": {
      "text/plain": [
       "array([[ 56. ,   0. ,   4.4,  68. ],\n",
       "       [  1.2, 104. ,  52. ,   8. ],\n",
       "       [  1.8, 135. ,  99. ,   0.9]])"
      ]
     },
     "execution_count": 675,
     "metadata": {},
     "output_type": "execute_result"
    }
   ],
   "source": [
    "per"
   ]
  },
  {
   "cell_type": "code",
   "execution_count": 681,
   "id": "32b3d3bf-562e-423c-8cf8-fb7501fab67f",
   "metadata": {},
   "outputs": [
    {
     "data": {
      "text/plain": [
       "array([ 59. , 239. , 155.4,  76.9])"
      ]
     },
     "execution_count": 681,
     "metadata": {},
     "output_type": "execute_result"
    }
   ],
   "source": [
    "per.sum(axis=0)"
   ]
  },
  {
   "cell_type": "code",
   "execution_count": 693,
   "id": "5717572b-ddc7-4b2a-961e-2aa0b3e3da7a",
   "metadata": {},
   "outputs": [
    {
     "name": "stdout",
     "output_type": "stream",
     "text": [
      "For first item\n",
      "the percentage of carbs 94.91525423728814\n",
      " the percentage of proteins 2.0338983050847457 \n",
      " The percentage of fats 3.050847457627119\n"
     ]
    }
   ],
   "source": [
    "print(\"For first item\")\n",
    "print(f'the percentage of carbs {(per[0][0]/ per.sum(axis=0)[0])*100}')\n",
    "print(f' the percentage of proteins { (per[1][0]/per.sum(axis=0)[0])*100} ')\n",
    "print(f' The percentage of fats { (per[2][0]/per.sum(axis=0)[0])*100}')"
   ]
  },
  {
   "cell_type": "code",
   "execution_count": null,
   "id": "5c6d0bb5-e4a4-46d3-9a1a-d28e724297ba",
   "metadata": {},
   "outputs": [],
   "source": [
    "print(\"For second item\")\n",
    "print(f'the percentage of carbs {(per[0][1]/ per.sum(axis=0)[1])*100}')\n",
    "print(f' the percentage of proteins { (per[1][1]/per.sum(axis=0)[1])*100} ')\n",
    "print(f' The percentage of fats { (per[2][1]/per.sum(axis=0)[1])*100}')"
   ]
  },
  {
   "cell_type": "code",
   "execution_count": null,
   "id": "a0c6288d-3e60-403a-b2ac-7d5f88bd8f2b",
   "metadata": {},
   "outputs": [],
   "source": [
    "print(\"For third item\")\n",
    "print(f'the percentage of carbs {(per[0][2]/ per.sum(axis=0)[2])*100}')\n",
    "print(f' the percentage of proteins { (per[1][]/per.sum(axis=0)[0])*100} ')\n",
    "print(f' The percentage of fats { (per[2][0]/per.sum(axis=0)[0])*100}')"
   ]
  },
  {
   "cell_type": "code",
   "execution_count": 701,
   "id": "ed7fdda8-b920-4706-8898-58ced9741ebe",
   "metadata": {},
   "outputs": [
    {
     "data": {
      "text/plain": [
       "array([128.4, 165.2, 236.7])"
      ]
     },
     "execution_count": 701,
     "metadata": {},
     "output_type": "execute_result"
    }
   ],
   "source": [
    "t = per.sum(axis=1)\n",
    "t"
   ]
  },
  {
   "cell_type": "code",
   "execution_count": 707,
   "id": "fb0687f5-d6d3-4893-a80d-71f83a9cdb65",
   "metadata": {},
   "outputs": [
    {
     "data": {
      "text/plain": [
       "array([43.61370717,  0.        ,  3.42679128, 52.95950156])"
      ]
     },
     "execution_count": 707,
     "metadata": {},
     "output_type": "execute_result"
    }
   ],
   "source": [
    "per[0]/t[0] * 100"
   ]
  },
  {
   "cell_type": "code",
   "execution_count": 709,
   "id": "c950649a-d778-49dc-87c6-9e253fa59e40",
   "metadata": {},
   "outputs": [
    {
     "data": {
      "text/plain": [
       "array([ 0.72639225, 62.95399516, 31.47699758,  4.84261501])"
      ]
     },
     "execution_count": 709,
     "metadata": {},
     "output_type": "execute_result"
    }
   ],
   "source": [
    "per[1]/t[1] * 100"
   ]
  },
  {
   "cell_type": "code",
   "execution_count": 711,
   "id": "1957de88-ef4a-4f07-ac1e-a4e9e9a0c70e",
   "metadata": {},
   "outputs": [
    {
     "data": {
      "text/plain": [
       "array([ 0.76045627, 57.03422053, 41.82509506,  0.38022814])"
      ]
     },
     "execution_count": 711,
     "metadata": {},
     "output_type": "execute_result"
    }
   ],
   "source": [
    "per[2]/t[2]  * 100"
   ]
  },
  {
   "cell_type": "code",
   "execution_count": null,
   "id": "e638d84b-b203-47dc-a7dc-72f1a3ae745e",
   "metadata": {},
   "outputs": [],
   "source": []
  }
 ],
 "metadata": {
  "kernelspec": {
   "display_name": "Python 3 (ipykernel)",
   "language": "python",
   "name": "python3"
  },
  "language_info": {
   "codemirror_mode": {
    "name": "ipython",
    "version": 3
   },
   "file_extension": ".py",
   "mimetype": "text/x-python",
   "name": "python",
   "nbconvert_exporter": "python",
   "pygments_lexer": "ipython3",
   "version": "3.12.7"
  }
 },
 "nbformat": 4,
 "nbformat_minor": 5
}
