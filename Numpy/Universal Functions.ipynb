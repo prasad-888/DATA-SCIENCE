{
 "cells": [
  {
   "cell_type": "markdown",
   "id": "ca8d867a-0325-4e87-9859-2689672558de",
   "metadata": {},
   "source": [
    "## Numpy gives us a set of universal functions which gives us ability to operate element wise\n",
    "\n",
    "Three types\n",
    "1) unary ufuncs\n",
    "2) binary ufuncs\n",
    "3) aggregate functions"
   ]
  },
  {
   "cell_type": "code",
   "execution_count": 4,
   "id": "19a11f0b-a8aa-40d5-be0f-404bd8e7f76d",
   "metadata": {},
   "outputs": [
    {
     "data": {
      "text/plain": [
       "1.0435"
      ]
     },
     "execution_count": 4,
     "metadata": {},
     "output_type": "execute_result"
    }
   ],
   "source": [
    "import numpy as np\n",
    "\n",
    "np.abs(-1.0435)"
   ]
  },
  {
   "cell_type": "code",
   "execution_count": 6,
   "id": "72617d81-b1c8-4d5a-a305-bc243a255fdf",
   "metadata": {},
   "outputs": [
    {
     "data": {
      "text/plain": [
       "124122412.13414124"
      ]
     },
     "execution_count": 6,
     "metadata": {},
     "output_type": "execute_result"
    }
   ],
   "source": [
    "np.abs(124122412.13414124)"
   ]
  },
  {
   "cell_type": "code",
   "execution_count": 12,
   "id": "e8c5406f-77e7-499a-a162-2867353224db",
   "metadata": {},
   "outputs": [
    {
     "ename": "SyntaxError",
     "evalue": "invalid syntax. Perhaps you forgot a comma? (7808907.py, line 1)",
     "output_type": "error",
     "traceback": [
      "\u001b[1;36m  Cell \u001b[1;32mIn[12], line 1\u001b[1;36m\u001b[0m\n\u001b[1;33m    np.fabs(12124124 i-287465287)\u001b[0m\n\u001b[1;37m            ^\u001b[0m\n\u001b[1;31mSyntaxError\u001b[0m\u001b[1;31m:\u001b[0m invalid syntax. Perhaps you forgot a comma?\n"
     ]
    }
   ],
   "source": [
    "np.fabs(12124124 i-287465287)"
   ]
  },
  {
   "cell_type": "code",
   "execution_count": 14,
   "id": "d4e27e06-7ea4-484d-af9c-7fba43d1df6d",
   "metadata": {},
   "outputs": [
    {
     "data": {
      "text/plain": [
       "5.0"
      ]
     },
     "execution_count": 14,
     "metadata": {},
     "output_type": "execute_result"
    }
   ],
   "source": [
    "np.sqrt(25)"
   ]
  },
  {
   "cell_type": "markdown",
   "id": "a2a24fd1-c810-4207-b1d3-1686a2fe074a",
   "metadata": {},
   "source": [
    "mp.square(3)"
   ]
  },
  {
   "cell_type": "code",
   "execution_count": 17,
   "id": "38686862-2802-453a-b51f-e23f49d1a9a4",
   "metadata": {},
   "outputs": [
    {
     "data": {
      "text/plain": [
       "9"
      ]
     },
     "execution_count": 17,
     "metadata": {},
     "output_type": "execute_result"
    }
   ],
   "source": [
    "np.square(3)"
   ]
  },
  {
   "cell_type": "code",
   "execution_count": 19,
   "id": "40017ca5-f69c-474e-a8bf-08558b1427b8",
   "metadata": {},
   "outputs": [
    {
     "data": {
      "text/plain": [
       "20.085536923187668"
      ]
     },
     "execution_count": 19,
     "metadata": {},
     "output_type": "execute_result"
    }
   ],
   "source": [
    "np.exp(3)"
   ]
  },
  {
   "cell_type": "code",
   "execution_count": 23,
   "id": "66e56535-5cbf-45e5-920d-e3eaa3418dc0",
   "metadata": {},
   "outputs": [
    {
     "data": {
      "text/plain": [
       "0.6931471805599453"
      ]
     },
     "execution_count": 23,
     "metadata": {},
     "output_type": "execute_result"
    }
   ],
   "source": [
    "np.log(2)"
   ]
  },
  {
   "cell_type": "code",
   "execution_count": 25,
   "id": "61129d64-5cbd-4824-b6f7-c0620b0c7cac",
   "metadata": {},
   "outputs": [
    {
     "data": {
      "text/plain": [
       "-1.0"
      ]
     },
     "execution_count": 25,
     "metadata": {},
     "output_type": "execute_result"
    }
   ],
   "source": [
    "np.sign(-13414.24124)"
   ]
  },
  {
   "cell_type": "code",
   "execution_count": 27,
   "id": "b9486bd8-c4ec-4a8d-9f53-18c456030dd3",
   "metadata": {},
   "outputs": [
    {
     "data": {
      "text/plain": [
       "1"
      ]
     },
     "execution_count": 27,
     "metadata": {},
     "output_type": "execute_result"
    }
   ],
   "source": [
    "np.sign(13413)"
   ]
  },
  {
   "cell_type": "code",
   "execution_count": 29,
   "id": "b5783af0-b0c5-40a0-a74f-30499a4e2669",
   "metadata": {},
   "outputs": [
    {
     "data": {
      "text/plain": [
       "0"
      ]
     },
     "execution_count": 29,
     "metadata": {},
     "output_type": "execute_result"
    }
   ],
   "source": [
    "np.sign(0)"
   ]
  },
  {
   "cell_type": "code",
   "execution_count": 37,
   "id": "8975d033-6f0f-4565-aede-a92ada55a3f1",
   "metadata": {},
   "outputs": [
    {
     "name": "stderr",
     "output_type": "stream",
     "text": [
      "C:\\Users\\Prasad\\AppData\\Local\\Temp\\ipykernel_15228\\3444610929.py:2: RuntimeWarning: invalid value encountered in sqrt\n",
      "  np.sqrt(arr)\n"
     ]
    },
    {
     "data": {
      "text/plain": [
       "array([[0.22823364, 0.4977071 ,        nan],\n",
       "       [       nan,        nan, 0.27470077],\n",
       "       [       nan, 0.16297264, 0.60407946]])"
      ]
     },
     "execution_count": 37,
     "metadata": {},
     "output_type": "execute_result"
    }
   ],
   "source": [
    "arr=np.random.randn(3,3)\n",
    "np.sqrt(arr)"
   ]
  },
  {
   "cell_type": "code",
   "execution_count": 41,
   "id": "f8e97c26-fa64-40e7-a74d-c13011a922ab",
   "metadata": {},
   "outputs": [
    {
     "data": {
      "text/plain": [
       "array([[1.        , 1.41421356, 1.73205081, 2.        ],\n",
       "       [2.23606798, 2.44948974, 2.64575131, 2.82842712],\n",
       "       [3.        , 3.16227766, 3.31662479, 3.46410162]])"
      ]
     },
     "execution_count": 41,
     "metadata": {},
     "output_type": "execute_result"
    }
   ],
   "source": [
    "x=np.array([[1.0, 1.41421356, 1.73205081, 2.0],\n",
    "       [2.23606798, 2.44948974, 2.64575131, 2.82842712],\n",
    "       [3.0, 3.16227766, 3.31662479, 3.46410162]])\n",
    "x"
   ]
  },
  {
   "cell_type": "code",
   "execution_count": 43,
   "id": "90b2aa2d-8653-4e3d-8ef7-26c1df324668",
   "metadata": {},
   "outputs": [
    {
     "data": {
      "text/plain": [
       "array([[ 0.05209059,  0.24771236, -1.16368533],\n",
       "       [-0.93464285, -0.21897307,  0.07546052],\n",
       "       [-0.21467078,  0.02656008,  0.36491199]])"
      ]
     },
     "execution_count": 43,
     "metadata": {},
     "output_type": "execute_result"
    }
   ],
   "source": [
    "arr"
   ]
  },
  {
   "cell_type": "code",
   "execution_count": 45,
   "id": "327a579c-3a5c-4db4-ab79-d5e02e0eaef6",
   "metadata": {},
   "outputs": [
    {
     "data": {
      "text/plain": [
       "array([[1.05347118, 1.28109139, 0.31233301],\n",
       "       [0.3927261 , 0.80334335, 1.07838065],\n",
       "       [0.80680701, 1.02691594, 1.44038723]])"
      ]
     },
     "execution_count": 45,
     "metadata": {},
     "output_type": "execute_result"
    }
   ],
   "source": [
    "np.exp(arr)"
   ]
  },
  {
   "cell_type": "code",
   "execution_count": 47,
   "id": "9163bff4-7327-4f7b-b1a0-ee506bc365ca",
   "metadata": {},
   "outputs": [
    {
     "name": "stderr",
     "output_type": "stream",
     "text": [
      "C:\\Users\\Prasad\\AppData\\Local\\Temp\\ipykernel_15228\\2296558006.py:1: RuntimeWarning: invalid value encountered in sqrt\n",
      "  np.sqrt(arr)\n"
     ]
    },
    {
     "data": {
      "text/plain": [
       "array([[0.22823364, 0.4977071 ,        nan],\n",
       "       [       nan,        nan, 0.27470077],\n",
       "       [       nan, 0.16297264, 0.60407946]])"
      ]
     },
     "execution_count": 47,
     "metadata": {},
     "output_type": "execute_result"
    }
   ],
   "source": [
    "np.sqrt(arr)"
   ]
  },
  {
   "cell_type": "code",
   "execution_count": 49,
   "id": "a34243c5-b00c-4c2d-a15e-6ff4b73658f6",
   "metadata": {},
   "outputs": [
    {
     "name": "stderr",
     "output_type": "stream",
     "text": [
      "C:\\Users\\Prasad\\AppData\\Local\\Temp\\ipykernel_15228\\3120950136.py:1: RuntimeWarning: invalid value encountered in log\n",
      "  np.log(arr)\n"
     ]
    },
    {
     "data": {
      "text/plain": [
       "array([[-2.9547709 , -1.39548704,         nan],\n",
       "       [        nan,         nan, -2.58414573],\n",
       "       [        nan, -3.62834586, -1.00809908]])"
      ]
     },
     "execution_count": 49,
     "metadata": {},
     "output_type": "execute_result"
    }
   ],
   "source": [
    "np.log(arr)"
   ]
  },
  {
   "cell_type": "code",
   "execution_count": 51,
   "id": "0f881762-cf1a-4173-a1e0-65f73beef47f",
   "metadata": {},
   "outputs": [
    {
     "name": "stdout",
     "output_type": "stream",
     "text": [
      "[[-1.25149673  0.85943627  0.55526232 -0.23803436]\n",
      " [ 1.87923379 -0.64278236 -0.21699171  0.13672664]\n",
      " [-0.85971988 -2.02190423  0.40798598 -1.80695862]\n",
      " [-0.85129979  0.09088309 -1.35106026 -1.05127217]]\n",
      "[[-0.72628782  0.08321249 -0.56461976 -1.61057267]\n",
      " [-0.69804724  1.44054757  0.05930639  0.85524385]\n",
      " [-0.32004909 -1.14671366  1.59911559 -1.68275018]\n",
      " [ 0.8501991  -0.29578821 -1.02724653  2.05158061]]\n"
     ]
    }
   ],
   "source": [
    "arr1=np.random.randn(4,4)\n",
    "arr2=np.random.randn(4,4)\n",
    "print(arr1)\n",
    "print(arr2)"
   ]
  },
  {
   "cell_type": "code",
   "execution_count": 53,
   "id": "51b89d56-8b0f-4239-8c71-f09d38d30985",
   "metadata": {},
   "outputs": [
    {
     "data": {
      "text/plain": [
       "array([[-1.97778455e+00,  9.42648755e-01, -9.35744196e-03,\n",
       "        -1.84860703e+00],\n",
       "       [ 1.18118655e+00,  7.97765209e-01, -1.57685324e-01,\n",
       "         9.91970495e-01],\n",
       "       [-1.17976897e+00, -3.16861789e+00,  2.00710157e+00,\n",
       "        -3.48970880e+00],\n",
       "       [-1.10069337e-03, -2.04905119e-01, -2.37830679e+00,\n",
       "         1.00030844e+00]])"
      ]
     },
     "execution_count": 53,
     "metadata": {},
     "output_type": "execute_result"
    }
   ],
   "source": [
    "np.add(arr1, arr2)"
   ]
  },
  {
   "cell_type": "code",
   "execution_count": 55,
   "id": "31634a34-9290-49b2-a678-37f1dfe344fa",
   "metadata": {},
   "outputs": [
    {
     "data": {
      "text/plain": [
       "array([[-0.52520891,  0.77622378,  1.11988208,  1.37253832],\n",
       "       [ 2.57728102, -2.08332992, -0.2762981 , -0.71851721],\n",
       "       [-0.53967079, -0.87519057, -1.1911296 , -0.12420843],\n",
       "       [-1.70149889,  0.3866713 , -0.32381374, -3.10285279]])"
      ]
     },
     "execution_count": 55,
     "metadata": {},
     "output_type": "execute_result"
    }
   ],
   "source": [
    "np.subtract(arr1, arr2)"
   ]
  },
  {
   "cell_type": "code",
   "execution_count": 57,
   "id": "1f1c5239-5fbf-4ffe-b879-d8b39110c454",
   "metadata": {},
   "outputs": [
    {
     "data": {
      "text/plain": [
       "array([[ 0.90894683,  0.07151583, -0.31351208,  0.38337163],\n",
       "       [-1.31179395, -0.92595856, -0.01286899,  0.11693462],\n",
       "       [ 0.27515257,  2.3185452 ,  0.65241675,  3.04065994],\n",
       "       [-0.72377432, -0.02688215,  1.38787197, -2.15676961]])"
      ]
     },
     "execution_count": 57,
     "metadata": {},
     "output_type": "execute_result"
    }
   ],
   "source": [
    "np.multiply(arr1, arr2)"
   ]
  },
  {
   "cell_type": "code",
   "execution_count": 59,
   "id": "c4185bbf-9372-459e-8e91-7ff6da9f80e0",
   "metadata": {},
   "outputs": [
    {
     "data": {
      "text/plain": [
       "array([[ 1.72314157, 10.32821235, -0.983427  ,  0.14779486],\n",
       "       [-2.69212982, -0.44620696, -3.65882531,  0.15986861],\n",
       "       [ 2.68621252,  1.76321631,  0.25513227,  1.07381276],\n",
       "       [-1.00129463, -0.30725731,  1.31522495, -0.5124206 ]])"
      ]
     },
     "execution_count": 59,
     "metadata": {},
     "output_type": "execute_result"
    }
   ],
   "source": [
    "np.divide(arr1, arr2)"
   ]
  },
  {
   "cell_type": "code",
   "execution_count": 61,
   "id": "8329d03c-392a-4450-92ef-cac18aaafc3b",
   "metadata": {},
   "outputs": [
    {
     "data": {
      "text/plain": [
       "-1.7652364917514474"
      ]
     },
     "execution_count": 61,
     "metadata": {},
     "output_type": "execute_result"
    }
   ],
   "source": [
    "np.sum(arr)"
   ]
  },
  {
   "cell_type": "code",
   "execution_count": 63,
   "id": "ac327e92-67b0-464e-bc70-93055d3093aa",
   "metadata": {},
   "outputs": [
    {
     "data": {
      "text/plain": [
       "-0.19613738797238303"
      ]
     },
     "execution_count": 63,
     "metadata": {},
     "output_type": "execute_result"
    }
   ],
   "source": [
    "np.mean(arr)"
   ]
  },
  {
   "cell_type": "code",
   "execution_count": 65,
   "id": "f720c707-e8bf-4d58-a90b-3073b139efb4",
   "metadata": {},
   "outputs": [
    {
     "data": {
      "text/plain": [
       "0.49206594146966637"
      ]
     },
     "execution_count": 65,
     "metadata": {},
     "output_type": "execute_result"
    }
   ],
   "source": [
    "np.std(arr)"
   ]
  },
  {
   "cell_type": "code",
   "execution_count": null,
   "id": "e1332684-e41b-4e8c-b519-247865708893",
   "metadata": {},
   "outputs": [],
   "source": []
  },
  {
   "cell_type": "code",
   "execution_count": null,
   "id": "cf207363-ca69-40b3-a144-ff3d83808ee3",
   "metadata": {},
   "outputs": [],
   "source": []
  },
  {
   "cell_type": "code",
   "execution_count": null,
   "id": "95c68518-3943-4d01-859a-5fa8e17a0416",
   "metadata": {},
   "outputs": [],
   "source": []
  },
  {
   "cell_type": "code",
   "execution_count": null,
   "id": "6bc47a11-d839-44f7-88c1-b9af1b16bcac",
   "metadata": {},
   "outputs": [],
   "source": []
  },
  {
   "cell_type": "code",
   "execution_count": null,
   "id": "6c0db820-a790-4b3b-9586-e06a3a9f169c",
   "metadata": {},
   "outputs": [],
   "source": []
  },
  {
   "cell_type": "code",
   "execution_count": null,
   "id": "4c526c6d-0df7-478a-b9ca-cadf80d6daf8",
   "metadata": {},
   "outputs": [],
   "source": []
  },
  {
   "cell_type": "code",
   "execution_count": null,
   "id": "0acf28df-e387-45c5-84f6-e39b4f30bd0a",
   "metadata": {},
   "outputs": [],
   "source": []
  },
  {
   "cell_type": "code",
   "execution_count": null,
   "id": "7065a1bc-b297-4dff-afc4-11eb45c1d619",
   "metadata": {},
   "outputs": [],
   "source": []
  },
  {
   "cell_type": "code",
   "execution_count": null,
   "id": "0ae448e9-ba5a-4120-b6d1-28b0b054cb59",
   "metadata": {},
   "outputs": [],
   "source": []
  },
  {
   "cell_type": "code",
   "execution_count": null,
   "id": "292b8589-aec2-476b-99d0-22c8e44baa88",
   "metadata": {},
   "outputs": [],
   "source": []
  }
 ],
 "metadata": {
  "kernelspec": {
   "display_name": "Python 3 (ipykernel)",
   "language": "python",
   "name": "python3"
  },
  "language_info": {
   "codemirror_mode": {
    "name": "ipython",
    "version": 3
   },
   "file_extension": ".py",
   "mimetype": "text/x-python",
   "name": "python",
   "nbconvert_exporter": "python",
   "pygments_lexer": "ipython3",
   "version": "3.12.7"
  }
 },
 "nbformat": 4,
 "nbformat_minor": 5
}
