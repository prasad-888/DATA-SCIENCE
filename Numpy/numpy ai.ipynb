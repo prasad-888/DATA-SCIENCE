{
 "cells": [
  {
   "cell_type": "code",
   "execution_count": 1,
   "id": "c8b0de3e-a543-4f62-92a6-ac45552f63af",
   "metadata": {},
   "outputs": [
    {
     "data": {
      "text/plain": [
       "array([  3,   6, 132,  15,  18])"
      ]
     },
     "execution_count": 1,
     "metadata": {},
     "output_type": "execute_result"
    }
   ],
   "source": [
    "import numpy as np\n",
    "a = np.array([1,2,44,5,6])\n",
    "a *3\n"
   ]
  },
  {
   "cell_type": "code",
   "execution_count": 7,
   "id": "3863f203-4531-4fc3-9b21-6fb3ef367a57",
   "metadata": {},
   "outputs": [
    {
     "data": {
      "text/plain": [
       "[1, 2, 44, 5, 6, 1, 2, 44, 5, 6, 1, 2, 44, 5, 6]"
      ]
     },
     "execution_count": 7,
     "metadata": {},
     "output_type": "execute_result"
    }
   ],
   "source": [
    "list1=[1,2,44,5,6]\n",
    "list1*3"
   ]
  },
  {
   "cell_type": "code",
   "execution_count": 5,
   "id": "7167c968-fb9a-43b4-af45-b05de66d2b95",
   "metadata": {},
   "outputs": [
    {
     "name": "stdout",
     "output_type": "stream",
     "text": [
      "[ 1  2 44  5  6]\n"
     ]
    }
   ],
   "source": [
    "print(a)"
   ]
  },
  {
   "cell_type": "raw",
   "id": "c870569c-5e7a-46ce-b097-3267d6dd36b6",
   "metadata": {},
   "source": [
    "print(list1)"
   ]
  },
  {
   "cell_type": "markdown",
   "id": "1789a6f5-43a6-4597-8bf3-313cb3098d38",
   "metadata": {},
   "source": [
    "## Using Numoy"
   ]
  },
  {
   "cell_type": "code",
   "execution_count": 9,
   "id": "5ec21db2-4d73-4b57-a8d1-54449b2c33b9",
   "metadata": {},
   "outputs": [],
   "source": [
    "import numpy as np"
   ]
  },
  {
   "cell_type": "code",
   "execution_count": 11,
   "id": "a4c6e92a-9bdc-4fc5-9796-5532242581a2",
   "metadata": {},
   "outputs": [
    {
     "data": {
      "text/plain": [
       "array([1, 2, 3])"
      ]
     },
     "execution_count": 11,
     "metadata": {},
     "output_type": "execute_result"
    }
   ],
   "source": [
    "my_list = [1, 2, 3]\n",
    "np.array(my_list)"
   ]
  },
  {
   "cell_type": "raw",
   "id": "a38e026b-ea50-4409-987d-deccaf1eec5a",
   "metadata": {},
   "source": [
    "my_matrix = [[1, 2, 3],\n",
    "            [4, 5, 6],\n",
    "            [7, 8, 9]]\n",
    "np.array(my_matrix)"
   ]
  },
  {
   "cell_type": "code",
   "execution_count": 17,
   "id": "d062bba2-c203-42d8-a89f-fa55bf376869",
   "metadata": {},
   "outputs": [
    {
     "data": {
      "text/plain": [
       "array([[0., 0., 0.],\n",
       "       [0., 0., 0.],\n",
       "       [0., 0., 0.]])"
      ]
     },
     "execution_count": 17,
     "metadata": {},
     "output_type": "execute_result"
    }
   ],
   "source": [
    "np.zeros((3, 3))"
   ]
  },
  {
   "cell_type": "code",
   "execution_count": 19,
   "id": "ddc353a9-c325-4814-9722-157e46258608",
   "metadata": {},
   "outputs": [
    {
     "data": {
      "text/plain": [
       "array([1., 1., 1.])"
      ]
     },
     "execution_count": 19,
     "metadata": {},
     "output_type": "execute_result"
    }
   ],
   "source": [
    "np.ones(3)"
   ]
  },
  {
   "cell_type": "code",
   "execution_count": 21,
   "id": "b0662238-d90c-460e-a6e7-2dd3eef337c4",
   "metadata": {},
   "outputs": [
    {
     "data": {
      "text/plain": [
       "array([[1., 1., 1.],\n",
       "       [1., 1., 1.],\n",
       "       [1., 1., 1.]])"
      ]
     },
     "execution_count": 21,
     "metadata": {},
     "output_type": "execute_result"
    }
   ],
   "source": [
    "np.ones((3,3))"
   ]
  },
  {
   "cell_type": "code",
   "execution_count": 25,
   "id": "f50e017c-1e3f-4f01-b9f4-8292c84bda03",
   "metadata": {},
   "outputs": [
    {
     "data": {
      "text/plain": [
       "array([[[1., 1., 1.],\n",
       "        [1., 1., 1.],\n",
       "        [1., 1., 1.]],\n",
       "\n",
       "       [[1., 1., 1.],\n",
       "        [1., 1., 1.],\n",
       "        [1., 1., 1.]],\n",
       "\n",
       "       [[1., 1., 1.],\n",
       "        [1., 1., 1.],\n",
       "        [1., 1., 1.]]])"
      ]
     },
     "execution_count": 25,
     "metadata": {},
     "output_type": "execute_result"
    }
   ],
   "source": [
    "np.ones(((3,3,3)))"
   ]
  },
  {
   "cell_type": "code",
   "execution_count": 29,
   "id": "bf55ec8d-ea71-48e0-91b4-3779c7fbf3be",
   "metadata": {},
   "outputs": [
    {
     "data": {
      "text/plain": [
       "array([[0, 1, 2],\n",
       "       [3, 4, 5]])"
      ]
     },
     "execution_count": 29,
     "metadata": {},
     "output_type": "execute_result"
    }
   ],
   "source": [
    "import numpy as np\n",
    "x = np.arange(6)\n",
    "x = x.reshape((2,3))\n",
    "x"
   ]
  },
  {
   "cell_type": "code",
   "execution_count": 31,
   "id": "8d976bbd-87c5-4661-b79c-e7d5a18560cf",
   "metadata": {},
   "outputs": [
    {
     "data": {
      "text/plain": [
       "array([[1, 1, 1],\n",
       "       [1, 1, 1]])"
      ]
     },
     "execution_count": 31,
     "metadata": {},
     "output_type": "execute_result"
    }
   ],
   "source": [
    "np.ones_like(x)"
   ]
  },
  {
   "cell_type": "code",
   "execution_count": 33,
   "id": "f212985f-3e4a-418c-8d8a-bf56bf444f1d",
   "metadata": {},
   "outputs": [
    {
     "data": {
      "text/plain": [
       "array([[0, 1, 2],\n",
       "       [3, 4, 5]])"
      ]
     },
     "execution_count": 33,
     "metadata": {},
     "output_type": "execute_result"
    }
   ],
   "source": [
    "import numpy as np\n",
    "x = np.arange(6)\n",
    "x = x.reshape((2, 3))\n",
    "x"
   ]
  },
  {
   "cell_type": "code",
   "execution_count": 35,
   "id": "02bca358-370b-48fc-877e-ab786a24b819",
   "metadata": {},
   "outputs": [
    {
     "data": {
      "text/plain": [
       "array([[0, 0, 0],\n",
       "       [0, 0, 0]])"
      ]
     },
     "execution_count": 35,
     "metadata": {},
     "output_type": "execute_result"
    }
   ],
   "source": [
    "np.zeros_like(x)"
   ]
  },
  {
   "cell_type": "code",
   "execution_count": 37,
   "id": "e860787f-4e0f-4df7-b32e-38c0fa134e8b",
   "metadata": {},
   "outputs": [
    {
     "data": {
      "text/plain": [
       "array([0., 1., 2.])"
      ]
     },
     "execution_count": 37,
     "metadata": {},
     "output_type": "execute_result"
    }
   ],
   "source": [
    "y = np.arange(3, dtype=float)\n",
    "y"
   ]
  },
  {
   "cell_type": "code",
   "execution_count": 39,
   "id": "830fd9e9-1ecb-460c-9dc7-cb0e865ec793",
   "metadata": {},
   "outputs": [
    {
     "data": {
      "text/plain": [
       "array([0., 0., 0.])"
      ]
     },
     "execution_count": 39,
     "metadata": {},
     "output_type": "execute_result"
    }
   ],
   "source": [
    "np.zeros_like(y)"
   ]
  },
  {
   "cell_type": "code",
   "execution_count": 41,
   "id": "c9c8fd01-0cfa-4129-8e4b-1cd71eba70b7",
   "metadata": {},
   "outputs": [
    {
     "data": {
      "text/plain": [
       "array([[1., 0., 0.],\n",
       "       [0., 1., 0.],\n",
       "       [0., 0., 1.]])"
      ]
     },
     "execution_count": 41,
     "metadata": {},
     "output_type": "execute_result"
    }
   ],
   "source": [
    "### Identity Matrix\n",
    "\n",
    "np.eye(3)\n"
   ]
  },
  {
   "cell_type": "markdown",
   "id": "538f2c68-f8fa-49b0-8b90-8b4a44f810e9",
   "metadata": {},
   "source": [
    "## Basic Indexing with Numoy"
   ]
  },
  {
   "cell_type": "code",
   "execution_count": 43,
   "id": "f4a49c76-a8af-45f7-9a60-9062c76aaa2c",
   "metadata": {},
   "outputs": [
    {
     "data": {
      "text/plain": [
       "array([0, 1, 2, 3, 4, 5, 6, 7, 8, 9])"
      ]
     },
     "execution_count": 43,
     "metadata": {},
     "output_type": "execute_result"
    }
   ],
   "source": [
    "np.arange(10)"
   ]
  },
  {
   "cell_type": "code",
   "execution_count": 45,
   "id": "d856104d-34f5-4a15-a606-6f77fb41f850",
   "metadata": {},
   "outputs": [
    {
     "data": {
      "text/plain": [
       "array([10, 11, 12, 13, 14, 15, 16, 17, 18, 19])"
      ]
     },
     "execution_count": 45,
     "metadata": {},
     "output_type": "execute_result"
    }
   ],
   "source": [
    "np.arange(10, 20)"
   ]
  },
  {
   "cell_type": "code",
   "execution_count": 47,
   "id": "0ef0fef7-772c-4cbd-97b3-570fecc1d817",
   "metadata": {},
   "outputs": [
    {
     "data": {
      "text/plain": [
       "array([10, 12, 14, 16, 18])"
      ]
     },
     "execution_count": 47,
     "metadata": {},
     "output_type": "execute_result"
    }
   ],
   "source": [
    "np.arange(10, 20, 2)"
   ]
  },
  {
   "cell_type": "code",
   "execution_count": 49,
   "id": "c776f1cc-55d0-4ec1-80c2-a07fd173de10",
   "metadata": {},
   "outputs": [
    {
     "data": {
      "text/plain": [
       "array([10.  , 11.25, 12.5 , 13.75, 15.  ])"
      ]
     },
     "execution_count": 49,
     "metadata": {},
     "output_type": "execute_result"
    }
   ],
   "source": [
    "np.linspace(10, 15, 5)"
   ]
  },
  {
   "cell_type": "code",
   "execution_count": null,
   "id": "e713792a-de56-408d-a8e6-d23c4a169ccd",
   "metadata": {},
   "outputs": [],
   "source": []
  },
  {
   "cell_type": "code",
   "execution_count": 51,
   "id": "6aaa2fd9-7732-42fd-9b31-4625a5589c5a",
   "metadata": {},
   "outputs": [
    {
     "data": {
      "text/plain": [
       "array([0, 1, 2, 3, 4, 5, 6, 7, 8, 9])"
      ]
     },
     "execution_count": 51,
     "metadata": {},
     "output_type": "execute_result"
    }
   ],
   "source": [
    "## 1D array indexing\n",
    "arr = np.arange(10)\n",
    "arr"
   ]
  },
  {
   "cell_type": "code",
   "execution_count": 53,
   "id": "6e9dd33b-333c-4437-9825-0feac7e52091",
   "metadata": {},
   "outputs": [
    {
     "data": {
      "text/plain": [
       "5"
      ]
     },
     "execution_count": 53,
     "metadata": {},
     "output_type": "execute_result"
    }
   ],
   "source": [
    "arr[5]"
   ]
  },
  {
   "cell_type": "code",
   "execution_count": 55,
   "id": "7e05ab98-62b2-4bb8-809d-ee760201c8f1",
   "metadata": {},
   "outputs": [
    {
     "data": {
      "text/plain": [
       "array([4, 5, 6, 7, 8])"
      ]
     },
     "execution_count": 55,
     "metadata": {},
     "output_type": "execute_result"
    }
   ],
   "source": [
    "arr[4: 9]"
   ]
  },
  {
   "cell_type": "code",
   "execution_count": 59,
   "id": "37a1fe1b-23e4-45ff-9d4e-da476bf3b587",
   "metadata": {},
   "outputs": [
    {
     "data": {
      "text/plain": [
       "array([  0,   1,   2,   3, 100,   5, 100,   7, 100,   9])"
      ]
     },
     "execution_count": 59,
     "metadata": {},
     "output_type": "execute_result"
    }
   ],
   "source": [
    "arr[4:9:2] = 100\n",
    "arr"
   ]
  },
  {
   "cell_type": "code",
   "execution_count": 61,
   "id": "8ddcf231-53f2-4c0b-886d-a224145013ef",
   "metadata": {},
   "outputs": [
    {
     "data": {
      "text/plain": [
       "array([  0,   1,   2,   3, 100,   5, 100,   7, 100,   9])"
      ]
     },
     "execution_count": 61,
     "metadata": {},
     "output_type": "execute_result"
    }
   ],
   "source": [
    "arr"
   ]
  },
  {
   "cell_type": "code",
   "execution_count": 63,
   "id": "f77cc8f4-3bad-40f5-96e5-ef057e23a055",
   "metadata": {},
   "outputs": [],
   "source": [
    "arr26 = arr[2:6]\n",
    "arr26[:] =26"
   ]
  },
  {
   "cell_type": "code",
   "execution_count": 65,
   "id": "1668d484-367f-45ec-9f9a-3af744f3d355",
   "metadata": {},
   "outputs": [
    {
     "data": {
      "text/plain": [
       "array([  0,   1,  26,  26,  26,  26, 100,   7, 100,   9])"
      ]
     },
     "execution_count": 65,
     "metadata": {},
     "output_type": "execute_result"
    }
   ],
   "source": [
    "arr\n",
    "## Array slices are views on the original array, meaning any changes to the slice\n",
    "## will reflect in the original array."
   ]
  },
  {
   "cell_type": "code",
   "execution_count": 67,
   "id": "5795a916-0c81-4d62-85cf-80aef27c1c85",
   "metadata": {},
   "outputs": [],
   "source": [
    "arr2d = np.array([[0, 1, 2],\n",
    "                 [3, 4, 5],\n",
    "                 [6, 7, 8]])"
   ]
  },
  {
   "cell_type": "code",
   "execution_count": 69,
   "id": "94dfb095-b880-4de8-95fb-032269021262",
   "metadata": {},
   "outputs": [
    {
     "name": "stdout",
     "output_type": "stream",
     "text": [
      "[[1 2]\n",
      " [4 5]]\n"
     ]
    }
   ],
   "source": [
    "result = arr2d[0:2, 1:3]\n",
    "print(result)"
   ]
  },
  {
   "cell_type": "code",
   "execution_count": 71,
   "id": "70777cb5-437e-48a1-8c3f-02e49ddbbbbe",
   "metadata": {},
   "outputs": [
    {
     "data": {
      "text/plain": [
       "array([[0, 1, 2],\n",
       "       [3, 4, 5],\n",
       "       [6, 7, 8]])"
      ]
     },
     "execution_count": 71,
     "metadata": {},
     "output_type": "execute_result"
    }
   ],
   "source": [
    "arr2d"
   ]
  },
  {
   "cell_type": "code",
   "execution_count": 77,
   "id": "0e0e3500-619b-4f18-8fed-69e65b0417b7",
   "metadata": {},
   "outputs": [
    {
     "name": "stdout",
     "output_type": "stream",
     "text": [
      "[[3 4 5]\n",
      " [6 7 8]]\n"
     ]
    }
   ],
   "source": [
    "result1=arr2d[1:3, 0:3]\n",
    "print(result1)"
   ]
  },
  {
   "cell_type": "code",
   "execution_count": 79,
   "id": "c5bab72b-b8a8-4888-9826-f84df92aa98f",
   "metadata": {},
   "outputs": [
    {
     "name": "stdout",
     "output_type": "stream",
     "text": [
      "[[0]]\n"
     ]
    }
   ],
   "source": [
    "result2=arr2d[0:1, 0:1]\n",
    "print(result2)"
   ]
  },
  {
   "cell_type": "code",
   "execution_count": 84,
   "id": "e9c5b5d3-f462-4fe8-809c-2edf5ffae3a4",
   "metadata": {},
   "outputs": [
    {
     "name": "stdout",
     "output_type": "stream",
     "text": [
      "[[0 1 2]\n",
      " [3 4 5]\n",
      " [6 7 8]]\n"
     ]
    }
   ],
   "source": [
    "result3 = arr2d[:]\n",
    "print(result3)"
   ]
  },
  {
   "cell_type": "code",
   "execution_count": 86,
   "id": "bed739c3-72e1-4a23-a1a6-fd732bf4b369",
   "metadata": {},
   "outputs": [
    {
     "name": "stdout",
     "output_type": "stream",
     "text": [
      "[[0 1 2]\n",
      " [6 7 8]]\n"
     ]
    }
   ],
   "source": [
    "result = arr2d[0:3:2]\n",
    "print(result)"
   ]
  },
  {
   "cell_type": "code",
   "execution_count": 88,
   "id": "781a4032-af56-42ca-a6ff-f2a452d56896",
   "metadata": {},
   "outputs": [
    {
     "name": "stdout",
     "output_type": "stream",
     "text": [
      "[2 5]\n"
     ]
    }
   ],
   "source": [
    "result= arr2d[0:2, 2]\n",
    "print(result)"
   ]
  },
  {
   "cell_type": "code",
   "execution_count": 90,
   "id": "fd38d421-2f11-42fb-9315-0b96b2b6814a",
   "metadata": {},
   "outputs": [],
   "source": [
    "arr2d = np.arange(9).reshape(3, 3)"
   ]
  },
  {
   "cell_type": "code",
   "execution_count": 92,
   "id": "1212bb4e-a0a8-4061-b6a4-c57ea9cbcdd5",
   "metadata": {},
   "outputs": [
    {
     "data": {
      "text/plain": [
       "array([[0, 1, 2],\n",
       "       [3, 4, 5],\n",
       "       [6, 7, 8]])"
      ]
     },
     "execution_count": 92,
     "metadata": {},
     "output_type": "execute_result"
    }
   ],
   "source": [
    "\n",
    "arr2d"
   ]
  },
  {
   "cell_type": "code",
   "execution_count": 94,
   "id": "e231af4c-37db-4846-8616-a531f787517e",
   "metadata": {},
   "outputs": [
    {
     "data": {
      "text/plain": [
       "array([0, 1, 2])"
      ]
     },
     "execution_count": 94,
     "metadata": {},
     "output_type": "execute_result"
    }
   ],
   "source": [
    "arr2d[0]"
   ]
  },
  {
   "cell_type": "code",
   "execution_count": 96,
   "id": "e321517d-cca8-49a4-ad65-392f66ec474b",
   "metadata": {},
   "outputs": [
    {
     "data": {
      "text/plain": [
       "1"
      ]
     },
     "execution_count": 96,
     "metadata": {},
     "output_type": "execute_result"
    }
   ],
   "source": [
    "arr2d [0][1]"
   ]
  },
  {
   "cell_type": "code",
   "execution_count": 98,
   "id": "94280b9e-4f78-4f0c-a92c-2f785c279672",
   "metadata": {},
   "outputs": [
    {
     "data": {
      "text/plain": [
       "1"
      ]
     },
     "execution_count": 98,
     "metadata": {},
     "output_type": "execute_result"
    }
   ],
   "source": [
    "arr2d[0, 1]"
   ]
  },
  {
   "cell_type": "code",
   "execution_count": 128,
   "id": "1649950d-b631-4310-9232-6849c5cf3676",
   "metadata": {},
   "outputs": [
    {
     "data": {
      "text/plain": [
       "array([[[[[0.9067291 , 0.24228476, 0.50487547, 0.86156773],\n",
       "          [0.36501771, 0.53066973, 0.57790534, 0.14145276],\n",
       "          [0.95015578, 0.52114011, 0.84279687, 0.43277017]],\n",
       "\n",
       "         [[0.09980379, 0.47528187, 0.24926092, 0.43610565],\n",
       "          [0.02569258, 0.00575113, 0.89938549, 0.3471104 ],\n",
       "          [0.31479467, 0.58676851, 0.30941493, 0.83290651]],\n",
       "\n",
       "         [[0.93148505, 0.53434349, 0.21973928, 0.2516112 ],\n",
       "          [0.97316816, 0.95863918, 0.94111686, 0.48240218],\n",
       "          [0.33737959, 0.08928596, 0.39233397, 0.36033394]]],\n",
       "\n",
       "\n",
       "        [[[0.86270202, 0.43769643, 0.59391031, 0.18711596],\n",
       "          [0.56218409, 0.71436765, 0.65729411, 0.67204186],\n",
       "          [0.08876515, 0.8218419 , 0.2685332 , 0.70152372]],\n",
       "\n",
       "         [[0.71869202, 0.31910956, 0.74409662, 0.04659903],\n",
       "          [0.36877896, 0.38792661, 0.65400477, 0.60904357],\n",
       "          [0.15915635, 0.74494093, 0.32979395, 0.38306565]],\n",
       "\n",
       "         [[0.14918645, 0.82089125, 0.1147283 , 0.91963141],\n",
       "          [0.40549344, 0.05300851, 0.15677243, 0.08460501],\n",
       "          [0.45885845, 0.67515854, 0.18446448, 0.50742218]]],\n",
       "\n",
       "\n",
       "        [[[0.39743232, 0.74352426, 0.99513752, 0.6292818 ],\n",
       "          [0.65692162, 0.47615754, 0.64770144, 0.22033137],\n",
       "          [0.31570149, 0.27434287, 0.48704415, 0.7631637 ]],\n",
       "\n",
       "         [[0.09493906, 0.97322683, 0.14014307, 0.51909217],\n",
       "          [0.4541541 , 0.81452937, 0.82351065, 0.51036905],\n",
       "          [0.22613595, 0.21627926, 0.170576  , 0.05364509]],\n",
       "\n",
       "         [[0.91626644, 0.6408543 , 0.25908476, 0.72435031],\n",
       "          [0.24330186, 0.70343753, 0.63055119, 0.88426582],\n",
       "          [0.2755288 , 0.71271211, 0.93945515, 0.41422187]]]],\n",
       "\n",
       "\n",
       "\n",
       "       [[[[0.55102585, 0.21708432, 0.20929614, 0.3332206 ],\n",
       "          [0.00656621, 0.73919547, 0.87684416, 0.18264624],\n",
       "          [0.43462514, 0.48236678, 0.75940979, 0.20303751]],\n",
       "\n",
       "         [[0.79335948, 0.1026672 , 0.22851319, 0.58660831],\n",
       "          [0.07302135, 0.09227761, 0.95692492, 0.160488  ],\n",
       "          [0.35104765, 0.27604203, 0.20787234, 0.36122192]],\n",
       "\n",
       "         [[0.06068779, 0.91253309, 0.40543733, 0.76288972],\n",
       "          [0.88637055, 0.52153112, 0.74620229, 0.23593802],\n",
       "          [0.09376837, 0.03380586, 0.24340115, 0.43062722]]],\n",
       "\n",
       "\n",
       "        [[[0.28052767, 0.31006038, 0.62604536, 0.66924935],\n",
       "          [0.50267937, 0.5412285 , 0.33988192, 0.21686193],\n",
       "          [0.46344506, 0.30271129, 0.15600575, 0.4369094 ]],\n",
       "\n",
       "         [[0.85961013, 0.18523794, 0.2698934 , 0.9936093 ],\n",
       "          [0.4076796 , 0.03202535, 0.93029663, 0.95125761],\n",
       "          [0.04337558, 0.84212907, 0.73905872, 0.98868812]],\n",
       "\n",
       "         [[0.8859796 , 0.74331908, 0.83261079, 0.71977305],\n",
       "          [0.52654186, 0.77858392, 0.64065418, 0.57622165],\n",
       "          [0.11194604, 0.80586528, 0.43307341, 0.33930322]]],\n",
       "\n",
       "\n",
       "        [[[0.45977913, 0.43951883, 0.946505  , 0.12295201],\n",
       "          [0.8981411 , 0.40543105, 0.13791439, 0.61672903],\n",
       "          [0.2775442 , 0.27844242, 0.07182207, 0.58232405]],\n",
       "\n",
       "         [[0.49837956, 0.60662317, 0.02663901, 0.9723011 ],\n",
       "          [0.48740844, 0.91479671, 0.18552731, 0.65320475],\n",
       "          [0.23950107, 0.96866204, 0.91168404, 0.55270829]],\n",
       "\n",
       "         [[0.92368073, 0.71813566, 0.57359277, 0.9796242 ],\n",
       "          [0.58312525, 0.29164199, 0.28117269, 0.81765654],\n",
       "          [0.35290737, 0.42117828, 0.00359827, 0.65710838]]]]])"
      ]
     },
     "execution_count": 128,
     "metadata": {},
     "output_type": "execute_result"
    }
   ],
   "source": [
    "arr3d = np.random.rand(2,3,3 ,  3, 4)\n",
    "arr3d"
   ]
  },
  {
   "cell_type": "code",
   "execution_count": 118,
   "id": "238c01ab-461f-432d-a067-eed03fef4723",
   "metadata": {},
   "outputs": [
    {
     "data": {
      "text/plain": [
       "array([[0.78329177, 0.87370518, 0.96361037, 0.04165903],\n",
       "       [0.13175872, 0.88592562, 0.73650486, 0.13425634],\n",
       "       [0.38201857, 0.06403769, 0.04039131, 0.87192604]])"
      ]
     },
     "execution_count": 118,
     "metadata": {},
     "output_type": "execute_result"
    }
   ],
   "source": [
    "arr3d[1]"
   ]
  },
  {
   "cell_type": "code",
   "execution_count": 120,
   "id": "c3a15060-6f34-4e7d-bcbe-a3a2d81203c0",
   "metadata": {},
   "outputs": [
    {
     "data": {
      "text/plain": [
       "array([[0.29547441, 0.60372568, 0.75553078, 0.74305504],\n",
       "       [0.65508878, 0.93984627, 0.48032238, 0.03822654],\n",
       "       [0.4316953 , 0.45357719, 0.26568522, 0.37641544]])"
      ]
     },
     "execution_count": 120,
     "metadata": {},
     "output_type": "execute_result"
    }
   ],
   "source": [
    "arr3d[0]"
   ]
  },
  {
   "cell_type": "code",
   "execution_count": 122,
   "id": "00be1bf8-ca7b-4b71-865e-d03664aebc99",
   "metadata": {},
   "outputs": [
    {
     "ename": "IndexError",
     "evalue": "index 3 is out of bounds for axis 0 with size 3",
     "output_type": "error",
     "traceback": [
      "\u001b[1;31m---------------------------------------------------------------------------\u001b[0m",
      "\u001b[1;31mIndexError\u001b[0m                                Traceback (most recent call last)",
      "Cell \u001b[1;32mIn[122], line 1\u001b[0m\n\u001b[1;32m----> 1\u001b[0m arr3d[\u001b[38;5;241m3\u001b[39m]\n",
      "\u001b[1;31mIndexError\u001b[0m: index 3 is out of bounds for axis 0 with size 3"
     ]
    }
   ],
   "source": [
    "arr3d[3]"
   ]
  },
  {
   "cell_type": "code",
   "execution_count": 124,
   "id": "a8e3f3da-78e9-4639-ba12-7939a7a3a4ee",
   "metadata": {},
   "outputs": [
    {
     "data": {
      "text/plain": [
       "array([[0.11775321, 0.97881201, 0.3818444 , 0.64845468],\n",
       "       [0.10772673, 0.86744027, 0.35378323, 0.73329908],\n",
       "       [0.85830338, 0.23114538, 0.3837709 , 0.56775338]])"
      ]
     },
     "execution_count": 124,
     "metadata": {},
     "output_type": "execute_result"
    }
   ],
   "source": [
    "arr3d[2]"
   ]
  },
  {
   "cell_type": "markdown",
   "id": "3bac2a8c-c718-413d-be1a-b2fc0620d240",
   "metadata": {},
   "source": [
    "## Important Attributes of Numpy Arrays"
   ]
  },
  {
   "cell_type": "code",
   "execution_count": 148,
   "id": "a4c4751a-2ec5-422e-9d19-66e17c0dc0ba",
   "metadata": {},
   "outputs": [
    {
     "data": {
      "text/plain": [
       "array([1, 2, 3, 4])"
      ]
     },
     "execution_count": 148,
     "metadata": {},
     "output_type": "execute_result"
    }
   ],
   "source": [
    "arr = np.array([1, 2, 3, 4])\n",
    "arr"
   ]
  },
  {
   "cell_type": "code",
   "execution_count": 150,
   "id": "a78837df-4a78-47cc-9fa7-05a8d6aa73d5",
   "metadata": {},
   "outputs": [
    {
     "data": {
      "text/plain": [
       "dtype('int32')"
      ]
     },
     "execution_count": 150,
     "metadata": {},
     "output_type": "execute_result"
    }
   ],
   "source": [
    "arr.dtype"
   ]
  },
  {
   "cell_type": "code",
   "execution_count": 154,
   "id": "38df8e35-1ee7-44dd-98db-4dc344d3d688",
   "metadata": {},
   "outputs": [
    {
     "data": {
      "text/plain": [
       "'1.26.4'"
      ]
     },
     "execution_count": 154,
     "metadata": {},
     "output_type": "execute_result"
    }
   ],
   "source": [
    "np.__version__"
   ]
  },
  {
   "cell_type": "code",
   "execution_count": 164,
   "id": "6fce121b-a9c8-457f-b79a-a92b209b31fc",
   "metadata": {},
   "outputs": [
    {
     "data": {
      "text/plain": [
       "dtype('float64')"
      ]
     },
     "execution_count": 164,
     "metadata": {},
     "output_type": "execute_result"
    }
   ],
   "source": [
    "f_arr = arr.astype(np.float64)\n",
    "f_arr.dtype"
   ]
  },
  {
   "cell_type": "code",
   "execution_count": 170,
   "id": "01471bad-b320-4023-8576-3755fa427176",
   "metadata": {},
   "outputs": [
    {
     "data": {
      "text/plain": [
       "(3, 5)"
      ]
     },
     "execution_count": 170,
     "metadata": {},
     "output_type": "execute_result"
    }
   ],
   "source": [
    "a = np.array([[-0.3, 0.4, -1.4, -0.7, 0.2],\n",
    "              [-1.0, -0.7, -0.3, 0.0, -0.5],\n",
    "              [0.05, -0.02, -0.3, -0.25, -0.2]])\n",
    "\n",
    "a.shape\n",
    "# Output: (3, 5)"
   ]
  },
  {
   "cell_type": "code",
   "execution_count": 174,
   "id": "d857e302-4c5a-473f-9f1d-636b473f4894",
   "metadata": {},
   "outputs": [],
   "source": [
    "b=a.reshape(1, 15)\n"
   ]
  },
  {
   "cell_type": "code",
   "execution_count": 178,
   "id": "a5eb8d02-8a11-4e90-a9f5-3c81ab67d86d",
   "metadata": {},
   "outputs": [
    {
     "data": {
      "text/plain": [
       "(1, 15)"
      ]
     },
     "execution_count": 178,
     "metadata": {},
     "output_type": "execute_result"
    }
   ],
   "source": [
    "b.shape"
   ]
  },
  {
   "cell_type": "code",
   "execution_count": 180,
   "id": "24ed301a-fa17-40e3-8198-2ecf75c95c2f",
   "metadata": {},
   "outputs": [
    {
     "data": {
      "text/plain": [
       "array([[-0.3 ],\n",
       "       [ 0.4 ],\n",
       "       [-1.4 ],\n",
       "       [-0.7 ],\n",
       "       [ 0.2 ],\n",
       "       [-1.  ],\n",
       "       [-0.7 ],\n",
       "       [-0.3 ],\n",
       "       [ 0.  ],\n",
       "       [-0.5 ],\n",
       "       [ 0.05],\n",
       "       [-0.02],\n",
       "       [-0.3 ],\n",
       "       [-0.25],\n",
       "       [-0.2 ]])"
      ]
     },
     "execution_count": 180,
     "metadata": {},
     "output_type": "execute_result"
    }
   ],
   "source": [
    "a.reshape(15,1)"
   ]
  },
  {
   "cell_type": "code",
   "execution_count": 182,
   "id": "9d74886e-624b-4885-9cfd-7e2b213b0675",
   "metadata": {},
   "outputs": [
    {
     "data": {
      "text/plain": [
       "array([[-0.3 ,  0.4 , -1.4 , -0.7 ,  0.2 ],\n",
       "       [-1.  , -0.7 , -0.3 ,  0.  , -0.5 ],\n",
       "       [ 0.05, -0.02, -0.3 , -0.25, -0.2 ]])"
      ]
     },
     "execution_count": 182,
     "metadata": {},
     "output_type": "execute_result"
    }
   ],
   "source": [
    "a"
   ]
  },
  {
   "cell_type": "markdown",
   "id": "320fff04-c6d9-4dba-9a14-cad55fe8be83",
   "metadata": {},
   "source": [
    "## Boolean Indexing"
   ]
  },
  {
   "cell_type": "code",
   "execution_count": 9,
   "id": "14faf689-4d19-45a3-b4e6-f8d495a26831",
   "metadata": {},
   "outputs": [
    {
     "name": "stdout",
     "output_type": "stream",
     "text": [
      "[0 3 6]\n"
     ]
    }
   ],
   "source": [
    "import numpy as np\n",
    "\n",
    "boolean_arr = np.array([True, False, False]*3)\n",
    "\n",
    "arr = np.arange(9)\n",
    "\n",
    "result = arr[boolean_arr]\n",
    "print(result)\n"
   ]
  },
  {
   "cell_type": "code",
   "execution_count": 11,
   "id": "154512c2-6b7e-4efd-b45c-c9e2ada44b7e",
   "metadata": {},
   "outputs": [
    {
     "data": {
      "text/plain": [
       "array([0, 1, 2, 3, 4, 5, 6, 7, 8])"
      ]
     },
     "execution_count": 11,
     "metadata": {},
     "output_type": "execute_result"
    }
   ],
   "source": [
    "arr"
   ]
  },
  {
   "cell_type": "code",
   "execution_count": 13,
   "id": "93bb23e2-b864-4bed-b361-a2144a81dc5f",
   "metadata": {},
   "outputs": [
    {
     "data": {
      "text/plain": [
       "array([ True, False,  True, False,  True, False,  True, False,  True])"
      ]
     },
     "execution_count": 13,
     "metadata": {},
     "output_type": "execute_result"
    }
   ],
   "source": [
    "arr%2==0"
   ]
  },
  {
   "cell_type": "code",
   "execution_count": 15,
   "id": "681f683c-3dd9-4188-a6a4-4aaca1e1232a",
   "metadata": {},
   "outputs": [
    {
     "data": {
      "text/plain": [
       "array([0, 2, 4, 6, 8])"
      ]
     },
     "execution_count": 15,
     "metadata": {},
     "output_type": "execute_result"
    }
   ],
   "source": [
    "arr[arr%2==0]"
   ]
  },
  {
   "cell_type": "code",
   "execution_count": 17,
   "id": "f8613c59-8c81-4629-b98a-f7400f6a134c",
   "metadata": {},
   "outputs": [
    {
     "name": "stdout",
     "output_type": "stream",
     "text": [
      "Original array:\n",
      " [[-0.23041599  1.7032806 ]\n",
      " [-0.12136525  2.03634283]\n",
      " [-1.58511119  0.66775554]\n",
      " [ 0.65153394 -0.07538236]\n",
      " [-2.06662065  1.15570601]]\n",
      "\n",
      "Array after replacing negatives with 0:\n",
      " [[0.         1.7032806 ]\n",
      " [0.         2.03634283]\n",
      " [0.         0.66775554]\n",
      " [0.65153394 0.        ]\n",
      " [0.         1.15570601]]\n"
     ]
    }
   ],
   "source": [
    "arr = np.random.randn(5, 2)\n",
    "print(\"Original array:\\n\", arr)\n",
    "\n",
    "arr[arr<0] = 0\n",
    "\n",
    "print(\"\\nArray after replacing negatives with 0:\\n\", arr)"
   ]
  },
  {
   "cell_type": "code",
   "execution_count": 19,
   "id": "0ea3c479-b98d-48d6-a08b-16ded82fbd5c",
   "metadata": {},
   "outputs": [
    {
     "data": {
      "text/plain": [
       "array([[0.        , 1.7032806 ],\n",
       "       [0.        , 2.03634283],\n",
       "       [0.        , 0.66775554],\n",
       "       [0.65153394, 0.        ],\n",
       "       [0.        , 1.15570601]])"
      ]
     },
     "execution_count": 19,
     "metadata": {},
     "output_type": "execute_result"
    }
   ],
   "source": [
    "arr"
   ]
  },
  {
   "cell_type": "markdown",
   "id": "3ba6e4c1-fce6-4adc-8685-7c62d534551b",
   "metadata": {},
   "source": [
    "## Descriptive Methods in Numpy"
   ]
  },
  {
   "cell_type": "code",
   "execution_count": 27,
   "id": "b1f8a415-0939-4ffd-aa27-3d508cbc1e7e",
   "metadata": {},
   "outputs": [
    {
     "data": {
      "text/plain": [
       "array([[-0.15606807, -1.77975722, -0.57969971, -1.38389676, -0.71006029],\n",
       "       [-0.94199887,  0.92824734, -0.83871456, -1.54769946, -0.69043835],\n",
       "       [-2.64194638, -0.1559693 , -1.38968478, -0.45211128,  1.40140701]])"
      ]
     },
     "execution_count": 27,
     "metadata": {},
     "output_type": "execute_result"
    }
   ],
   "source": [
    "a = np.random.randn(3, 5)\n",
    "a"
   ]
  },
  {
   "cell_type": "code",
   "execution_count": 31,
   "id": "fae7630b-99a8-4c0e-9d1a-254b285e8145",
   "metadata": {},
   "outputs": [
    {
     "name": "stdout",
     "output_type": "stream",
     "text": [
      "-0.7292260462267107 -0.7292260462267107\n"
     ]
    }
   ],
   "source": [
    "mean_value = a.mean()\n",
    "mean_value_np = np.mean(a)\n",
    "print(mean_value, mean_value_np)"
   ]
  },
  {
   "cell_type": "code",
   "execution_count": 39,
   "id": "cadcc034-b426-413c-a5aa-183f67a3a18e",
   "metadata": {},
   "outputs": [
    {
     "name": "stdout",
     "output_type": "stream",
     "text": [
      "(3, 5)\n",
      "[-0.92189641 -0.61812078 -0.64766095]\n",
      "[-3.74001332e+00 -1.00747918e+00 -2.80809906e+00 -3.38370750e+00\n",
      "  9.08372317e-04]\n"
     ]
    }
   ],
   "source": [
    "print(a.shape)\n",
    "\n",
    "\n",
    "mean_axis1 = a.mean(axis=1)\n",
    "print(mean_axis1)\n",
    "\n",
    "sum_axis0 = a.sum(axis=0)\n",
    "print(sum_axis0)"
   ]
  },
  {
   "cell_type": "code",
   "execution_count": 41,
   "id": "13c18981-7573-4469-95a2-017fdaa0d41d",
   "metadata": {},
   "outputs": [
    {
     "data": {
      "text/plain": [
       "(3,)"
      ]
     },
     "execution_count": 41,
     "metadata": {},
     "output_type": "execute_result"
    }
   ],
   "source": [
    "mean_axis1.shape"
   ]
  },
  {
   "cell_type": "code",
   "execution_count": 48,
   "id": "c680f3d5-34fa-4765-acf5-1d0d8ae14b72",
   "metadata": {},
   "outputs": [
    {
     "data": {
      "text/plain": [
       "(5,)"
      ]
     },
     "execution_count": 48,
     "metadata": {},
     "output_type": "execute_result"
    }
   ],
   "source": [
    "sum_axis0.shape"
   ]
  },
  {
   "cell_type": "markdown",
   "id": "18ac0965-5a46-43ae-87b3-d287b6a7396c",
   "metadata": {},
   "source": [
    "## Conditional Logic"
   ]
  },
  {
   "cell_type": "code",
   "execution_count": 52,
   "id": "4e70929d-dff6-4ee8-90a7-2f27f05b70ad",
   "metadata": {},
   "outputs": [
    {
     "name": "stdout",
     "output_type": "stream",
     "text": [
      "[0 6 2 8 9]\n"
     ]
    }
   ],
   "source": [
    "x = np.arange(5)\n",
    "y = np.arange(5, 10)\n",
    "\n",
    "cond = np.array([True, False, True, False, False])\n",
    "\n",
    "result = np.where(cond, x, y)  ## np.where x if condition else y in python\n",
    "print(result)"
   ]
  },
  {
   "cell_type": "code",
   "execution_count": 54,
   "id": "96306df0-8c9b-4bae-8416-2071ac7648e6",
   "metadata": {},
   "outputs": [
    {
     "name": "stdout",
     "output_type": "stream",
     "text": [
      "[-1.18844729  0.57224779 -0.18303994 -0.01527877 -0.40211194  2.06608001\n",
      " -0.83983571 -1.16613812  0.1332848  -1.35746557]\n",
      "[False  True False False False  True False False  True False]\n"
     ]
    }
   ],
   "source": [
    "arr = np.random.randn(10)\n",
    "print(arr)\n",
    "\n",
    "\n",
    "result = np.where(arr>0,True, False)\n",
    "print(result)"
   ]
  },
  {
   "cell_type": "code",
   "execution_count": 66,
   "id": "2999cc31-468b-47c9-9fc6-cec22e715767",
   "metadata": {},
   "outputs": [],
   "source": [
    "cond1 = np.array([True, False, True, True, False, False, False])\n",
    "cond2 = np.array([True, False, True, False, False, True, False])\n",
    "\n",
    "result= []\n",
    "\n",
    "for i in range(len(cond1)):\n",
    "    if cond1[i] and cond2[i]:\n",
    "        result.append(0)\n",
    "    elif cond1[i]:\n",
    "        result.append(1)\n",
    "    elif cond2[i]:\n",
    "        result.append(2)\n",
    "    else:\n",
    "        result.append(3)"
   ]
  },
  {
   "cell_type": "code",
   "execution_count": 62,
   "id": "c66c9a10-6506-4322-bc99-85bfee328bdb",
   "metadata": {},
   "outputs": [
    {
     "name": "stdout",
     "output_type": "stream",
     "text": [
      "[0, 3, 0, 1, 3, 2, 3]\n"
     ]
    }
   ],
   "source": [
    "print(result)"
   ]
  },
  {
   "cell_type": "code",
   "execution_count": 68,
   "id": "a2901f77-16ec-433e-ab6d-7f57f4c65d1a",
   "metadata": {},
   "outputs": [],
   "source": [
    "result = np.where(cond1 & cond2, 0,\n",
    "                  np.where(cond1, 1,\n",
    "                          np.where(cond2, 2, 3)))"
   ]
  },
  {
   "cell_type": "code",
   "execution_count": 70,
   "id": "ff689a53-9dea-43e1-943b-5baa031dd73a",
   "metadata": {},
   "outputs": [
    {
     "name": "stdout",
     "output_type": "stream",
     "text": [
      "[0 3 0 1 3 2 3]\n"
     ]
    }
   ],
   "source": [
    "print(result)"
   ]
  },
  {
   "cell_type": "code",
   "execution_count": 72,
   "id": "bf32036f-c4aa-4345-8b73-c5c7d1c21213",
   "metadata": {},
   "outputs": [],
   "source": [
    "result = np.where(cond1 & cond2,0 ,np.where(cond1, 1, np.where(cond2, 2, 3)))"
   ]
  },
  {
   "cell_type": "raw",
   "id": "c1651477-e7c8-457a-bb80-7a017a3eacda",
   "metadata": {},
   "source": []
  },
  {
   "cell_type": "code",
   "execution_count": 74,
   "id": "1316e87e-c0cd-469d-adcd-8c5052fafe7f",
   "metadata": {},
   "outputs": [
    {
     "name": "stdout",
     "output_type": "stream",
     "text": [
      "[0 3 0 1 3 2 3]\n"
     ]
    }
   ],
   "source": [
    "print(result)"
   ]
  },
  {
   "cell_type": "markdown",
   "id": "f5d334d1-cca4-46ca-b420-edb82b29cf07",
   "metadata": {},
   "source": [
    "## Arithmetic operators in numpy\n",
    "Arrays in NumPy enable batch operations on data without the need for explicit loops, a feature known as vectorization. Here’s how arithmetic operations work:"
   ]
  },
  {
   "cell_type": "markdown",
   "id": "adff401e-4dba-4e73-843d-508ba6b7168f",
   "metadata": {},
   "source": [
    "## 1. Element-wise Operations\n",
    "When you perform arithmetic operations between equal-size arrays, NumPy applies the operation element-wise."
   ]
  },
  {
   "cell_type": "code",
   "execution_count": 97,
   "id": "1f9db52a-441b-4cc9-919a-5e1d7d08bac3",
   "metadata": {},
   "outputs": [
    {
     "name": "stdout",
     "output_type": "stream",
     "text": [
      "[0 1 2 3 4 5 6 7 8 9]\n",
      "[ 0  1  4  9 16 25 36 49 64 81]\n",
      "[0 1 2 3 4 5 6 7 8 9]\n",
      "[nan  1.  1.  1.  1.  1.  1.  1.  1.  1.]\n"
     ]
    },
    {
     "name": "stderr",
     "output_type": "stream",
     "text": [
      "C:\\Users\\Prasad\\AppData\\Local\\Temp\\ipykernel_12524\\3824922387.py:12: RuntimeWarning: invalid value encountered in divide\n",
      "  print(arr / arr)   ## nan not a number when 0/0\n"
     ]
    }
   ],
   "source": [
    "import numpy as np\n",
    "\n",
    "arr = np.arange(10)\n",
    "print(arr)\n",
    "\n",
    "##Array multiplication\n",
    "\n",
    "print(arr * arr)\n",
    "\n",
    "## array division\n",
    "print(arr)\n",
    "print(arr / arr)   ## nan not a number when 0/0"
   ]
  },
  {
   "cell_type": "markdown",
   "id": "11cfa501-aa79-46ac-834f-3b8cd30fc875",
   "metadata": {},
   "source": [
    "## Scalar Operations\n",
    "When performing arithmetic with scalars, the scalar value is applied to each element of the array."
   ]
  },
  {
   "cell_type": "code",
   "execution_count": 100,
   "id": "e288a984-1501-4e91-8bb4-8b51ad794d50",
   "metadata": {},
   "outputs": [
    {
     "name": "stdout",
     "output_type": "stream",
     "text": [
      "[       inf 1.         0.5        0.33333333 0.25       0.2\n",
      " 0.16666667 0.14285714 0.125      0.11111111]\n"
     ]
    },
    {
     "name": "stderr",
     "output_type": "stream",
     "text": [
      "C:\\Users\\Prasad\\AppData\\Local\\Temp\\ipykernel_12524\\1255350848.py:1: RuntimeWarning: divide by zero encountered in divide\n",
      "  print(1 / arr)\n"
     ]
    }
   ],
   "source": [
    "print(1 / arr)"
   ]
  },
  {
   "cell_type": "code",
   "execution_count": null,
   "id": "1bd64ea5-f0b6-403d-bcdb-0bdbbd5c7151",
   "metadata": {},
   "outputs": [],
   "source": [
    "    "
   ]
  },
  {
   "cell_type": "markdown",
   "id": "cd6763fb-42b5-4b8a-a6be-25131c46e2ce",
   "metadata": {},
   "source": [
    "## Broadcasting"
   ]
  },
  {
   "cell_type": "markdown",
   "id": "c9efe20e-9584-451d-bc14-df13f51775c4",
   "metadata": {},
   "source": [
    "## 1)Scalar Broadcasting"
   ]
  },
  {
   "cell_type": "code",
   "execution_count": 104,
   "id": "9d3fd93e-55ad-4f46-95b8-42e5d6d1f624",
   "metadata": {},
   "outputs": [
    {
     "name": "stdout",
     "output_type": "stream",
     "text": [
      "[0 1 2 3 4 5 6 7 8 9]\n",
      "[ 0  2  4  6  8 10 12 14 16 18]\n"
     ]
    }
   ],
   "source": [
    "import numpy as np\n",
    "\n",
    "arr = np.arange(10)\n",
    "print(arr)\n",
    "print(arr * 2)\n"
   ]
  },
  {
   "cell_type": "markdown",
   "id": "74c91a83-3a2c-4da4-b49b-46081985fab8",
   "metadata": {},
   "source": [
    "## Demeaning an Array"
   ]
  },
  {
   "cell_type": "markdown",
   "id": "94a25d9e-05f0-4aa4-b11b-7cbb526dd3d2",
   "metadata": {},
   "source": [
    "## Demeanin g columns"
   ]
  },
  {
   "cell_type": "code",
   "execution_count": 121,
   "id": "0f5d133e-ba00-4a3a-a0cc-ccec99947a5e",
   "metadata": {},
   "outputs": [
    {
     "name": "stdout",
     "output_type": "stream",
     "text": [
      "[[ 1.11133614  0.89304228  0.46663585  1.03555299]\n",
      " [ 0.64605384  0.84516142 -0.2668968   0.73715157]\n",
      " [ 0.74992268 -0.57507603  0.73558259 -0.21104345]\n",
      " [-0.85944627  0.08243408  0.69961015 -0.71834014]\n",
      " [-1.35005888  0.00743668 -0.97764818 -0.63968753]]\n",
      "[0.0595615  0.25059969 0.13145672 0.04072669]\n"
     ]
    }
   ],
   "source": [
    "arr = np.random.randn(5, 4)\n",
    "column_means = arr.mean(axis=0)\n",
    "demeaned = arr - column_means\n",
    "print(arr)\n",
    "print(column_means)"
   ]
  },
  {
   "cell_type": "code",
   "execution_count": 123,
   "id": "ef52cfae-101d-49e9-b649-cca8aaddb41d",
   "metadata": {},
   "outputs": [
    {
     "name": "stdout",
     "output_type": "stream",
     "text": [
      "[[ 1.05177464  0.64244259  0.33517913  0.9948263 ]\n",
      " [ 0.58649234  0.59456173 -0.39835353  0.69642488]\n",
      " [ 0.69036117 -0.82567571  0.60412587 -0.25177014]\n",
      " [-0.91900777 -0.16816561  0.56815343 -0.75906682]\n",
      " [-1.40962038 -0.24316301 -1.1091049  -0.68041422]]\n"
     ]
    }
   ],
   "source": [
    "print(demeaned)"
   ]
  },
  {
   "cell_type": "code",
   "execution_count": null,
   "id": "f3cf3f3b-fc27-45b6-b047-5717df1ea148",
   "metadata": {},
   "outputs": [],
   "source": []
  },
  {
   "cell_type": "markdown",
   "id": "a8944e1c-76fe-4359-b2f8-884f45cbec75",
   "metadata": {},
   "source": [
    "## Demeaning Rows"
   ]
  },
  {
   "cell_type": "code",
   "execution_count": 155,
   "id": "c41a3988-0055-4065-92a9-cbc0d0379a6f",
   "metadata": {},
   "outputs": [
    {
     "name": "stdout",
     "output_type": "stream",
     "text": [
      "[[ 0.87664181]\n",
      " [ 0.49036751]\n",
      " [ 0.17484645]\n",
      " [-0.19893554]\n",
      " [-0.73998948]]\n"
     ]
    }
   ],
   "source": [
    "row_means = arr.mean(axis=1).reshape(5,1)\n",
    "print(row_means)\n",
    "demeaned_rows = arr - row_means"
   ]
  },
  {
   "cell_type": "code",
   "execution_count": 144,
   "id": "2af235e5-a67b-40f8-bc0b-5f43d0b0916b",
   "metadata": {},
   "outputs": [
    {
     "name": "stdout",
     "output_type": "stream",
     "text": [
      "[[ 0.23469432  0.01640047 -0.41000596  0.15891117]\n",
      " [ 0.15568633  0.35479391 -0.75726431  0.24678406]\n",
      " [ 0.57507623 -0.74992247  0.56073615 -0.3858899 ]\n",
      " [-0.66051073  0.28136963  0.8985457  -0.51940459]\n",
      " [-0.6100694   0.74742616 -0.2376587   0.10030195]]\n"
     ]
    }
   ],
   "source": [
    "print(demeaned_rows)"
   ]
  },
  {
   "cell_type": "code",
   "execution_count": 146,
   "id": "e23b1477-6075-458b-9a9d-b3a409e4ab4e",
   "metadata": {},
   "outputs": [
    {
     "data": {
      "text/plain": [
       "(5, 4)"
      ]
     },
     "execution_count": 146,
     "metadata": {},
     "output_type": "execute_result"
    }
   ],
   "source": [
    "demeaned_rows.shape\n",
    "\n"
   ]
  },
  {
   "cell_type": "code",
   "execution_count": 148,
   "id": "759e6498-0921-412b-b8dc-679508726493",
   "metadata": {},
   "outputs": [
    {
     "data": {
      "text/plain": [
       "(5, 1)"
      ]
     },
     "execution_count": 148,
     "metadata": {},
     "output_type": "execute_result"
    }
   ],
   "source": [
    "row_means.shape"
   ]
  },
  {
   "cell_type": "code",
   "execution_count": 150,
   "id": "b84490d2-a397-40ef-920f-609689b6d941",
   "metadata": {},
   "outputs": [
    {
     "name": "stdout",
     "output_type": "stream",
     "text": [
      "[ 0.87664181  0.49036751  0.17484645 -0.19893554 -0.73998948]\n"
     ]
    }
   ],
   "source": [
    "print(arr.mean(axis=1))"
   ]
  },
  {
   "cell_type": "code",
   "execution_count": null,
   "id": "f9b2954a-0113-4024-a3ea-54fef8f30fc2",
   "metadata": {},
   "outputs": [],
   "source": []
  },
  {
   "cell_type": "code",
   "execution_count": 161,
   "id": "94ee96f7-2036-43f8-a381-8462009fd2b0",
   "metadata": {},
   "outputs": [
    {
     "name": "stdout",
     "output_type": "stream",
     "text": [
      "Original Array:\\n [[-0.69695659 -1.37244758 -0.06041725 -0.66265645]\n",
      " [-0.61764856  1.38137586 -0.05552733  0.90919162]\n",
      " [ 0.45277551 -0.21259348  0.02676951 -0.89159958]\n",
      " [ 0.31942808 -1.50634098 -1.30625621 -0.40569798]\n",
      " [ 1.2098334  -0.87994375 -1.18358261  1.05300795]]\n",
      "\\nRow means:\\n [[-0.69811947]\n",
      " [ 0.4043479 ]\n",
      " [-0.15616201]\n",
      " [-0.72471677]\n",
      " [ 0.04982875]]\n",
      "\\nDemeaned Rows:\\n [[ 1.16287546e-03 -6.74328113e-01  6.37702221e-01  3.54630169e-02]\n",
      " [-1.02199645e+00  9.77027962e-01 -4.59875226e-01  5.04843718e-01]\n",
      " [ 6.08937515e-01 -5.64314662e-02  1.82931518e-01 -7.35437566e-01]\n",
      " [ 1.04414485e+00 -7.81624207e-01 -5.81539438e-01  3.19018795e-01]\n",
      " [ 1.16000465e+00 -9.29772497e-01 -1.23341136e+00  1.00317921e+00]]\n",
      "\\nMean of demeaned Rows:\\n [ 5.55111512e-17  2.77555756e-17  0.00000000e+00 -4.16333634e-17\n",
      " -5.55111512e-17]\n"
     ]
    }
   ],
   "source": [
    "import numpy as np\n",
    "\n",
    "arr = np.random.randn(5, 4)\n",
    "\n",
    "row_means = arr.mean(axis=1).reshape(5, 1)\n",
    "\n",
    "\n",
    "demeaned_rows = arr - row_means\n",
    "\n",
    "\n",
    "print(\"Original Array:\\\\n\", arr)\n",
    "print(\"\\\\nRow means:\\\\n\", row_means)\n",
    "print(\"\\\\nDemeaned Rows:\\\\n\", demeaned_rows)\n",
    "print(\"\\\\nMean of demeaned Rows:\\\\n\", demeaned_rows.mean(axis=1))"
   ]
  },
  {
   "cell_type": "code",
   "execution_count": null,
   "id": "fefd8cf5-f1de-4eaa-be0d-d19a906bbfc7",
   "metadata": {},
   "outputs": [],
   "source": []
  },
  {
   "cell_type": "markdown",
   "id": "3a0696a4-b6ad-494b-8e81-0fae404d6887",
   "metadata": {},
   "source": [
    "## Tips and Tricks"
   ]
  },
  {
   "cell_type": "code",
   "execution_count": 247,
   "id": "db925bad-b6a4-4028-b82f-705072751ac1",
   "metadata": {},
   "outputs": [
    {
     "name": "stdout",
     "output_type": "stream",
     "text": [
      "[[ 1.66694281 -0.65370912]\n",
      " [ 0.00828269 -0.89866076]\n",
      " [ 0.44107421  0.29449629]\n",
      " [-0.26393964  0.39246586]\n",
      " [ 0.40681729  0.21084747]]\n",
      "[ 0.45183547 -0.13091205]\n",
      "(2,)\n"
     ]
    }
   ],
   "source": [
    "arrw= np.random.randn(5,2)\n",
    "print(arrw)\n",
    "meanaxis0=arrw.mean(axis=0)\n",
    "print(meanaxis0)\n",
    "print(meanaxis0.shape)"
   ]
  },
  {
   "cell_type": "code",
   "execution_count": 257,
   "id": "f6a9c5fb-ff41-4332-917c-76351f4ac14b",
   "metadata": {},
   "outputs": [
    {
     "name": "stdout",
     "output_type": "stream",
     "text": [
      "[[[0.49798435 0.2516971 ]\n",
      "  [0.26860827 0.25847868]\n",
      "  [0.79882958 0.09774321]\n",
      "  [0.94046465 0.65045319]\n",
      "  [0.55068847 0.4732957 ]]\n",
      "\n",
      " [[0.91387297 0.07477381]\n",
      "  [0.04973932 0.74437692]\n",
      "  [0.49009264 0.33404915]\n",
      "  [0.5626313  0.60040937]\n",
      "  [0.50651372 0.04360775]]\n",
      "\n",
      " [[0.39152263 0.51169358]\n",
      "  [0.0827378  0.83393528]\n",
      "  [0.2744116  0.95610843]\n",
      "  [0.01096763 0.80570691]\n",
      "  [0.03024086 0.45186021]]\n",
      "\n",
      " [[0.29317721 0.35841931]\n",
      "  [0.85075941 0.81467555]\n",
      "  [0.31600775 0.16168166]\n",
      "  [0.69869199 0.73954955]\n",
      "  [0.15924305 0.28111444]]]\n",
      "[[0.52413929 0.29914595]\n",
      " [0.3129612  0.66286661]\n",
      " [0.46983539 0.38739561]\n",
      " [0.55318889 0.69902975]\n",
      " [0.31167153 0.31246953]]\n",
      "(5, 2)\n",
      "[[0.61131506 0.34633358]\n",
      " [0.50456999 0.3594434 ]\n",
      " [0.1579761  0.71186088]\n",
      " [0.46357588 0.4710881 ]]\n",
      "(4, 2)\n",
      "[[0.37484072 0.26354348 0.44828639 0.79545892 0.51199209]\n",
      " [0.49432339 0.39705812 0.4120709  0.58152033 0.27506074]\n",
      " [0.45160811 0.45833654 0.61526002 0.40833727 0.24105053]\n",
      " [0.32579826 0.83271748 0.2388447  0.71912077 0.22017875]]\n",
      "(4, 5)\n"
     ]
    }
   ],
   "source": [
    "arrq = np.random.rand(4,5,2)\n",
    "print(arrq)\n",
    "mean_axis_0= arrq.mean(axis=0)\n",
    "mean_axis_1= arrq.mean(axis=1)\n",
    "mean_axis_2=arrq.mean(axis=2)\n",
    "\n",
    "\n",
    "print(mean_axis_0)\n",
    "print(mean_axis_0.shape)\n",
    "\n",
    "print(mean_axis_1)\n",
    "print(mean_axis_1.shape)\n",
    "\n",
    "print(mean_axis_2)\n",
    "print(mean_axis_2.shape)"
   ]
  },
  {
   "cell_type": "code",
   "execution_count": null,
   "id": "232f87fb-f583-457f-b0cb-1a56d0bc1f14",
   "metadata": {},
   "outputs": [],
   "source": []
  },
  {
   "cell_type": "code",
   "execution_count": null,
   "id": "c896d392-7a56-4c6b-8a70-e872cc4222cd",
   "metadata": {},
   "outputs": [],
   "source": []
  },
  {
   "cell_type": "code",
   "execution_count": 233,
   "id": "393c2ed3-209d-4b6c-a1a4-f4bd60157d70",
   "metadata": {},
   "outputs": [
    {
     "name": "stdout",
     "output_type": "stream",
     "text": [
      "mean -0.01025375617986617\n",
      "mean axis 0 (4, 5, 2)\n"
     ]
    }
   ],
   "source": [
    "import numpy as np\n",
    "\n",
    "arr4d = np.random.randn(4,3, 5, 2)\n",
    "# print(arr4d)\n",
    "print(\"mean\",arr4d.mean())\n",
    "print(\"mean axis 0\",arr4d.mean(axis=1).shape)\n",
    "# print(\"mean axis 1\", arr4d.mean(axis=1))\n",
    "# print(\"mean axis 2\", arr4d.mean(axis=2))\n",
    "# print(\"mean axis 3\", arr4d.mean(axis=3))"
   ]
  },
  {
   "cell_type": "code",
   "execution_count": 166,
   "id": "7726a30c-5f50-40b1-974a-221801e1578b",
   "metadata": {},
   "outputs": [
    {
     "name": "stdout",
     "output_type": "stream",
     "text": [
      "()\n",
      "(4, 5, 2)\n",
      "(3, 5, 2)\n",
      "(3, 4, 2)\n",
      "(3, 4, 5)\n"
     ]
    }
   ],
   "source": [
    "print(arr4d.mean().shape)\n",
    "print(arr4d.mean(axis=0).shape)\n",
    "print(arr4d.mean(axis=1).shape)\n",
    "print(arr4d.mean(axis=2).shape)\n",
    "print(arr4d.mean(axis=3).shape)"
   ]
  },
  {
   "cell_type": "code",
   "execution_count": null,
   "id": "e177fed2-014d-43d3-a025-c6302486844b",
   "metadata": {},
   "outputs": [],
   "source": []
  },
  {
   "cell_type": "markdown",
   "id": "6a17cfe4-e79a-47e5-a5f7-06b273836e56",
   "metadata": {},
   "source": [
    "## Demeaning a 3d array"
   ]
  },
  {
   "cell_type": "code",
   "execution_count": 203,
   "id": "44b66734-7279-4ee8-b70d-3b829910b84f",
   "metadata": {},
   "outputs": [
    {
     "name": "stdout",
     "output_type": "stream",
     "text": [
      "[[[ 0.83332354  0.589728  ]\n",
      "  [ 1.00549353  0.9290913 ]\n",
      "  [ 0.06274174  0.59057923]]\n",
      "\n",
      " [[-0.8109775   0.69723334]\n",
      "  [-0.13664057  0.06753651]\n",
      "  [-0.52591723 -0.08353847]]\n",
      "\n",
      " [[-1.21166488 -2.02348942]\n",
      "  [-0.45007034  0.61421809]\n",
      "  [-0.15674293 -0.4374894 ]]\n",
      "\n",
      " [[-1.48417849 -2.06594387]\n",
      "  [-0.47795487 -1.30994967]\n",
      "  [ 0.53881901  1.93253289]]]\n"
     ]
    }
   ],
   "source": [
    "arr3d = np.random.randn(4, 3, 2)\n",
    "print(arr3d)"
   ]
  },
  {
   "cell_type": "code",
   "execution_count": 237,
   "id": "4216ed69-c011-4852-b84c-7031f550f811",
   "metadata": {},
   "outputs": [
    {
     "ename": "NameError",
     "evalue": "name 'demeaned_axis' is not defined",
     "output_type": "error",
     "traceback": [
      "\u001b[1;31m---------------------------------------------------------------------------\u001b[0m",
      "\u001b[1;31mNameError\u001b[0m                                 Traceback (most recent call last)",
      "Cell \u001b[1;32mIn[237], line 2\u001b[0m\n\u001b[0;32m      1\u001b[0m demeaned_axis0 \u001b[38;5;241m=\u001b[39m arr3d \u001b[38;5;241m-\u001b[39m arr3d\u001b[38;5;241m.\u001b[39mmean(axis\u001b[38;5;241m=\u001b[39m\u001b[38;5;241m0\u001b[39m)\n\u001b[1;32m----> 2\u001b[0m \u001b[38;5;28mprint\u001b[39m(\u001b[38;5;124m\"\u001b[39m\u001b[38;5;124mDemeaned along axis 0 shape:\u001b[39m\u001b[38;5;124m\"\u001b[39m, demeaned_axis\u001b[38;5;241m.\u001b[39mshape)\n\u001b[0;32m      4\u001b[0m demeaned_axis1 \u001b[38;5;241m=\u001b[39m arr3d \u001b[38;5;241m-\u001b[39m arr3d\u001b[38;5;241m.\u001b[39mmean(axis\u001b[38;5;241m=\u001b[39m\u001b[38;5;241m1\u001b[39m, keepdims\u001b[38;5;241m=\u001b[39m\u001b[38;5;28;01mTrue\u001b[39;00m)\n\u001b[0;32m      5\u001b[0m \u001b[38;5;28mprint\u001b[39m(\u001b[38;5;124m\"\u001b[39m\u001b[38;5;124mDemeaned along axis 1 shape:\u001b[39m\u001b[38;5;124m\"\u001b[39m, demeaned_axis1\u001b[38;5;241m.\u001b[39mshape)\n",
      "\u001b[1;31mNameError\u001b[0m: name 'demeaned_axis' is not defined"
     ]
    }
   ],
   "source": [
    "demeaned_axis0 = arr3d - arr3d.mean(axis=0)\n",
    "print(\"Demeaned along axis 0 shape:\", demeaned_axis.shape)\n",
    "\n",
    "demeaned_axis1 = arr3d - arr3d.mean(axis=1, keepdims=True)\n",
    "print(\"Demeaned along axis 1 shape:\", demeaned_axis1.shape)\n",
    "\n",
    "demeaned_axis2 = arr3d - arr3d.mean(axis=2, keepdims=True)\n",
    "print(\"Demeaned along axis 2 shape:\", demeaned_axis2.shape)"
   ]
  },
  {
   "cell_type": "code",
   "execution_count": 197,
   "id": "56a11edb-7bbb-4c3c-8739-bda12e07bc96",
   "metadata": {},
   "outputs": [
    {
     "data": {
      "text/plain": [
       "array([[-0.4624281 ,  0.63132783],\n",
       "       [ 0.23833928, -0.38975102],\n",
       "       [ 0.35520486, -0.45144423]])"
      ]
     },
     "execution_count": 197,
     "metadata": {},
     "output_type": "execute_result"
    }
   ],
   "source": [
    "arr3d#.mean(axis=2, keepdims=True)"
   ]
  },
  {
   "cell_type": "code",
   "execution_count": 185,
   "id": "52607204-f2f8-456b-94cd-e19e88098dcc",
   "metadata": {},
   "outputs": [
    {
     "name": "stdout",
     "output_type": "stream",
     "text": [
      "Demeaned along axis 0 shape: (3, 2)\n",
      "Demeaned along axis 1 shape: (3, 2)\n"
     ]
    },
    {
     "ename": "AxisError",
     "evalue": "axis 2 is out of bounds for array of dimension 2",
     "output_type": "error",
     "traceback": [
      "\u001b[1;31m---------------------------------------------------------------------------\u001b[0m",
      "\u001b[1;31mAxisError\u001b[0m                                 Traceback (most recent call last)",
      "Cell \u001b[1;32mIn[185], line 10\u001b[0m\n\u001b[0;32m      7\u001b[0m \u001b[38;5;28mprint\u001b[39m(\u001b[38;5;124m\"\u001b[39m\u001b[38;5;124mDemeaned along axis 1 shape:\u001b[39m\u001b[38;5;124m\"\u001b[39m, demeaned_axis1\u001b[38;5;241m.\u001b[39mshape)\n\u001b[0;32m      9\u001b[0m \u001b[38;5;66;03m# Demeaning across axis 2\u001b[39;00m\n\u001b[1;32m---> 10\u001b[0m demeaned_axis2 \u001b[38;5;241m=\u001b[39m arr3d \u001b[38;5;241m-\u001b[39m arr3d\u001b[38;5;241m.\u001b[39mmean(axis\u001b[38;5;241m=\u001b[39m\u001b[38;5;241m2\u001b[39m, keepdims\u001b[38;5;241m=\u001b[39m\u001b[38;5;28;01mTrue\u001b[39;00m)\n\u001b[0;32m     11\u001b[0m \u001b[38;5;28mprint\u001b[39m(\u001b[38;5;124m\"\u001b[39m\u001b[38;5;124mDemeaned along axis 2 shape:\u001b[39m\u001b[38;5;124m\"\u001b[39m, demeaned_axis2\u001b[38;5;241m.\u001b[39mshape)\n",
      "File \u001b[1;32m~\\anaconda3\\Lib\\site-packages\\numpy\\core\\_methods.py:106\u001b[0m, in \u001b[0;36m_mean\u001b[1;34m(a, axis, dtype, out, keepdims, where)\u001b[0m\n\u001b[0;32m    102\u001b[0m arr \u001b[38;5;241m=\u001b[39m asanyarray(a)\n\u001b[0;32m    104\u001b[0m is_float16_result \u001b[38;5;241m=\u001b[39m \u001b[38;5;28;01mFalse\u001b[39;00m\n\u001b[1;32m--> 106\u001b[0m rcount \u001b[38;5;241m=\u001b[39m _count_reduce_items(arr, axis, keepdims\u001b[38;5;241m=\u001b[39mkeepdims, where\u001b[38;5;241m=\u001b[39mwhere)\n\u001b[0;32m    107\u001b[0m \u001b[38;5;28;01mif\u001b[39;00m rcount \u001b[38;5;241m==\u001b[39m \u001b[38;5;241m0\u001b[39m \u001b[38;5;28;01mif\u001b[39;00m where \u001b[38;5;129;01mis\u001b[39;00m \u001b[38;5;28;01mTrue\u001b[39;00m \u001b[38;5;28;01melse\u001b[39;00m umr_any(rcount \u001b[38;5;241m==\u001b[39m \u001b[38;5;241m0\u001b[39m, axis\u001b[38;5;241m=\u001b[39m\u001b[38;5;28;01mNone\u001b[39;00m):\n\u001b[0;32m    108\u001b[0m     warnings\u001b[38;5;241m.\u001b[39mwarn(\u001b[38;5;124m\"\u001b[39m\u001b[38;5;124mMean of empty slice.\u001b[39m\u001b[38;5;124m\"\u001b[39m, \u001b[38;5;167;01mRuntimeWarning\u001b[39;00m, stacklevel\u001b[38;5;241m=\u001b[39m\u001b[38;5;241m2\u001b[39m)\n",
      "File \u001b[1;32m~\\anaconda3\\Lib\\site-packages\\numpy\\core\\_methods.py:77\u001b[0m, in \u001b[0;36m_count_reduce_items\u001b[1;34m(arr, axis, keepdims, where)\u001b[0m\n\u001b[0;32m     75\u001b[0m     items \u001b[38;5;241m=\u001b[39m \u001b[38;5;241m1\u001b[39m\n\u001b[0;32m     76\u001b[0m     \u001b[38;5;28;01mfor\u001b[39;00m ax \u001b[38;5;129;01min\u001b[39;00m axis:\n\u001b[1;32m---> 77\u001b[0m         items \u001b[38;5;241m*\u001b[39m\u001b[38;5;241m=\u001b[39m arr\u001b[38;5;241m.\u001b[39mshape[mu\u001b[38;5;241m.\u001b[39mnormalize_axis_index(ax, arr\u001b[38;5;241m.\u001b[39mndim)]\n\u001b[0;32m     78\u001b[0m     items \u001b[38;5;241m=\u001b[39m nt\u001b[38;5;241m.\u001b[39mintp(items)\n\u001b[0;32m     79\u001b[0m \u001b[38;5;28;01melse\u001b[39;00m:\n\u001b[0;32m     80\u001b[0m     \u001b[38;5;66;03m# TODO: Optimize case when `where` is broadcast along a non-reduction\u001b[39;00m\n\u001b[0;32m     81\u001b[0m     \u001b[38;5;66;03m# axis and full sum is more excessive than needed.\u001b[39;00m\n\u001b[0;32m     82\u001b[0m \n\u001b[0;32m     83\u001b[0m     \u001b[38;5;66;03m# guarded to protect circular imports\u001b[39;00m\n",
      "\u001b[1;31mAxisError\u001b[0m: axis 2 is out of bounds for array of dimension 2"
     ]
    }
   ],
   "source": [
    "# Demeaning across axis 0\n",
    "demeaned_axis0 = arr3d - arr3d.mean(axis=0)\n",
    "print(\"Demeaned along axis 0 shape:\", demeaned_axis0.shape)\n",
    "\n",
    "# Demeaning across axis 1\n",
    "demeaned_axis1 = arr3d - arr3d.mean(axis=1, keepdims=True)\n",
    "print(\"Demeaned along axis 1 shape:\", demeaned_axis1.shape)\n",
    "\n",
    "# Demeaning across axis 2\n",
    "demeaned_axis2 = arr3d - arr3d.mean(axis=2, keepdims=True)\n",
    "print(\"Demeaned along axis 2 shape:\", demeaned_axis2.shape)"
   ]
  },
  {
   "cell_type": "code",
   "execution_count": 7,
   "id": "fb9d570f-628c-44fe-b9de-997e17ce032f",
   "metadata": {},
   "outputs": [
    {
     "name": "stdout",
     "output_type": "stream",
     "text": [
      "[[-1.15366305  0.2904895 ]\n",
      " [ 0.62660534  1.02758385]\n",
      " [ 0.17282931  1.2918722 ]\n",
      " [ 1.95224784 -0.29005794]\n",
      " [-1.67821559  0.5731251 ]]\n",
      "[-0.01603923  0.57860254]\n",
      "[-0.43158677  0.82709459  0.73235076  0.83109495 -0.55254524]\n"
     ]
    }
   ],
   "source": [
    "import numpy as np\n",
    "\n",
    "arr=np.random.randn(5,2)\n",
    "print(arr)\n",
    "print(arr.mean(axis=0))\n",
    "print(arr.mean(axis=1))"
   ]
  },
  {
   "cell_type": "code",
   "execution_count": 13,
   "id": "5035eb37-57d4-4fe2-9099-eea8a71133bd",
   "metadata": {},
   "outputs": [
    {
     "name": "stdout",
     "output_type": "stream",
     "text": [
      "[[[-0.6420464   1.03481319]\n",
      "  [-1.19619292 -0.82656269]\n",
      "  [-1.56459825 -0.98591935]\n",
      "  [-0.62499202 -1.414061  ]\n",
      "  [-0.72530714  1.29613981]]\n",
      "\n",
      " [[ 0.66000587 -0.09696377]\n",
      "  [-1.49910407  0.04630788]\n",
      "  [ 2.19910095  0.08384324]\n",
      "  [-0.4377011   0.40034685]\n",
      "  [ 0.48543497  0.40770485]]\n",
      "\n",
      " [[ 0.53564794 -0.16142527]\n",
      "  [ 1.20549501 -2.49413357]\n",
      "  [ 0.66865559  0.80631406]\n",
      "  [ 0.69208582 -1.01862356]\n",
      "  [-2.0965025  -0.25847853]]\n",
      "\n",
      " [[ 1.33862585 -1.23048992]\n",
      "  [ 1.12874381 -0.14520198]\n",
      "  [ 0.55990272 -0.51338662]\n",
      "  [-0.34413785  0.39308482]\n",
      "  [-0.29265568  2.47038699]]]\n",
      "Next axis = 0\n",
      "[[ 0.47305832 -0.11351644]\n",
      " [-0.09026454 -0.85489759]\n",
      " [ 0.46576525 -0.15228717]\n",
      " [-0.17868629 -0.40981322]\n",
      " [-0.65725759  0.97893828]]\n",
      "Next axis =1\n",
      "[[-0.95062734 -0.17911801]\n",
      " [ 0.28154733  0.16824781]\n",
      " [ 0.20107637 -0.62526937]\n",
      " [ 0.47809577  0.19487866]]\n",
      "Next axis =2\n",
      "[[ 0.1963834  -1.0113778  -1.2752588  -1.01952651  0.28541633]\n",
      " [ 0.28152105 -0.7263981   1.1414721  -0.01867712  0.44656991]\n",
      " [ 0.18711134 -0.64431928  0.73748483 -0.16326887 -1.17749051]\n",
      " [ 0.05406797  0.49177091  0.02325805  0.02447348  1.08886566]]\n"
     ]
    }
   ],
   "source": [
    "arr = np.random.randn(4, 5, 2)\n",
    "print(arr)\n",
    "print(\"Next axis = 0\")\n",
    "print(arr.mean(axis=0))\n",
    "\n",
    "print(\"Next axis =1\")\n",
    "print(arr.mean(axis=1))\n",
    "\n",
    "print(\"Next axis =2\")\n",
    "print(arr.mean(axis=2))"
   ]
  },
  {
   "cell_type": "code",
   "execution_count": null,
   "id": "fdc3216a-65a2-4f67-9bfb-ae4f91d087e7",
   "metadata": {},
   "outputs": [],
   "source": []
  },
  {
   "cell_type": "code",
   "execution_count": null,
   "id": "2bd0c90c-17dd-4db9-b8b1-897bbc3cee64",
   "metadata": {},
   "outputs": [],
   "source": []
  },
  {
   "cell_type": "code",
   "execution_count": null,
   "id": "f702e610-d197-4634-8710-2fc3e3c09f9e",
   "metadata": {},
   "outputs": [],
   "source": []
  },
  {
   "cell_type": "code",
   "execution_count": null,
   "id": "01878ce9-688b-4277-abe0-f67d4364648c",
   "metadata": {},
   "outputs": [],
   "source": []
  },
  {
   "cell_type": "code",
   "execution_count": null,
   "id": "d30e4e4a-48c1-4f3f-b6c7-13abc570d836",
   "metadata": {},
   "outputs": [],
   "source": []
  },
  {
   "cell_type": "code",
   "execution_count": null,
   "id": "59b24efd-7d84-452a-a919-258ca96b6d30",
   "metadata": {},
   "outputs": [],
   "source": []
  },
  {
   "cell_type": "code",
   "execution_count": null,
   "id": "8f317182-797b-4caa-966c-6b03c09c5388",
   "metadata": {},
   "outputs": [],
   "source": []
  }
 ],
 "metadata": {
  "kernelspec": {
   "display_name": "Python 3 (ipykernel)",
   "language": "python",
   "name": "python3"
  },
  "language_info": {
   "codemirror_mode": {
    "name": "ipython",
    "version": 3
   },
   "file_extension": ".py",
   "mimetype": "text/x-python",
   "name": "python",
   "nbconvert_exporter": "python",
   "pygments_lexer": "ipython3",
   "version": "3.12.7"
  }
 },
 "nbformat": 4,
 "nbformat_minor": 5
}
