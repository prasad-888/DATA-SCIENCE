{
 "cells": [
  {
   "cell_type": "markdown",
   "id": "d74b5ace-15a9-498b-8af6-a931dacbba32",
   "metadata": {},
   "source": [
    "## Numpy provides convinient functions for saving and loading arrays in both binary and textformats."
   ]
  },
  {
   "cell_type": "code",
   "execution_count": 6,
   "id": "dace132d-1171-42c3-97eb-f13a2fd697af",
   "metadata": {},
   "outputs": [],
   "source": [
    "import numpy as np\n",
    "\n",
    "arr = np.random.randn(10, 5)\n",
    "\n",
    "np.save(\"file_arr\", arr)"
   ]
  },
  {
   "cell_type": "code",
   "execution_count": 14,
   "id": "a99ab9fe-8928-460a-a129-58ff14bfed84",
   "metadata": {},
   "outputs": [
    {
     "name": "stdout",
     "output_type": "stream",
     "text": [
      "[[ 0.69161215  1.47651619 -1.04673937  2.17673775 -0.43087566]\n",
      " [ 0.07829762 -0.31935773 -0.82240971  0.57496122 -0.91359397]\n",
      " [-0.09151611  1.10259487  3.32446434 -1.09505354 -1.13310115]\n",
      " [-0.58709458 -2.62862957 -0.6684413  -0.98827803 -0.02323601]\n",
      " [-0.79247259  1.69840127  2.43334697 -0.26505298 -0.9290274 ]\n",
      " [-0.5587992  -0.63421508 -0.31033981 -0.59019811 -0.05664631]\n",
      " [ 0.044198    2.39772707 -1.55871841 -1.30190091 -0.72596984]\n",
      " [-0.27532803  1.68524695  1.26010875  0.65787852  0.05307881]\n",
      " [ 0.26786325  1.48173479 -1.3206255  -1.34579896 -0.5623491 ]\n",
      " [-0.21595485 -0.86065967  0.58942824 -1.07280232 -0.74630147]]\n"
     ]
    }
   ],
   "source": [
    "loaded_arr = np.load('file_arr.npy')\n",
    "print(loaded_arr)"
   ]
  },
  {
   "cell_type": "code",
   "execution_count": 16,
   "id": "e17ecc6b-bd5e-4e12-aff5-0a482101cda8",
   "metadata": {},
   "outputs": [],
   "source": [
    "np.savez('file_arr', a=arr, b=arr)"
   ]
  },
  {
   "cell_type": "code",
   "execution_count": 18,
   "id": "6d941f14-6e9d-4e3f-9b65-64fa175d80b7",
   "metadata": {},
   "outputs": [
    {
     "name": "stdout",
     "output_type": "stream",
     "text": [
      "NpzFile 'file_arr.npz' with keys: a, b\n"
     ]
    }
   ],
   "source": [
    "arrs = np.load('file_arr.npz')\n",
    "print(arrs)"
   ]
  },
  {
   "cell_type": "code",
   "execution_count": 20,
   "id": "7994ec6f-71fd-453f-8d09-78be6475ee22",
   "metadata": {},
   "outputs": [
    {
     "name": "stdout",
     "output_type": "stream",
     "text": [
      "[[ 0.69161215  1.47651619 -1.04673937  2.17673775 -0.43087566]\n",
      " [ 0.07829762 -0.31935773 -0.82240971  0.57496122 -0.91359397]\n",
      " [-0.09151611  1.10259487  3.32446434 -1.09505354 -1.13310115]\n",
      " [-0.58709458 -2.62862957 -0.6684413  -0.98827803 -0.02323601]\n",
      " [-0.79247259  1.69840127  2.43334697 -0.26505298 -0.9290274 ]\n",
      " [-0.5587992  -0.63421508 -0.31033981 -0.59019811 -0.05664631]\n",
      " [ 0.044198    2.39772707 -1.55871841 -1.30190091 -0.72596984]\n",
      " [-0.27532803  1.68524695  1.26010875  0.65787852  0.05307881]\n",
      " [ 0.26786325  1.48173479 -1.3206255  -1.34579896 -0.5623491 ]\n",
      " [-0.21595485 -0.86065967  0.58942824 -1.07280232 -0.74630147]]\n"
     ]
    }
   ],
   "source": [
    "print(arrs['a'])"
   ]
  },
  {
   "cell_type": "code",
   "execution_count": 22,
   "id": "87a24171-2d33-4f60-8a35-a25213ca7de8",
   "metadata": {},
   "outputs": [
    {
     "name": "stdout",
     "output_type": "stream",
     "text": [
      "[[ 0.69161215  1.47651619 -1.04673937  2.17673775 -0.43087566]\n",
      " [ 0.07829762 -0.31935773 -0.82240971  0.57496122 -0.91359397]\n",
      " [-0.09151611  1.10259487  3.32446434 -1.09505354 -1.13310115]\n",
      " [-0.58709458 -2.62862957 -0.6684413  -0.98827803 -0.02323601]\n",
      " [-0.79247259  1.69840127  2.43334697 -0.26505298 -0.9290274 ]\n",
      " [-0.5587992  -0.63421508 -0.31033981 -0.59019811 -0.05664631]\n",
      " [ 0.044198    2.39772707 -1.55871841 -1.30190091 -0.72596984]\n",
      " [-0.27532803  1.68524695  1.26010875  0.65787852  0.05307881]\n",
      " [ 0.26786325  1.48173479 -1.3206255  -1.34579896 -0.5623491 ]\n",
      " [-0.21595485 -0.86065967  0.58942824 -1.07280232 -0.74630147]]\n"
     ]
    }
   ],
   "source": [
    "print(arrs['b'])"
   ]
  },
  {
   "cell_type": "code",
   "execution_count": 24,
   "id": "b353cf7d-c60a-4355-b69c-0e6601251603",
   "metadata": {},
   "outputs": [],
   "source": [
    "np.savetxt('file_arr',arr,delimiter=',')"
   ]
  },
  {
   "cell_type": "code",
   "execution_count": 28,
   "id": "bccfc6ad-db31-42c1-8d29-cc2e008d062b",
   "metadata": {},
   "outputs": [
    {
     "name": "stdout",
     "output_type": "stream",
     "text": [
      "[[ 0.69161215  1.47651619 -1.04673937  2.17673775 -0.43087566]\n",
      " [ 0.07829762 -0.31935773 -0.82240971  0.57496122 -0.91359397]\n",
      " [-0.09151611  1.10259487  3.32446434 -1.09505354 -1.13310115]\n",
      " [-0.58709458 -2.62862957 -0.6684413  -0.98827803 -0.02323601]\n",
      " [-0.79247259  1.69840127  2.43334697 -0.26505298 -0.9290274 ]\n",
      " [-0.5587992  -0.63421508 -0.31033981 -0.59019811 -0.05664631]\n",
      " [ 0.044198    2.39772707 -1.55871841 -1.30190091 -0.72596984]\n",
      " [-0.27532803  1.68524695  1.26010875  0.65787852  0.05307881]\n",
      " [ 0.26786325  1.48173479 -1.3206255  -1.34579896 -0.5623491 ]\n",
      " [-0.21595485 -0.86065967  0.58942824 -1.07280232 -0.74630147]]\n"
     ]
    }
   ],
   "source": [
    "arr_from_txt = np.loadtxt('file_arr',delimiter=',')\n",
    "print(arr_from_txt)"
   ]
  },
  {
   "cell_type": "code",
   "execution_count": null,
   "id": "cec054dc-222c-41b7-8339-edf1e769a9c3",
   "metadata": {},
   "outputs": [],
   "source": []
  },
  {
   "cell_type": "code",
   "execution_count": null,
   "id": "8f9c1c90-d923-48b9-88a3-2ea009c72bfd",
   "metadata": {},
   "outputs": [],
   "source": []
  },
  {
   "cell_type": "code",
   "execution_count": null,
   "id": "01957c68-4b6f-4c1c-823b-a590a823504c",
   "metadata": {},
   "outputs": [],
   "source": []
  },
  {
   "cell_type": "code",
   "execution_count": null,
   "id": "a59331ad-0536-4f03-bae4-df56a8902ba0",
   "metadata": {},
   "outputs": [],
   "source": []
  },
  {
   "cell_type": "code",
   "execution_count": null,
   "id": "299b3371-21b9-4433-b7c3-f2a62e59bad6",
   "metadata": {},
   "outputs": [],
   "source": []
  }
 ],
 "metadata": {
  "kernelspec": {
   "display_name": "Python 3 (ipykernel)",
   "language": "python",
   "name": "python3"
  },
  "language_info": {
   "codemirror_mode": {
    "name": "ipython",
    "version": 3
   },
   "file_extension": ".py",
   "mimetype": "text/x-python",
   "name": "python",
   "nbconvert_exporter": "python",
   "pygments_lexer": "ipython3",
   "version": "3.12.7"
  }
 },
 "nbformat": 4,
 "nbformat_minor": 5
}
