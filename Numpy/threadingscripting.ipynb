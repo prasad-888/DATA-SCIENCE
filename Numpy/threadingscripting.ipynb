{
 "cells": [
  {
   "cell_type": "code",
   "execution_count": 1,
   "id": "529d191c-63fe-4faf-88da-8eb235ed045d",
   "metadata": {},
   "outputs": [
    {
     "name": "stdout",
     "output_type": "stream",
     "text": [
      "This is a child thread\n",
      "This is parent thread\n"
     ]
    }
   ],
   "source": [
    "from threading import *\n",
    "def show():\n",
    "    print(\"This is a child thread\")\n",
    "t=Thread(target=show())\n",
    "t.start()\n",
    "print(\"This is parent thread\")"
   ]
  },
  {
   "cell_type": "code",
   "execution_count": 24,
   "id": "6aadeda0-efb4-4348-80de-35582c18243b",
   "metadata": {},
   "outputs": [
    {
     "name": "stdout",
     "output_type": "stream",
     "text": [
      "This is a child class\n",
      "This is a child class\n",
      "This is a child class\n",
      "This is a child class\n",
      "This is a child class\n",
      "\n",
      "This is the main thread\n",
      "\n",
      "This is the main thread\n",
      "\n",
      "This is the main thread\n",
      "\n",
      "This is the main thread\n",
      "\n",
      "This is the main thread\n"
     ]
    }
   ],
   "source": [
    "class MyThread(Thread):\n",
    "    def run(self):\n",
    "        for i in range(5):\n",
    "            print(\"This is a child class\")\n",
    "t=MyThread()\n",
    "t.start()\n",
    "for i in range(5):\n",
    "    print(\"\\nThis is the main thread\")"
   ]
  },
  {
   "cell_type": "code",
   "execution_count": null,
   "id": "ea904d7a-c8f3-4e0a-92b4-f9cfd715cc92",
   "metadata": {},
   "outputs": [],
   "source": []
  },
  {
   "cell_type": "code",
   "execution_count": 26,
   "id": "ed096cd1-67e8-4bb1-9517-b85fc2386cce",
   "metadata": {},
   "outputs": [
    {
     "name": "stdout",
     "output_type": "stream",
     "text": [
      "This is the child thread\n",
      "This is the child thread\n",
      "This is the child thread\n",
      "This is the child thread\n",
      "This is the child thread\n",
      "This is the parent thread\n",
      "This is the parent thread\n",
      "This is the parent thread\n",
      "This is the parent thread\n",
      "This is the parent thread\n"
     ]
    }
   ],
   "source": [
    "class Demo:\n",
    "    def show(self):\n",
    "        for i in range(5):\n",
    "            print(\"This is the child thread\")\n",
    "obj=Demo()\n",
    "t=Thread(target=obj.show())\n",
    "t.start()\n",
    "for i in range(5):\n",
    "    print(\"This is the parent thread\")"
   ]
  },
  {
   "cell_type": "code",
   "execution_count": 11,
   "id": "891af3d6-d871-4ea3-b4f1-7cb76bc7e884",
   "metadata": {},
   "outputs": [
    {
     "name": "stdout",
     "output_type": "stream",
     "text": [
      "The number is  1\n",
      "The double of the number is 2\n",
      "The square of the number is 1\n",
      "The number is  2\n",
      "The double of the number is 4\n",
      "The square of the number is 4\n",
      "The number is  3\n",
      "The double of the number is 6\n",
      "The square of the number is 9\n",
      "The number is  4\n",
      "The double of the number is 8\n",
      "The square of the number is 16\n",
      "The number is  5\n",
      "The double of the number is 10\n",
      "The square of the number is 25\n",
      "This is the main thread\n"
     ]
    }
   ],
   "source": [
    "from threading import *\n",
    "import time\n",
    "class Demo:\n",
    "    def num(self):\n",
    "        for i in range(1,6):\n",
    "            print(\"The number is \",i)\n",
    "            time.sleep(1)\n",
    "    def double(self):\n",
    "        for i in range(1,6):\n",
    "            print(\"The double of the number is\",2*i)\n",
    "            time.sleep(1)\n",
    "    def square(self):\n",
    "        for i in range(1,6):\n",
    "            print(\"The square of the number is\",i*i)\n",
    "            time.sleep(1)\n",
    "\n",
    "obj=Demo()\n",
    "t1=Thread(target=obj.num)\n",
    "t2=Thread(target=obj.double)\n",
    "t3=Thread(target=obj.square)\n",
    "\n",
    "t1.start()\n",
    "time.sleep(0.2)\n",
    "t2.start()\n",
    "time.sleep(0.2)\n",
    "t3.start()\n",
    "time.sleep(0.2)\n",
    "# we use join function so that the program will not terminate till all t1,t2,t3 are completed\n",
    "\n",
    "t1.join()\n",
    "t2.join()\n",
    "t3.join()\n",
    "\n",
    "print(\"This is the main thread\")"
   ]
  },
  {
   "cell_type": "code",
   "execution_count": null,
   "id": "83bc734d-1bfc-47a4-93fe-8296bdd4d10b",
   "metadata": {},
   "outputs": [],
   "source": []
  },
  {
   "cell_type": "code",
   "execution_count": null,
   "id": "ae73c742-56b6-41dc-83c2-3eab0e4fde24",
   "metadata": {},
   "outputs": [],
   "source": []
  },
  {
   "cell_type": "code",
   "execution_count": 15,
   "id": "edb7e19c-27d1-4f5b-b402-b1467beb4801",
   "metadata": {},
   "outputs": [],
   "source": [
    "#python scripting"
   ]
  },
  {
   "cell_type": "code",
   "execution_count": 25,
   "id": "25a771ce-9263-4d39-b4c6-e4a21d052cb3",
   "metadata": {},
   "outputs": [
    {
     "name": "stdout",
     "output_type": "stream",
     "text": [
      "C:\\Users\\Prasad\n",
      "C:\\Users\\Prasad\\sample.txt\n"
     ]
    }
   ],
   "source": [
    "import os \n",
    "\n",
    "def current_directory():\n",
    "    cwd=os.getcwd()\n",
    "    print(cwd)\n",
    "\n",
    "def file_path(filename):\n",
    "    path=os.path.abspath((filename))\n",
    "    print(path)\n",
    "current_directory()\n",
    "filename=\"sample.txt\"\n",
    "file_path(filename)"
   ]
  },
  {
   "cell_type": "code",
   "execution_count": 33,
   "id": "e58142ec-a630-42d7-8942-65eecc86e6ec",
   "metadata": {},
   "outputs": [
    {
     "name": "stdout",
     "output_type": "stream",
     "text": [
      "1730813733.6696484\n",
      "time.struct_time(tm_year=2024, tm_mon=11, tm_mday=5, tm_hour=19, tm_min=5, tm_sec=33, tm_wday=1, tm_yday=310, tm_isdst=0)\n",
      "2024\n",
      "Tue Nov  5 19:05:33 2024\n"
     ]
    }
   ],
   "source": [
    "import time\n",
    "\n",
    "epc=time.time()\n",
    "print(epc)\n",
    "localtime=time.localtime(epc)\n",
    "print(localtime)\n",
    "print(localtime.tm_year)\n",
    "\n",
    "print(time.ctime(epc))"
   ]
  },
  {
   "cell_type": "code",
   "execution_count": null,
   "id": "70072624-57d6-41ad-875a-ae0d95f16bfe",
   "metadata": {},
   "outputs": [],
   "source": [
    "\n"
   ]
  },
  {
   "cell_type": "code",
   "execution_count": 36,
   "id": "634d8fc3-0436-47c8-ac2f-a6979fab8e62",
   "metadata": {},
   "outputs": [],
   "source": [
    "#smtp simple mail transfer protocol"
   ]
  },
  {
   "cell_type": "code",
   "execution_count": 79,
   "id": "7c16995c-9f39-448b-95e5-8737e0076357",
   "metadata": {},
   "outputs": [
    {
     "ename": "SMTPAuthenticationError",
     "evalue": "(535, b'5.7.8 Username and Password not accepted. For more information, go to\\n5.7.8  https://support.google.com/mail/?p=BadCredentials d2e1a72fcca58-720bc2c38adsm9668405b3a.133 - gsmtp')",
     "output_type": "error",
     "traceback": [
      "\u001b[1;31m---------------------------------------------------------------------------\u001b[0m",
      "\u001b[1;31mSMTPAuthenticationError\u001b[0m                   Traceback (most recent call last)",
      "Cell \u001b[1;32mIn[79], line 6\u001b[0m\n\u001b[0;32m      4\u001b[0m smtobj\u001b[38;5;241m.\u001b[39mehlo() \u001b[38;5;66;03m#servers communicating with each other\u001b[39;00m\n\u001b[0;32m      5\u001b[0m smtobj\u001b[38;5;241m.\u001b[39mstarttls() \u001b[38;5;66;03m# putting smtp in tls mode\u001b[39;00m\n\u001b[1;32m----> 6\u001b[0m smtobj\u001b[38;5;241m.\u001b[39mlogin(\u001b[38;5;124m'\u001b[39m\u001b[38;5;124mprasad_gavhane_aids@moderncoe.edu.in\u001b[39m\u001b[38;5;124m'\u001b[39m,\u001b[38;5;124m'\u001b[39m\u001b[38;5;124mpassword\u001b[39m\u001b[38;5;124m'\u001b[39m)\n\u001b[0;32m      7\u001b[0m smtobj\u001b[38;5;241m.\u001b[39msendmail(\u001b[38;5;124m\"\u001b[39m\u001b[38;5;124mprasad_gavhane_aids@moderncoe.edu.in\u001b[39m\u001b[38;5;124m\"\u001b[39m, \u001b[38;5;124m\"\u001b[39m\u001b[38;5;124mtirthagavhane21@gmail.com\u001b[39m\u001b[38;5;124m\"\u001b[39m, \u001b[38;5;124m\"\u001b[39m\u001b[38;5;124mSubject: SMTP Check.\u001b[39m\u001b[38;5;130;01m\\n\u001b[39;00m\u001b[38;5;124m This is test email\u001b[39m\u001b[38;5;124m\"\u001b[39m)\n\u001b[0;32m      9\u001b[0m smtobj\u001b[38;5;241m.\u001b[39mquit()\n",
      "File \u001b[1;32m~\\anaconda3\\Lib\\smtplib.py:750\u001b[0m, in \u001b[0;36mSMTP.login\u001b[1;34m(self, user, password, initial_response_ok)\u001b[0m\n\u001b[0;32m    747\u001b[0m         last_exception \u001b[38;5;241m=\u001b[39m e\n\u001b[0;32m    749\u001b[0m \u001b[38;5;66;03m# We could not login successfully.  Return result of last attempt.\u001b[39;00m\n\u001b[1;32m--> 750\u001b[0m \u001b[38;5;28;01mraise\u001b[39;00m last_exception\n",
      "File \u001b[1;32m~\\anaconda3\\Lib\\smtplib.py:739\u001b[0m, in \u001b[0;36mSMTP.login\u001b[1;34m(self, user, password, initial_response_ok)\u001b[0m\n\u001b[0;32m    737\u001b[0m method_name \u001b[38;5;241m=\u001b[39m \u001b[38;5;124m'\u001b[39m\u001b[38;5;124mauth_\u001b[39m\u001b[38;5;124m'\u001b[39m \u001b[38;5;241m+\u001b[39m authmethod\u001b[38;5;241m.\u001b[39mlower()\u001b[38;5;241m.\u001b[39mreplace(\u001b[38;5;124m'\u001b[39m\u001b[38;5;124m-\u001b[39m\u001b[38;5;124m'\u001b[39m, \u001b[38;5;124m'\u001b[39m\u001b[38;5;124m_\u001b[39m\u001b[38;5;124m'\u001b[39m)\n\u001b[0;32m    738\u001b[0m \u001b[38;5;28;01mtry\u001b[39;00m:\n\u001b[1;32m--> 739\u001b[0m     (code, resp) \u001b[38;5;241m=\u001b[39m \u001b[38;5;28mself\u001b[39m\u001b[38;5;241m.\u001b[39mauth(\n\u001b[0;32m    740\u001b[0m         authmethod, \u001b[38;5;28mgetattr\u001b[39m(\u001b[38;5;28mself\u001b[39m, method_name),\n\u001b[0;32m    741\u001b[0m         initial_response_ok\u001b[38;5;241m=\u001b[39minitial_response_ok)\n\u001b[0;32m    742\u001b[0m     \u001b[38;5;66;03m# 235 == 'Authentication successful'\u001b[39;00m\n\u001b[0;32m    743\u001b[0m     \u001b[38;5;66;03m# 503 == 'Error: already authenticated'\u001b[39;00m\n\u001b[0;32m    744\u001b[0m     \u001b[38;5;28;01mif\u001b[39;00m code \u001b[38;5;129;01min\u001b[39;00m (\u001b[38;5;241m235\u001b[39m, \u001b[38;5;241m503\u001b[39m):\n",
      "File \u001b[1;32m~\\anaconda3\\Lib\\smtplib.py:662\u001b[0m, in \u001b[0;36mSMTP.auth\u001b[1;34m(self, mechanism, authobject, initial_response_ok)\u001b[0m\n\u001b[0;32m    660\u001b[0m \u001b[38;5;28;01mif\u001b[39;00m code \u001b[38;5;129;01min\u001b[39;00m (\u001b[38;5;241m235\u001b[39m, \u001b[38;5;241m503\u001b[39m):\n\u001b[0;32m    661\u001b[0m     \u001b[38;5;28;01mreturn\u001b[39;00m (code, resp)\n\u001b[1;32m--> 662\u001b[0m \u001b[38;5;28;01mraise\u001b[39;00m SMTPAuthenticationError(code, resp)\n",
      "\u001b[1;31mSMTPAuthenticationError\u001b[0m: (535, b'5.7.8 Username and Password not accepted. For more information, go to\\n5.7.8  https://support.google.com/mail/?p=BadCredentials d2e1a72fcca58-720bc2c38adsm9668405b3a.133 - gsmtp')"
     ]
    }
   ],
   "source": [
    "import smtplib \n",
    "\n",
    "smtobj=smtplib.SMTP('smtp.gmail.com',587) # std domain and port number\n",
    "smtobj.ehlo() #servers communicating with each other\n",
    "smtobj.starttls() # putting smtp in tls mode\n",
    "smtobj.login('prasad_gavhane_aids@moderncoe.edu.in','password')\n",
    "smtobj.sendmail(\"prasad_gavhane_aids@moderncoe.edu.in\", \"tirthagavhane21@gmail.com\", \"Subject: SMTP Check.\\n This is test email\")\n",
    "\n",
    "smtobj.quit()"
   ]
  },
  {
   "cell_type": "code",
   "execution_count": null,
   "id": "ed2f1415-a7c4-49f2-9030-3d27bb9340e6",
   "metadata": {},
   "outputs": [],
   "source": [
    "from os import path\n",
    "\n",
    "def createFile(dest):\n",
    "    if not (path.isfile(dest)):\n",
    "        f=open(dest,'w')\n",
    "        f.write(\"Welcome to Python scripting\")\n",
    "        f.close()\n",
    "dest=\"C:\\\\Users\\\\Prasad\\\\Desktop\\\\sample.txt\"\n",
    "\n",
    "createFile(dest)\n",
    "\n",
    "print(\"File created\")"
   ]
  },
  {
   "cell_type": "code",
   "execution_count": null,
   "id": "eee66139-59e5-435e-ae8c-5d25830591d3",
   "metadata": {},
   "outputs": [],
   "source": []
  },
  {
   "cell_type": "code",
   "execution_count": 107,
   "id": "6d379561-932c-4deb-a9dd-20f9a07e3623",
   "metadata": {},
   "outputs": [
    {
     "name": "stdout",
     "output_type": "stream",
     "text": [
      "10\n",
      "20\n",
      "30\n",
      "40\n",
      "50\n"
     ]
    }
   ],
   "source": [
    "def func1(*args, **kwargs):\n",
    "    \n",
    "    for i in args:\n",
    "        print(i)\n",
    "\n",
    "func1(10,20,30,40,50)\n"
   ]
  },
  {
   "cell_type": "code",
   "execution_count": 95,
   "id": "80f93a5b-e9ee-48b5-8a3f-014117a70932",
   "metadata": {},
   "outputs": [
    {
     "name": "stdout",
     "output_type": "stream",
     "text": [
      "a\n",
      "b\n",
      "c\n"
     ]
    }
   ],
   "source": [
    "def func2( **kwargs):\n",
    "    for i in kwargs:\n",
    "        print(i)\n",
    "\n",
    "func2(a=10,b=20,c=30)"
   ]
  },
  {
   "cell_type": "code",
   "execution_count": 113,
   "id": "b553d056-d200-4c07-ae41-5cc67ec0f22c",
   "metadata": {},
   "outputs": [
    {
     "name": "stdout",
     "output_type": "stream",
     "text": [
      "11\n"
     ]
    }
   ],
   "source": [
    "def func1():\n",
    "    x=10\n",
    "    def func2(x):\n",
    "        return x+1\n",
    "    return func2(x)\n",
    "\n",
    "result=func1()\n",
    "print(result)\n",
    "    "
   ]
  },
  {
   "cell_type": "code",
   "execution_count": 121,
   "id": "a7b5b7ee-7760-4957-935f-3cc4c97b4032",
   "metadata": {},
   "outputs": [
    {
     "name": "stdout",
     "output_type": "stream",
     "text": [
      "This is the first function\n",
      "This is the nested function\n",
      "This is the outer function\n"
     ]
    }
   ],
   "source": [
    "def func1(called_func):\n",
    "    print(\"This is the first function\")\n",
    "    def nested_func1(called_func):\n",
    "        print(\"This is the nested function\")\n",
    "        called_func()\n",
    "    return nested_func1(called_func)\n",
    "\n",
    "def outer_func():\n",
    "    print(\"This is the outer function\")\n",
    "\n",
    "obj=func1(outer_func)"
   ]
  },
  {
   "cell_type": "code",
   "execution_count": 123,
   "id": "f0ffd815-56ba-493c-add5-5fffd5f4bd0e",
   "metadata": {},
   "outputs": [],
   "source": [
    "# factory \n",
    "# create class at runtime"
   ]
  },
  {
   "cell_type": "code",
   "execution_count": 131,
   "id": "b3d03a19-3eea-41f1-9d38-745b6811a3cf",
   "metadata": {},
   "outputs": [
    {
     "name": "stdout",
     "output_type": "stream",
     "text": [
      "5\n",
      "10\n"
     ]
    }
   ],
   "source": [
    "B=type(\"base class\",(object,),{})\n",
    "\n",
    "C1=type(\"C1\",(B,), {'val':5})\n",
    "C2=type(\"C2\",(B,), {'val':10})\n",
    "\n",
    "def ClassCreator(bool):\n",
    "    if bool:\n",
    "        return C1()\n",
    "    else:\n",
    "        return C2()\n",
    "\n",
    "print(ClassCreator(True).val)\n",
    "print(ClassCreator(False).val)"
   ]
  },
  {
   "cell_type": "code",
   "execution_count": 135,
   "id": "7ad86699-2f9d-4ba5-bf65-01a79bb1c73a",
   "metadata": {},
   "outputs": [
    {
     "name": "stdout",
     "output_type": "stream",
     "text": [
      "This is the first function\n",
      "This is the nested function\n",
      "This is the outer function\n"
     ]
    },
    {
     "ename": "TypeError",
     "evalue": "'NoneType' object is not callable",
     "output_type": "error",
     "traceback": [
      "\u001b[1;31m---------------------------------------------------------------------------\u001b[0m",
      "\u001b[1;31mTypeError\u001b[0m                                 Traceback (most recent call last)",
      "Cell \u001b[1;32mIn[135], line 13\u001b[0m\n\u001b[0;32m      9\u001b[0m \u001b[38;5;129m@func1\u001b[39m \u001b[38;5;66;03m#decorator \u001b[39;00m\n\u001b[0;32m     10\u001b[0m \u001b[38;5;28;01mdef\u001b[39;00m \u001b[38;5;21mouter_func\u001b[39m():\n\u001b[0;32m     11\u001b[0m     \u001b[38;5;28mprint\u001b[39m(\u001b[38;5;124m\"\u001b[39m\u001b[38;5;124mThis is the outer function\u001b[39m\u001b[38;5;124m\"\u001b[39m)\n\u001b[1;32m---> 13\u001b[0m outer_func()\n",
      "\u001b[1;31mTypeError\u001b[0m: 'NoneType' object is not callable"
     ]
    }
   ],
   "source": [
    "def func1(called_func):\n",
    "    print(\"This is the first function\")\n",
    "    def nested_func1(called_func):\n",
    "        print(\"This is the nested function\")\n",
    "        called_func()\n",
    "    return nested_func1(called_func)\n",
    "\n",
    "\n",
    "@func1 #decorator \n",
    "def outer_func():\n",
    "    print(\"This is the outer function\")\n",
    "\n",
    "outer_func()"
   ]
  },
  {
   "cell_type": "code",
   "execution_count": null,
   "id": "59ad617b-90f6-4be1-bc50-1048bd3fa9a6",
   "metadata": {},
   "outputs": [],
   "source": []
  }
 ],
 "metadata": {
  "kernelspec": {
   "display_name": "Python 3 (ipykernel)",
   "language": "python",
   "name": "python3"
  },
  "language_info": {
   "codemirror_mode": {
    "name": "ipython",
    "version": 3
   },
   "file_extension": ".py",
   "mimetype": "text/x-python",
   "name": "python",
   "nbconvert_exporter": "python",
   "pygments_lexer": "ipython3",
   "version": "3.12.7"
  }
 },
 "nbformat": 4,
 "nbformat_minor": 5
}
