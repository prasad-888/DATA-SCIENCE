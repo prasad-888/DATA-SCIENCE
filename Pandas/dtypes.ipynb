{
 "cells": [
  {
   "cell_type": "code",
   "execution_count": 7,
   "id": "92e159fc-0eaf-409f-bfa2-0dc921969590",
   "metadata": {},
   "outputs": [
    {
     "name": "stdout",
     "output_type": "stream",
     "text": [
      "color                         object\n",
      "director_name                 object\n",
      "num_critic_for_reviews       float64\n",
      "duration                     float64\n",
      "director_facebook_likes      float64\n",
      "actor_3_facebook_likes       float64\n",
      "actor_2_name                  object\n",
      "actor_1_facebook_likes       float64\n",
      "gross                        float64\n",
      "genres                        object\n",
      "actor_1_name                  object\n",
      "movie_title                   object\n",
      "num_voted_users                int64\n",
      "cast_total_facebook_likes      int64\n",
      "actor_3_name                  object\n",
      "facenumber_in_poster         float64\n",
      "plot_keywords                 object\n",
      "movie_imdb_link               object\n",
      "num_user_for_reviews         float64\n",
      "language                      object\n",
      "country                       object\n",
      "content_rating                object\n",
      "budget                       float64\n",
      "title_year                   float64\n",
      "actor_2_facebook_likes       float64\n",
      "imdb_score                   float64\n",
      "aspect_ratio                 float64\n",
      "movie_facebook_likes           int64\n",
      "dtype: object\n"
     ]
    }
   ],
   "source": [
    "import pandas as pd\n",
    "\n",
    "movie = pd.read_csv(r\"C:\\Users\\Prasad\\Downloads\\data\\data\\movie.csv\")\n",
    "\n",
    "\n",
    "\n",
    "\n",
    "print(movie.dtypes)"
   ]
  },
  {
   "cell_type": "code",
   "execution_count": 9,
   "id": "bc8ce241-cb3c-4799-9161-37d62031dcd2",
   "metadata": {},
   "outputs": [
    {
     "name": "stdout",
     "output_type": "stream",
     "text": [
      "float64    13\n",
      "object     12\n",
      "int64       3\n",
      "Name: count, dtype: int64\n"
     ]
    }
   ],
   "source": [
    "print(movie.dtypes.value_counts())"
   ]
  },
  {
   "cell_type": "code",
   "execution_count": null,
   "id": "dcbfa17a-4240-4c0e-9180-124cfd4ff7f4",
   "metadata": {},
   "outputs": [],
   "source": []
  }
 ],
 "metadata": {
  "kernelspec": {
   "display_name": "Python 3 (ipykernel)",
   "language": "python",
   "name": "python3"
  },
  "language_info": {
   "codemirror_mode": {
    "name": "ipython",
    "version": 3
   },
   "file_extension": ".py",
   "mimetype": "text/x-python",
   "name": "python",
   "nbconvert_exporter": "python",
   "pygments_lexer": "ipython3",
   "version": "3.12.7"
  }
 },
 "nbformat": 4,
 "nbformat_minor": 5
}
