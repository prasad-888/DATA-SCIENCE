{
 "cells": [
  {
   "cell_type": "markdown",
   "id": "d389d779-5556-42d4-9712-c545168949e7",
   "metadata": {},
   "source": [
    "## what are the three components of dataframe\n",
    "the three components are\n",
    "row labels \n",
    "column labels\n",
    "values"
   ]
  },
  {
   "cell_type": "markdown",
   "id": "fe78f963-ae78-4a79-9cdf-bb95732d34c5",
   "metadata": {},
   "source": [
    "## How do you count datatypes in dataframe\n",
    "\n",
    "movie.dtypes.value_counts()"
   ]
  },
  {
   "cell_type": "markdown",
   "id": "6a0b33ef-7db0-4366-9ceb-8157155c6f85",
   "metadata": {},
   "source": [
    "## Is there any difference between percentile and quantile? If so, what is it?\n",
    "\n",
    "np.percentile() vs. np.quantile()¶\n",
    "Both np.percentile() and np.quantile() functions in NumPy can be used to calculate percentiles or quantiles from a given dataset.\n",
    "\n",
    "Percentiles and Quantiles\n",
    "The terms \"percentiles\" and \"quantiles\" are often used interchangeably to refer to the same concept. Both terms represent values that divide a dataset into groups or intervals.\n",
    "\n",
    "Percentiles and quantiles are used to understand the distribution of data and provide information about specific points within the dataset. For example, the median is often referred to as the 50th percentile or the 0.5 quantile because it divides the data into two equal halves.\n",
    "\n",
    "So, while the terminology may vary, percentiles and quantiles essentially represent the same idea of dividing a dataset into specified portions. The choice of using \"percentile\" or \"quantile\" may depend on personal preference, specific statistical methods, or conventions within a particular field of study.\n",
    "\n",
    "However, there are slight differences between the two functions:\n",
    "\n",
    "Input Format: The np.percentile() function takes the input for the percentile as a percentage value, ranging from 0 to 100. For example, np.percentile(data, 25) calculates the 25th percentile. On the other hand, the np.quantile function takes the input for the quantile as a decimal value, ranging from 0 to 1. For example, np.quantile(data, 0.25) calculates the 25th percentile.\n",
    "\n",
    "Interpolation Method: The default behavior for interpolation differs between the two functions. np.percentile() uses linear interpolation, which means it provides an interpolated value between two data points. In contrast, np.quantile() uses the nearest-rank method, where it returns the value of the data point closest to the desired quantile.\n",
    "\n",
    "Interpolation Method\n",
    "In the context of calculating percentiles or quantiles, interpolation refers to the method used to estimate a value within the range of available data points. When the desired percentile or quantile falls between two data points, interpolation helps estimate the value at that position.\n",
    "\n",
    "There are different interpolation methods and the choice of method affects how the estimated value is calculated. The two common interpolation methods used in calculating percentiles or quantiles are:\n",
    "\n",
    "Linear Interpolation: Linear interpolation assumes a linear relationship between the data points. It calculates the estimated value by interpolating linearly between the two nearest data points. This method assumes a constant rate of change between the data points and provides a smooth transition.\n",
    "\n",
    "Nearest-Rank Interpolation: Nearest-rank interpolation, also known as the \"floor\" method, uses the nearest data point without interpolation. It selects the value of the nearest data point that corresponds to the desired percentile or quantile. This method is simpler and tends to yield more conservative estimates.\n",
    "\n",
    "The choice of interpolation method depends on the context and the nature of the data. Linear interpolation provides a more continuous estimate, while nearest-rank interpolation gives a value directly from the dataset. The default behavior of interpolation can vary depending on the software or statistical functions being used, so it's important to be aware of the underlying method employed.\n",
    "\n",
    "Conclusion\n",
    "In general, the choice between np.percentile() and np.quantile() depends on personal preference and the specific requirements of your analysis. Both functions can effectively calculate percentiles or quantiles, but be mindful of the differences in input format and interpolation method."
   ]
  },
  {
   "cell_type": "markdown",
   "id": "ecc319bf-da17-4abb-8568-2b78c7943ee3",
   "metadata": {},
   "source": [
    "## How can you check if a DataFrame contains NaN values, and how can you handle them?\n",
    " \n",
    "You can check if a dataframe has NaN values by using the function\n",
    "## isnull()  isnull().sum()   isnull().any\n",
    "\n",
    "to handle them we can use the folllowing method\n",
    "## Use fillna() to replace NaN values.\n",
    "## Use .astype() to convert the data type after handling missing values."
   ]
  },
  {
   "cell_type": "markdown",
   "id": "2da939a7-595a-4332-b640-d8e7a6d6006e",
   "metadata": {},
   "source": [
    "## How do you retrieve only those columns that contain only integer data from a DataFrame with mixed data types (int, float, and object)?\n",
    "\n",
    "## we use movie.select_dtypes(include=\"int\")"
   ]
  },
  {
   "cell_type": "markdown",
   "id": "3cb2dc1c-547b-481b-bbbe-6c8f4c37ad68",
   "metadata": {},
   "source": [
    "## why does comparing two NaN values return False \n",
    "\n",
    "Nan is not a valid number so it cannot be compared to anybody even to itself\n",
    "\n",
    "Nan has two possibilities 1) that the data is not available\n",
    "2) the data itself is indescribebale"
   ]
  },
  {
   "cell_type": "markdown",
   "id": "186a4ef3-1f7a-41ed-a5c5-4a6d7da88626",
   "metadata": {},
   "source": [
    "##  What is the meaning of axis=0 and axis=1 in DataFrame operations?\n",
    "\n",
    "Most DataFrame methods default to axis=0 (operating down columns). Use axis=1 for row-wise operations."
   ]
  },
  {
   "cell_type": "code",
   "execution_count": null,
   "id": "0e891f85-7278-470f-a91f-36861f824b31",
   "metadata": {},
   "outputs": [],
   "source": []
  }
 ],
 "metadata": {
  "kernelspec": {
   "display_name": "Python 3 (ipykernel)",
   "language": "python",
   "name": "python3"
  },
  "language_info": {
   "codemirror_mode": {
    "name": "ipython",
    "version": 3
   },
   "file_extension": ".py",
   "mimetype": "text/x-python",
   "name": "python",
   "nbconvert_exporter": "python",
   "pygments_lexer": "ipython3",
   "version": "3.12.7"
  }
 },
 "nbformat": 4,
 "nbformat_minor": 5
}
