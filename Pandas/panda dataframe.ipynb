{
 "cells": [
  {
   "cell_type": "code",
   "execution_count": 3,
   "id": "3c3414ac-9468-4142-9344-8d995430af05",
   "metadata": {},
   "outputs": [
    {
     "name": "stdout",
     "output_type": "stream",
     "text": [
      "   Maths  English  Science\n",
      "0     15       20       15\n",
      "1     17       20        7\n",
      "2      6       12       16\n",
      "3     14       13       20\n",
      "4     19       18        9\n"
     ]
    }
   ],
   "source": [
    "import pandas as pd\n",
    "\n",
    "marks={\n",
    "    'Maths': [15, 17, 6, 14, 19],\n",
    "    'English':[20, 20, 12, 13, 18],\n",
    "    'Science':[15, 7, 16, 20, 9]\n",
    "}\n",
    "\n",
    "marks_df = pd.DataFrame(marks)\n",
    "print(marks_df)"
   ]
  },
  {
   "cell_type": "code",
   "execution_count": 12,
   "id": "ac0a2c24-55f5-4112-ab3f-fc2c1b748280",
   "metadata": {},
   "outputs": [
    {
     "name": "stdout",
     "output_type": "stream",
     "text": [
      "   English  Maths  Science\n",
      "0       20     15       15\n",
      "1       20     17        7\n",
      "2       12      6       16\n",
      "3       13     14       20\n",
      "4       18     19        9\n"
     ]
    }
   ],
   "source": [
    "marks_df = pd.DataFrame(marks, columns =['English', 'Maths', 'Science'])\n",
    "print(marks_df)"
   ]
  },
  {
   "cell_type": "code",
   "execution_count": 14,
   "id": "140277ff-04bd-49d7-94e1-6eddfcb4d323",
   "metadata": {},
   "outputs": [
    {
     "name": "stdout",
     "output_type": "stream",
     "text": [
      "   English  Maths  Science History\n",
      "0       20     15       15     NaN\n",
      "1       20     17        7     NaN\n",
      "2       12      6       16     NaN\n",
      "3       13     14       20     NaN\n",
      "4       18     19        9     NaN\n"
     ]
    }
   ],
   "source": [
    "marks_df = pd.DataFrame(marks,columns=['English','Maths','Science','History'])\n",
    "print(marks_df)"
   ]
  },
  {
   "cell_type": "code",
   "execution_count": 16,
   "id": "f0698a5b-80db-4757-9469-e0b97b25db40",
   "metadata": {},
   "outputs": [
    {
     "name": "stdout",
     "output_type": "stream",
     "text": [
      "0    15\n",
      "1    17\n",
      "2     6\n",
      "3    14\n",
      "4    19\n",
      "Name: Maths, dtype: int64\n",
      "0    15\n",
      "1    17\n",
      "2     6\n",
      "3    14\n",
      "4    19\n",
      "Name: Maths, dtype: int64\n"
     ]
    }
   ],
   "source": [
    "print(marks_df['Maths'])\n",
    "print(marks_df.Maths)"
   ]
  },
  {
   "cell_type": "code",
   "execution_count": 18,
   "id": "7768bc8a-7764-4c16-876a-476f70aad08f",
   "metadata": {},
   "outputs": [
    {
     "name": "stdout",
     "output_type": "stream",
     "text": [
      "   English  Maths  Science  History\n",
      "0       20     15       15       15\n",
      "1       20     17        7       15\n",
      "2       12      6       16       15\n",
      "3       13     14       20       15\n",
      "4       18     19        9       15\n"
     ]
    }
   ],
   "source": [
    "marks_df.History = 15\n",
    "print(marks_df)"
   ]
  },
  {
   "cell_type": "code",
   "execution_count": 37,
   "id": "4ad09887-136b-468d-adc5-6d66cce32fca",
   "metadata": {},
   "outputs": [
    {
     "name": "stdout",
     "output_type": "stream",
     "text": [
      "   English  Maths  Science  History\n",
      "0       20     15       15        2\n",
      "1       20     17        7       19\n",
      "2       12      6       16       10\n",
      "3       13     14       20       18\n",
      "4       18     19        9       15\n"
     ]
    }
   ],
   "source": [
    "import numpy as np\n",
    "\n",
    "random_marks_history=(np.random.rand(5) * 20).astype('int')\n",
    "\n",
    "marks_df['History'] = random_marks_history \n",
    "print(marks_df)"
   ]
  },
  {
   "cell_type": "code",
   "execution_count": 39,
   "id": "756042e1-5179-4169-8764-8f8a4d73f1c3",
   "metadata": {},
   "outputs": [
    {
     "name": "stdout",
     "output_type": "stream",
     "text": [
      "   English  Maths  Science  History  Chemistry\n",
      "0       20     15       15        2        NaN\n",
      "1       20     17        7       19       10.0\n",
      "2       12      6       16       10       12.0\n",
      "3       13     14       20       18       13.0\n",
      "4       18     19        9       15       15.0\n"
     ]
    }
   ],
   "source": [
    "chemistry = pd.Series([10,12,13,15,9], index=[1,2,3,4,5])\n",
    "marks_df['Chemistry']=chemistry\n",
    "\n",
    "print(marks_df)"
   ]
  },
  {
   "cell_type": "code",
   "execution_count": null,
   "id": "286e556c-1568-48bc-a822-1360f3f952cd",
   "metadata": {},
   "outputs": [],
   "source": []
  }
 ],
 "metadata": {
  "kernelspec": {
   "display_name": "Python 3 (ipykernel)",
   "language": "python",
   "name": "python3"
  },
  "language_info": {
   "codemirror_mode": {
    "name": "ipython",
    "version": 3
   },
   "file_extension": ".py",
   "mimetype": "text/x-python",
   "name": "python",
   "nbconvert_exporter": "python",
   "pygments_lexer": "ipython3",
   "version": "3.12.7"
  }
 },
 "nbformat": 4,
 "nbformat_minor": 5
}
