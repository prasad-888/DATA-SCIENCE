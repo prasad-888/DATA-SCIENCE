{
 "cells": [
  {
   "cell_type": "code",
   "execution_count": 1,
   "id": "bcdb29f5-6675-45af-99e4-46b5c6653886",
   "metadata": {},
   "outputs": [
    {
     "name": "stdout",
     "output_type": "stream",
     "text": [
      "0      Red\n",
      "1     Blue\n",
      "2    Green\n",
      "dtype: object\n"
     ]
    }
   ],
   "source": [
    "import pandas as pd\n",
    "\n",
    "colors = pd.Series(['Red', 'Blue', 'Green'])\n",
    "print(colors)"
   ]
  },
  {
   "cell_type": "code",
   "execution_count": 3,
   "id": "8f953322-9b75-4e1c-a5d7-11b0ae3d83d9",
   "metadata": {},
   "outputs": [
    {
     "name": "stdout",
     "output_type": "stream",
     "text": [
      "['Red' 'Blue' 'Green']\n"
     ]
    }
   ],
   "source": [
    "print(colors.values)"
   ]
  },
  {
   "cell_type": "code",
   "execution_count": 5,
   "id": "a08e6441-176c-4656-adad-a49e0e9c7b92",
   "metadata": {},
   "outputs": [
    {
     "name": "stdout",
     "output_type": "stream",
     "text": [
      "RangeIndex(start=0, stop=3, step=1)\n"
     ]
    }
   ],
   "source": [
    "print(colors.index)"
   ]
  },
  {
   "cell_type": "code",
   "execution_count": 7,
   "id": "4a16b380-4753-4ccd-b534-342bd66feb3a",
   "metadata": {},
   "outputs": [
    {
     "name": "stdout",
     "output_type": "stream",
     "text": [
      "Apple        Red\n",
      "Mango     Yellow\n",
      "Orange    Orange\n",
      "Grapes     Green\n",
      "dtype: object\n"
     ]
    }
   ],
   "source": [
    "fruits = pd.Series(['Red', 'Yellow', 'Orange', 'Green'], index=['Apple','Mango','Orange','Grapes'])\n",
    "print(fruits)"
   ]
  },
  {
   "cell_type": "code",
   "execution_count": 9,
   "id": "a3d52376-a3e2-43b3-a4fa-211ab82f1f28",
   "metadata": {},
   "outputs": [
    {
     "name": "stdout",
     "output_type": "stream",
     "text": [
      "Red\n"
     ]
    }
   ],
   "source": [
    "print(fruits[\"Apple\"])"
   ]
  },
  {
   "cell_type": "code",
   "execution_count": 11,
   "id": "af8da7e8-d50e-4313-b2a5-c60fc5bfa5c9",
   "metadata": {},
   "outputs": [],
   "source": [
    "fruits['Grapes']=\"Black\""
   ]
  },
  {
   "cell_type": "code",
   "execution_count": 13,
   "id": "58dfa334-7361-4d78-ba9b-718738a4f211",
   "metadata": {},
   "outputs": [
    {
     "name": "stdout",
     "output_type": "stream",
     "text": [
      "Apple        Red\n",
      "Mango     Yellow\n",
      "Orange    Orange\n",
      "Grapes     Black\n",
      "dtype: object\n"
     ]
    }
   ],
   "source": [
    "print(fruits)"
   ]
  },
  {
   "cell_type": "code",
   "execution_count": 17,
   "id": "cc0d21d5-470e-412c-ad44-8dce60306061",
   "metadata": {},
   "outputs": [
    {
     "name": "stdout",
     "output_type": "stream",
     "text": [
      "Mango     Yellow\n",
      "Orange    Orange\n",
      "Grapes     Black\n",
      "dtype: object\n"
     ]
    }
   ],
   "source": [
    "print(fruits[['Mango', 'Orange', 'Grapes']])"
   ]
  },
  {
   "cell_type": "code",
   "execution_count": 29,
   "id": "85929d5d-fe27-4e39-b587-fbad3ca898c7",
   "metadata": {},
   "outputs": [
    {
     "name": "stdout",
     "output_type": "stream",
     "text": [
      "Mango     Yellow\n",
      "Orange    Orange\n",
      "Apple        Red\n",
      "Grapes     Green\n",
      "dtype: object\n"
     ]
    }
   ],
   "source": [
    "import pandas as pd\n",
    "\n",
    "fruits={'Mango':'Yellow','Orange':'Orange','Apple':'Red','Grapes':'Green'}\n",
    "\n",
    "fruits_series = pd.Series(fruits)\n",
    "\n",
    "print(fruits_series)"
   ]
  },
  {
   "cell_type": "code",
   "execution_count": 33,
   "id": "add5f22b-62a9-4f30-a3b4-5193976dcedd",
   "metadata": {},
   "outputs": [
    {
     "name": "stdout",
     "output_type": "stream",
     "text": [
      "False\n"
     ]
    }
   ],
   "source": [
    "print('kiwi' in fruits_series)"
   ]
  },
  {
   "cell_type": "code",
   "execution_count": 35,
   "id": "07733d0d-d9c2-4aef-911c-005193d60405",
   "metadata": {},
   "outputs": [
    {
     "name": "stdout",
     "output_type": "stream",
     "text": [
      "True\n"
     ]
    }
   ],
   "source": [
    "print('Apple' in fruits_series)"
   ]
  },
  {
   "cell_type": "code",
   "execution_count": 37,
   "id": "c648051b-bdb0-4e0b-9d0e-e93105628190",
   "metadata": {},
   "outputs": [
    {
     "name": "stdout",
     "output_type": "stream",
     "text": [
      "Index(['Mango', 'Orange', 'Apple', 'Grapes'], dtype='object')\n"
     ]
    }
   ],
   "source": [
    "print(fruits_series.index)"
   ]
  },
  {
   "cell_type": "code",
   "execution_count": 39,
   "id": "236302fe-fc43-4d43-bd04-ca24465601d5",
   "metadata": {},
   "outputs": [
    {
     "name": "stdout",
     "output_type": "stream",
     "text": [
      "Apple        Red\n",
      "Mango     Yellow\n",
      "Orange    Orange\n",
      "Grapes     Green\n",
      "dtype: object\n"
     ]
    }
   ],
   "source": [
    "fruits_series= pd.Series(['Red','Yellow','Orange','Green'],\n",
    "                        index = ['Apple', 'Mango', 'Orange', 'Grapes'])\n",
    "print(fruits_series)"
   ]
  },
  {
   "cell_type": "code",
   "execution_count": 47,
   "id": "cdb6244d-aeec-4552-b467-62a6c9e9c927",
   "metadata": {},
   "outputs": [
    {
     "name": "stdout",
     "output_type": "stream",
     "text": [
      "Ganesh    18.0\n",
      "Raju       NaN\n",
      "Rakesh     NaN\n",
      "Ram       19.0\n",
      "Ramesh    22.0\n",
      "Sham      25.0\n",
      "dtype: float64\n"
     ]
    }
   ],
   "source": [
    "maths = pd.Series([10, 12, 8, 4, 18], index=['Ram','Sham','Ganesh','Ramesh','Raju'])\n",
    "english = pd.Series([9, 13, 10, 18, 8], index=['Ram','Sham','Ganesh','Ramesh','Rakesh'])\n",
    "\n",
    "total = maths + english\n",
    "print(total)"
   ]
  },
  {
   "cell_type": "code",
   "execution_count": 53,
   "id": "1c14628b-1fd7-4250-8e0d-991c5fb9d945",
   "metadata": {},
   "outputs": [
    {
     "name": "stdout",
     "output_type": "stream",
     "text": [
      "Ganesh    False\n",
      "Raju       True\n",
      "Rakesh     True\n",
      "Ram       False\n",
      "Ramesh    False\n",
      "Sham      False\n",
      "dtype: bool\n"
     ]
    }
   ],
   "source": [
    "print(total.isnull())"
   ]
  },
  {
   "cell_type": "code",
   "execution_count": 55,
   "id": "c9ab689c-c8f0-49cc-b0b9-bfef57c0cd08",
   "metadata": {},
   "outputs": [
    {
     "name": "stdout",
     "output_type": "stream",
     "text": [
      "Ganesh     True\n",
      "Raju      False\n",
      "Rakesh    False\n",
      "Ram        True\n",
      "Ramesh     True\n",
      "Sham       True\n",
      "dtype: bool\n"
     ]
    }
   ],
   "source": [
    "print(total.notnull())"
   ]
  },
  {
   "cell_type": "code",
   "execution_count": null,
   "id": "9546310c-0b09-4a79-83cf-bda6f83ec585",
   "metadata": {},
   "outputs": [],
   "source": []
  }
 ],
 "metadata": {
  "kernelspec": {
   "display_name": "Python 3 (ipykernel)",
   "language": "python",
   "name": "python3"
  },
  "language_info": {
   "codemirror_mode": {
    "name": "ipython",
    "version": 3
   },
   "file_extension": ".py",
   "mimetype": "text/x-python",
   "name": "python",
   "nbconvert_exporter": "python",
   "pygments_lexer": "ipython3",
   "version": "3.12.7"
  }
 },
 "nbformat": 4,
 "nbformat_minor": 5
}
